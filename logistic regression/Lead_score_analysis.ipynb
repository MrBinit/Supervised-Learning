{
 "cells": [
  {
   "cell_type": "markdown",
   "metadata": {},
   "source": [
    "# Lead Scoring Study "
   ]
  },
  {
   "cell_type": "markdown",
   "metadata": {},
   "source": [
    "## A. Problem Statment "
   ]
  },
  {
   "cell_type": "markdown",
   "metadata": {},
   "source": [
    "1. Building a logistic regression model to assign a lead score between 0 and 100 to each of the leads which can be used by the company to target potential leads\n",
    "2. Creating a model that can adjust according to company's requirements\n",
    "    - When sales team is recruited and the team wants to contact all the leads that has good chances of conversion\n",
    "    - When the sales team is involved in other project and will only call when there is a requirement "
   ]
  },
  {
   "cell_type": "markdown",
   "metadata": {},
   "source": [
    "#### Importing Revelant Libraries"
   ]
  },
  {
   "cell_type": "code",
   "execution_count": 3,
   "metadata": {},
   "outputs": [],
   "source": [
    "import numpy as np\n",
    "import pandas as pd\n",
    "\n",
    "import matplotlib.pyplot as plt\n",
    "from sklearn.metrics import confusion_matrix\n",
    "\n",
    "import warnings \n",
    "warnings.filterwarnings('ignore')"
   ]
  },
  {
   "cell_type": "code",
   "execution_count": 4,
   "metadata": {},
   "outputs": [],
   "source": [
    "df = pd.read_csv('/Users/mrbinit/Downloads/Leads.csv')"
   ]
  },
  {
   "cell_type": "code",
   "execution_count": 5,
   "metadata": {},
   "outputs": [
    {
     "data": {
      "text/plain": [
       "(9240, 37)"
      ]
     },
     "execution_count": 5,
     "metadata": {},
     "output_type": "execute_result"
    }
   ],
   "source": [
    "# checking the shape of dataframe \n",
    "\n",
    "df.shape"
   ]
  },
  {
   "cell_type": "code",
   "execution_count": 6,
   "metadata": {},
   "outputs": [
    {
     "data": {
      "text/html": [
       "<div>\n",
       "<style scoped>\n",
       "    .dataframe tbody tr th:only-of-type {\n",
       "        vertical-align: middle;\n",
       "    }\n",
       "\n",
       "    .dataframe tbody tr th {\n",
       "        vertical-align: top;\n",
       "    }\n",
       "\n",
       "    .dataframe thead th {\n",
       "        text-align: right;\n",
       "    }\n",
       "</style>\n",
       "<table border=\"1\" class=\"dataframe\">\n",
       "  <thead>\n",
       "    <tr style=\"text-align: right;\">\n",
       "      <th></th>\n",
       "      <th>Prospect ID</th>\n",
       "      <th>Lead Number</th>\n",
       "      <th>Lead Origin</th>\n",
       "      <th>Lead Source</th>\n",
       "      <th>Do Not Email</th>\n",
       "      <th>Do Not Call</th>\n",
       "      <th>Converted</th>\n",
       "      <th>TotalVisits</th>\n",
       "      <th>Total Time Spent on Website</th>\n",
       "      <th>Page Views Per Visit</th>\n",
       "      <th>...</th>\n",
       "      <th>Get updates on DM Content</th>\n",
       "      <th>Lead Profile</th>\n",
       "      <th>City</th>\n",
       "      <th>Asymmetrique Activity Index</th>\n",
       "      <th>Asymmetrique Profile Index</th>\n",
       "      <th>Asymmetrique Activity Score</th>\n",
       "      <th>Asymmetrique Profile Score</th>\n",
       "      <th>I agree to pay the amount through cheque</th>\n",
       "      <th>A free copy of Mastering The Interview</th>\n",
       "      <th>Last Notable Activity</th>\n",
       "    </tr>\n",
       "  </thead>\n",
       "  <tbody>\n",
       "    <tr>\n",
       "      <th>0</th>\n",
       "      <td>7927b2df-8bba-4d29-b9a2-b6e0beafe620</td>\n",
       "      <td>660737</td>\n",
       "      <td>API</td>\n",
       "      <td>Olark Chat</td>\n",
       "      <td>No</td>\n",
       "      <td>No</td>\n",
       "      <td>0</td>\n",
       "      <td>0.0</td>\n",
       "      <td>0</td>\n",
       "      <td>0.0</td>\n",
       "      <td>...</td>\n",
       "      <td>No</td>\n",
       "      <td>Select</td>\n",
       "      <td>Select</td>\n",
       "      <td>02.Medium</td>\n",
       "      <td>02.Medium</td>\n",
       "      <td>15.0</td>\n",
       "      <td>15.0</td>\n",
       "      <td>No</td>\n",
       "      <td>No</td>\n",
       "      <td>Modified</td>\n",
       "    </tr>\n",
       "    <tr>\n",
       "      <th>1</th>\n",
       "      <td>2a272436-5132-4136-86fa-dcc88c88f482</td>\n",
       "      <td>660728</td>\n",
       "      <td>API</td>\n",
       "      <td>Organic Search</td>\n",
       "      <td>No</td>\n",
       "      <td>No</td>\n",
       "      <td>0</td>\n",
       "      <td>5.0</td>\n",
       "      <td>674</td>\n",
       "      <td>2.5</td>\n",
       "      <td>...</td>\n",
       "      <td>No</td>\n",
       "      <td>Select</td>\n",
       "      <td>Select</td>\n",
       "      <td>02.Medium</td>\n",
       "      <td>02.Medium</td>\n",
       "      <td>15.0</td>\n",
       "      <td>15.0</td>\n",
       "      <td>No</td>\n",
       "      <td>No</td>\n",
       "      <td>Email Opened</td>\n",
       "    </tr>\n",
       "    <tr>\n",
       "      <th>2</th>\n",
       "      <td>8cc8c611-a219-4f35-ad23-fdfd2656bd8a</td>\n",
       "      <td>660727</td>\n",
       "      <td>Landing Page Submission</td>\n",
       "      <td>Direct Traffic</td>\n",
       "      <td>No</td>\n",
       "      <td>No</td>\n",
       "      <td>1</td>\n",
       "      <td>2.0</td>\n",
       "      <td>1532</td>\n",
       "      <td>2.0</td>\n",
       "      <td>...</td>\n",
       "      <td>No</td>\n",
       "      <td>Potential Lead</td>\n",
       "      <td>Mumbai</td>\n",
       "      <td>02.Medium</td>\n",
       "      <td>01.High</td>\n",
       "      <td>14.0</td>\n",
       "      <td>20.0</td>\n",
       "      <td>No</td>\n",
       "      <td>Yes</td>\n",
       "      <td>Email Opened</td>\n",
       "    </tr>\n",
       "    <tr>\n",
       "      <th>3</th>\n",
       "      <td>0cc2df48-7cf4-4e39-9de9-19797f9b38cc</td>\n",
       "      <td>660719</td>\n",
       "      <td>Landing Page Submission</td>\n",
       "      <td>Direct Traffic</td>\n",
       "      <td>No</td>\n",
       "      <td>No</td>\n",
       "      <td>0</td>\n",
       "      <td>1.0</td>\n",
       "      <td>305</td>\n",
       "      <td>1.0</td>\n",
       "      <td>...</td>\n",
       "      <td>No</td>\n",
       "      <td>Select</td>\n",
       "      <td>Mumbai</td>\n",
       "      <td>02.Medium</td>\n",
       "      <td>01.High</td>\n",
       "      <td>13.0</td>\n",
       "      <td>17.0</td>\n",
       "      <td>No</td>\n",
       "      <td>No</td>\n",
       "      <td>Modified</td>\n",
       "    </tr>\n",
       "    <tr>\n",
       "      <th>4</th>\n",
       "      <td>3256f628-e534-4826-9d63-4a8b88782852</td>\n",
       "      <td>660681</td>\n",
       "      <td>Landing Page Submission</td>\n",
       "      <td>Google</td>\n",
       "      <td>No</td>\n",
       "      <td>No</td>\n",
       "      <td>1</td>\n",
       "      <td>2.0</td>\n",
       "      <td>1428</td>\n",
       "      <td>1.0</td>\n",
       "      <td>...</td>\n",
       "      <td>No</td>\n",
       "      <td>Select</td>\n",
       "      <td>Mumbai</td>\n",
       "      <td>02.Medium</td>\n",
       "      <td>01.High</td>\n",
       "      <td>15.0</td>\n",
       "      <td>18.0</td>\n",
       "      <td>No</td>\n",
       "      <td>No</td>\n",
       "      <td>Modified</td>\n",
       "    </tr>\n",
       "  </tbody>\n",
       "</table>\n",
       "<p>5 rows × 37 columns</p>\n",
       "</div>"
      ],
      "text/plain": [
       "                            Prospect ID  Lead Number              Lead Origin   \n",
       "0  7927b2df-8bba-4d29-b9a2-b6e0beafe620       660737                      API  \\\n",
       "1  2a272436-5132-4136-86fa-dcc88c88f482       660728                      API   \n",
       "2  8cc8c611-a219-4f35-ad23-fdfd2656bd8a       660727  Landing Page Submission   \n",
       "3  0cc2df48-7cf4-4e39-9de9-19797f9b38cc       660719  Landing Page Submission   \n",
       "4  3256f628-e534-4826-9d63-4a8b88782852       660681  Landing Page Submission   \n",
       "\n",
       "      Lead Source Do Not Email Do Not Call  Converted  TotalVisits   \n",
       "0      Olark Chat           No          No          0          0.0  \\\n",
       "1  Organic Search           No          No          0          5.0   \n",
       "2  Direct Traffic           No          No          1          2.0   \n",
       "3  Direct Traffic           No          No          0          1.0   \n",
       "4          Google           No          No          1          2.0   \n",
       "\n",
       "   Total Time Spent on Website  Page Views Per Visit  ...   \n",
       "0                            0                   0.0  ...  \\\n",
       "1                          674                   2.5  ...   \n",
       "2                         1532                   2.0  ...   \n",
       "3                          305                   1.0  ...   \n",
       "4                         1428                   1.0  ...   \n",
       "\n",
       "  Get updates on DM Content    Lead Profile    City   \n",
       "0                        No          Select  Select  \\\n",
       "1                        No          Select  Select   \n",
       "2                        No  Potential Lead  Mumbai   \n",
       "3                        No          Select  Mumbai   \n",
       "4                        No          Select  Mumbai   \n",
       "\n",
       "  Asymmetrique Activity Index Asymmetrique Profile Index   \n",
       "0                   02.Medium                  02.Medium  \\\n",
       "1                   02.Medium                  02.Medium   \n",
       "2                   02.Medium                    01.High   \n",
       "3                   02.Medium                    01.High   \n",
       "4                   02.Medium                    01.High   \n",
       "\n",
       "  Asymmetrique Activity Score Asymmetrique Profile Score   \n",
       "0                        15.0                       15.0  \\\n",
       "1                        15.0                       15.0   \n",
       "2                        14.0                       20.0   \n",
       "3                        13.0                       17.0   \n",
       "4                        15.0                       18.0   \n",
       "\n",
       "  I agree to pay the amount through cheque   \n",
       "0                                       No  \\\n",
       "1                                       No   \n",
       "2                                       No   \n",
       "3                                       No   \n",
       "4                                       No   \n",
       "\n",
       "  A free copy of Mastering The Interview Last Notable Activity  \n",
       "0                                     No              Modified  \n",
       "1                                     No          Email Opened  \n",
       "2                                    Yes          Email Opened  \n",
       "3                                     No              Modified  \n",
       "4                                     No              Modified  \n",
       "\n",
       "[5 rows x 37 columns]"
      ]
     },
     "execution_count": 6,
     "metadata": {},
     "output_type": "execute_result"
    }
   ],
   "source": [
    "# observing the dataframe for the first time\n",
    "\n",
    "df.head()"
   ]
  },
  {
   "cell_type": "markdown",
   "metadata": {},
   "source": [
    "## B. Data Preperation and EDA"
   ]
  },
  {
   "cell_type": "code",
   "execution_count": 7,
   "metadata": {},
   "outputs": [
    {
     "data": {
      "text/plain": [
       "Index(['Specialization', 'How did you hear about X Education', 'Lead Profile',\n",
       "       'City'],\n",
       "      dtype='object')"
      ]
     },
     "execution_count": 7,
     "metadata": {},
     "output_type": "execute_result"
    }
   ],
   "source": [
    "# checking for columns with 'select' field\n",
    "# select is an option that was not selected during data entry\n",
    "\n",
    "df.columns[df.isin(['Select']).any()]"
   ]
  },
  {
   "cell_type": "code",
   "execution_count": 8,
   "metadata": {},
   "outputs": [],
   "source": [
    "# replacing 'Select' by nan in 'Specialization'\n",
    "\n",
    "df['Specialization'] = df['Specialization'].replace(np.nan, 'Select')"
   ]
  },
  {
   "cell_type": "code",
   "execution_count": 9,
   "metadata": {},
   "outputs": [],
   "source": [
    "# replacing 'Select' by nan in 'How did you hear about X Education'\n",
    "\n",
    "df['How did you hear about X Education'] = df['How did you hear about X Education'].replace(np.nan, 'Select')"
   ]
  },
  {
   "cell_type": "code",
   "execution_count": 10,
   "metadata": {},
   "outputs": [],
   "source": [
    "# replacing 'Select' by nan in 'Lead Profile'\n",
    "\n",
    "df['Lead Profile'] = df['Lead Profile'].replace(np.nan, 'Select')"
   ]
  },
  {
   "cell_type": "code",
   "execution_count": 11,
   "metadata": {},
   "outputs": [],
   "source": [
    "#replacing 'Select' by nan in 'City'\n",
    "\n",
    "df['City'] = df['City'].replace(np.nan, 'Select')"
   ]
  },
  {
   "cell_type": "code",
   "execution_count": 12,
   "metadata": {},
   "outputs": [
    {
     "data": {
      "text/plain": [
       "Prospect ID                                      0.00\n",
       "Lead Number                                      0.00\n",
       "Lead Origin                                      0.00\n",
       "Lead Source                                      0.00\n",
       "Do Not Email                                     0.00\n",
       "Do Not Call                                      0.00\n",
       "Converted                                        0.00\n",
       "TotalVisits                                      0.01\n",
       "Total Time Spent on Website                      0.00\n",
       "Page Views Per Visit                             0.01\n",
       "Last Activity                                    0.01\n",
       "Country                                          0.27\n",
       "Specialization                                   0.00\n",
       "How did you hear about X Education               0.00\n",
       "What is your current occupation                  0.29\n",
       "What matters most to you in choosing a course    0.29\n",
       "Search                                           0.00\n",
       "Magazine                                         0.00\n",
       "Newspaper Article                                0.00\n",
       "X Education Forums                               0.00\n",
       "Newspaper                                        0.00\n",
       "Digital Advertisement                            0.00\n",
       "Through Recommendations                          0.00\n",
       "Receive More Updates About Our Courses           0.00\n",
       "Tags                                             0.36\n",
       "Lead Quality                                     0.52\n",
       "Update me on Supply Chain Content                0.00\n",
       "Get updates on DM Content                        0.00\n",
       "Lead Profile                                     0.00\n",
       "City                                             0.00\n",
       "Asymmetrique Activity Index                      0.46\n",
       "Asymmetrique Profile Index                       0.46\n",
       "Asymmetrique Activity Score                      0.46\n",
       "Asymmetrique Profile Score                       0.46\n",
       "I agree to pay the amount through cheque         0.00\n",
       "A free copy of Mastering The Interview           0.00\n",
       "Last Notable Activity                            0.00\n",
       "dtype: float64"
      ]
     },
     "execution_count": 12,
     "metadata": {},
     "output_type": "execute_result"
    }
   ],
   "source": [
    "# checking the percentage of missing values \n",
    "\n",
    "round(df.isnull().sum()/len(df),2)"
   ]
  },
  {
   "cell_type": "markdown",
   "metadata": {},
   "source": [
    "#### Dropping rows with missing high percentage of missing values"
   ]
  },
  {
   "cell_type": "markdown",
   "metadata": {},
   "source": [
    "- 'Lead Quality' is a metric based on the intution of the employee who has been assigned the lead. With high missing values it does not hold significance to the model we will create"
   ]
  },
  {
   "cell_type": "code",
   "execution_count": 13,
   "metadata": {},
   "outputs": [],
   "source": [
    "# droppping 'Lead Quality'\n",
    "\n",
    "df.drop('Lead Quality' , axis =1 , inplace = True)"
   ]
  },
  {
   "cell_type": "markdown",
   "metadata": {},
   "source": [
    "#### Note"
   ]
  },
  {
   "cell_type": "markdown",
   "metadata": {},
   "source": [
    "The following are metrics assigned to each customer based on their activity and profile. It does not hold high significance to understand their state with hot leads specially when they have high missing values\n",
    "1. 'Asymmetrique Activity Index'\n",
    "2. 'Asymmetrique Profile Index'\n",
    "3. 'Asymmetrique Activity Score'\n",
    "4. 'Asymmetrique Profile Score'"
   ]
  },
  {
   "cell_type": "code",
   "execution_count": 14,
   "metadata": {},
   "outputs": [],
   "source": [
    "# dropping the above mentioned rows \n",
    "\n",
    "df.drop('Asymmetrique Activity Index' , axis =1 , inplace = True)\n",
    "\n",
    "df.drop('Asymmetrique Profile Index' , axis =1 , inplace = True)\n",
    "\n",
    "df.drop('Asymmetrique Activity Score' , axis =1 , inplace = True)\n",
    "\n",
    "df.drop('Asymmetrique Profile Score' , axis =1 , inplace = True)"
   ]
  },
  {
   "cell_type": "markdown",
   "metadata": {},
   "source": [
    "#### Note"
   ]
  },
  {
   "cell_type": "markdown",
   "metadata": {},
   "source": [
    "- 'Country' has significant number of missing values and is not a important variable for the problem statement we have"
   ]
  },
  {
   "cell_type": "code",
   "execution_count": 15,
   "metadata": {},
   "outputs": [],
   "source": [
    "# dropping 'Country'\n",
    "\n",
    "df.drop('Country' , axis =1 , inplace = True)"
   ]
  },
  {
   "cell_type": "code",
   "execution_count": 16,
   "metadata": {},
   "outputs": [
    {
     "data": {
      "text/plain": [
       "Prospect ID                                      0.00\n",
       "Lead Number                                      0.00\n",
       "Lead Origin                                      0.00\n",
       "Lead Source                                      0.00\n",
       "Do Not Email                                     0.00\n",
       "Do Not Call                                      0.00\n",
       "Converted                                        0.00\n",
       "TotalVisits                                      0.01\n",
       "Total Time Spent on Website                      0.00\n",
       "Page Views Per Visit                             0.01\n",
       "Last Activity                                    0.01\n",
       "Specialization                                   0.00\n",
       "How did you hear about X Education               0.00\n",
       "What is your current occupation                  0.29\n",
       "What matters most to you in choosing a course    0.29\n",
       "Search                                           0.00\n",
       "Magazine                                         0.00\n",
       "Newspaper Article                                0.00\n",
       "X Education Forums                               0.00\n",
       "Newspaper                                        0.00\n",
       "Digital Advertisement                            0.00\n",
       "Through Recommendations                          0.00\n",
       "Receive More Updates About Our Courses           0.00\n",
       "Tags                                             0.36\n",
       "Update me on Supply Chain Content                0.00\n",
       "Get updates on DM Content                        0.00\n",
       "Lead Profile                                     0.00\n",
       "City                                             0.00\n",
       "I agree to pay the amount through cheque         0.00\n",
       "A free copy of Mastering The Interview           0.00\n",
       "Last Notable Activity                            0.00\n",
       "dtype: float64"
      ]
     },
     "execution_count": 16,
     "metadata": {},
     "output_type": "execute_result"
    }
   ],
   "source": [
    "# checking the percentage of missing values \n",
    "\n",
    "round(df.isnull().sum()/len(df),2)"
   ]
  },
  {
   "cell_type": "code",
   "execution_count": 17,
   "metadata": {},
   "outputs": [
    {
     "data": {
      "text/plain": [
       "(9240, 31)"
      ]
     },
     "execution_count": 17,
     "metadata": {},
     "output_type": "execute_result"
    }
   ],
   "source": [
    "df.shape"
   ]
  },
  {
   "cell_type": "markdown",
   "metadata": {},
   "source": [
    "#### Note"
   ]
  },
  {
   "cell_type": "markdown",
   "metadata": {},
   "source": [
    "- 'What is your current occupation' , 'What matters most to you in choosing a course' and 'Tags' have might high number of missing values but they have important information for the problem statement. Doing some analysis on the same"
   ]
  },
  {
   "cell_type": "code",
   "execution_count": 18,
   "metadata": {},
   "outputs": [
    {
     "data": {
      "text/plain": [
       "What is your current occupation\n",
       "Unemployed              5600\n",
       "Working Professional     706\n",
       "Student                  210\n",
       "Other                     16\n",
       "Housewife                 10\n",
       "Businessman                8\n",
       "Name: count, dtype: int64"
      ]
     },
     "execution_count": 18,
     "metadata": {},
     "output_type": "execute_result"
    }
   ],
   "source": [
    "df['What is your current occupation'].value_counts()"
   ]
  },
  {
   "cell_type": "markdown",
   "metadata": {},
   "source": [
    "#### Note"
   ]
  },
  {
   "cell_type": "markdown",
   "metadata": {},
   "source": [
    "- The majority of information in 'What is your current occupation' does not have enough significance in the categorisation of hot leads. Between unemployed, workig professional and student it has most of the information. With high missing values this column is not significant enough. Thus dropping 'What is your current occupation'"
   ]
  },
  {
   "cell_type": "code",
   "execution_count": 19,
   "metadata": {},
   "outputs": [],
   "source": [
    "# dropping 'What is your current occupation'\n",
    "\n",
    "df.drop('What is your current occupation' , axis =1 , inplace = True)"
   ]
  },
  {
   "cell_type": "code",
   "execution_count": 20,
   "metadata": {},
   "outputs": [
    {
     "data": {
      "text/plain": [
       "What matters most to you in choosing a course\n",
       "Better Career Prospects      6528\n",
       "Flexibility & Convenience       2\n",
       "Other                           1\n",
       "Name: count, dtype: int64"
      ]
     },
     "execution_count": 20,
     "metadata": {},
     "output_type": "execute_result"
    }
   ],
   "source": [
    "df['What matters most to you in choosing a course'].value_counts()"
   ]
  },
  {
   "cell_type": "markdown",
   "metadata": {},
   "source": [
    "#### Note"
   ]
  },
  {
   "cell_type": "markdown",
   "metadata": {},
   "source": [
    "- 'What matters most to you in choosing a course' has most of its information as Better Career Prospects. Thus if we drop the column it will not make a lot of difference to the model"
   ]
  },
  {
   "cell_type": "code",
   "execution_count": 21,
   "metadata": {},
   "outputs": [],
   "source": [
    "# dropping 'What matters most to you in choosing a course'\n",
    "\n",
    "df.drop('What matters most to you in choosing a course' , axis =1 , inplace = True)"
   ]
  },
  {
   "cell_type": "code",
   "execution_count": 22,
   "metadata": {},
   "outputs": [
    {
     "data": {
      "text/plain": [
       "Tags\n",
       "Will revert after reading the email                  2072\n",
       "Ringing                                              1203\n",
       "Interested in other courses                           513\n",
       "Already a student                                     465\n",
       "Closed by Horizzon                                    358\n",
       "switched off                                          240\n",
       "Busy                                                  186\n",
       "Lost to EINS                                          175\n",
       "Not doing further education                           145\n",
       "Interested  in full time MBA                          117\n",
       "Graduation in progress                                111\n",
       "invalid number                                         83\n",
       "Diploma holder (Not Eligible)                          63\n",
       "wrong number given                                     47\n",
       "opp hangup                                             33\n",
       "number not provided                                    27\n",
       "in touch with EINS                                     12\n",
       "Lost to Others                                          7\n",
       "Still Thinking                                          6\n",
       "Want to take admission but has financial problems       6\n",
       "In confusion whether part time or DLP                   5\n",
       "Interested in Next batch                                5\n",
       "Lateral student                                         3\n",
       "Shall take in the next coming month                     2\n",
       "University not recognized                               2\n",
       "Recognition issue (DEC approval)                        1\n",
       "Name: count, dtype: int64"
      ]
     },
     "execution_count": 22,
     "metadata": {},
     "output_type": "execute_result"
    }
   ],
   "source": [
    "df['Tags'].value_counts()"
   ]
  },
  {
   "cell_type": "markdown",
   "metadata": {},
   "source": [
    "#### Note"
   ]
  },
  {
   "cell_type": "markdown",
   "metadata": {},
   "source": [
    "- The information with large values in 'Tags' such as -Will revert after reading the email- have less significance in making with regards to our problem statement. We can drop this column "
   ]
  },
  {
   "cell_type": "code",
   "execution_count": 23,
   "metadata": {},
   "outputs": [],
   "source": [
    "# dropping 'Tags'\n",
    "\n",
    "df.drop('Tags' , axis =1 , inplace = True)"
   ]
  },
  {
   "cell_type": "code",
   "execution_count": 24,
   "metadata": {},
   "outputs": [
    {
     "data": {
      "text/plain": [
       "Prospect ID                                 0.00\n",
       "Lead Number                                 0.00\n",
       "Lead Origin                                 0.00\n",
       "Lead Source                                 0.00\n",
       "Do Not Email                                0.00\n",
       "Do Not Call                                 0.00\n",
       "Converted                                   0.00\n",
       "TotalVisits                                 0.01\n",
       "Total Time Spent on Website                 0.00\n",
       "Page Views Per Visit                        0.01\n",
       "Last Activity                               0.01\n",
       "Specialization                              0.00\n",
       "How did you hear about X Education          0.00\n",
       "Search                                      0.00\n",
       "Magazine                                    0.00\n",
       "Newspaper Article                           0.00\n",
       "X Education Forums                          0.00\n",
       "Newspaper                                   0.00\n",
       "Digital Advertisement                       0.00\n",
       "Through Recommendations                     0.00\n",
       "Receive More Updates About Our Courses      0.00\n",
       "Update me on Supply Chain Content           0.00\n",
       "Get updates on DM Content                   0.00\n",
       "Lead Profile                                0.00\n",
       "City                                        0.00\n",
       "I agree to pay the amount through cheque    0.00\n",
       "A free copy of Mastering The Interview      0.00\n",
       "Last Notable Activity                       0.00\n",
       "dtype: float64"
      ]
     },
     "execution_count": 24,
     "metadata": {},
     "output_type": "execute_result"
    }
   ],
   "source": [
    "# checking the missing values now \n",
    "\n",
    "round(df.isnull().sum()/len(df.index),2)"
   ]
  },
  {
   "cell_type": "markdown",
   "metadata": {},
   "source": [
    "#### Note"
   ]
  },
  {
   "cell_type": "markdown",
   "metadata": {},
   "source": [
    "- We do not have significant missing values in the dataframe now. We can proceed to the next step. "
   ]
  },
  {
   "cell_type": "code",
   "execution_count": 25,
   "metadata": {},
   "outputs": [
    {
     "data": {
      "text/plain": [
       "(9240, 28)"
      ]
     },
     "execution_count": 25,
     "metadata": {},
     "output_type": "execute_result"
    }
   ],
   "source": [
    "df.shape"
   ]
  },
  {
   "cell_type": "markdown",
   "metadata": {},
   "source": [
    "#### Finding highly skewed columns"
   ]
  },
  {
   "cell_type": "markdown",
   "metadata": {},
   "source": [
    "- Skewed columns are columns that have categorical values but are highly polarised in terms of their data"
   ]
  },
  {
   "cell_type": "code",
   "execution_count": 26,
   "metadata": {},
   "outputs": [
    {
     "data": {
      "text/plain": [
       "Index(['Prospect ID', 'Lead Number', 'Lead Origin', 'Lead Source',\n",
       "       'Do Not Email', 'Do Not Call', 'Converted', 'TotalVisits',\n",
       "       'Total Time Spent on Website', 'Page Views Per Visit', 'Last Activity',\n",
       "       'Specialization', 'How did you hear about X Education', 'Search',\n",
       "       'Magazine', 'Newspaper Article', 'X Education Forums', 'Newspaper',\n",
       "       'Digital Advertisement', 'Through Recommendations',\n",
       "       'Receive More Updates About Our Courses',\n",
       "       'Update me on Supply Chain Content', 'Get updates on DM Content',\n",
       "       'Lead Profile', 'City', 'I agree to pay the amount through cheque',\n",
       "       'A free copy of Mastering The Interview', 'Last Notable Activity'],\n",
       "      dtype='object')"
      ]
     },
     "execution_count": 26,
     "metadata": {},
     "output_type": "execute_result"
    }
   ],
   "source": [
    "df.columns"
   ]
  },
  {
   "cell_type": "code",
   "execution_count": 27,
   "metadata": {},
   "outputs": [
    {
     "data": {
      "text/plain": [
       "Page Views Per Visit\n",
       "0.00    2189\n",
       "2.00    1795\n",
       "3.00    1196\n",
       "4.00     896\n",
       "1.00     651\n",
       "        ... \n",
       "3.43       1\n",
       "2.56       1\n",
       "6.33       1\n",
       "1.64       1\n",
       "2.08       1\n",
       "Name: count, Length: 114, dtype: int64"
      ]
     },
     "execution_count": 27,
     "metadata": {},
     "output_type": "execute_result"
    }
   ],
   "source": [
    "df['Page Views Per Visit'].value_counts()"
   ]
  },
  {
   "cell_type": "code",
   "execution_count": 28,
   "metadata": {},
   "outputs": [],
   "source": [
    "# dropping 'Do Not Call'\n",
    "\n",
    "df.drop('Do Not Call', axis =1 , inplace = True)"
   ]
  },
  {
   "cell_type": "code",
   "execution_count": 29,
   "metadata": {},
   "outputs": [
    {
     "data": {
      "text/plain": [
       "Magazine\n",
       "No    9240\n",
       "Name: count, dtype: int64"
      ]
     },
     "execution_count": 29,
     "metadata": {},
     "output_type": "execute_result"
    }
   ],
   "source": [
    "df['Magazine'].value_counts()"
   ]
  },
  {
   "cell_type": "code",
   "execution_count": 30,
   "metadata": {},
   "outputs": [],
   "source": [
    "# dropping 'Magazine'\n",
    "\n",
    "df.drop('Magazine', axis=1 , inplace = True)"
   ]
  },
  {
   "cell_type": "code",
   "execution_count": 31,
   "metadata": {},
   "outputs": [
    {
     "data": {
      "text/plain": [
       "Search\n",
       "No     9226\n",
       "Yes      14\n",
       "Name: count, dtype: int64"
      ]
     },
     "execution_count": 31,
     "metadata": {},
     "output_type": "execute_result"
    }
   ],
   "source": [
    "df['Search'].value_counts()"
   ]
  },
  {
   "cell_type": "code",
   "execution_count": 32,
   "metadata": {},
   "outputs": [],
   "source": [
    "# dropping 'Search'\n",
    "\n",
    "df.drop('Search' , axis =1, inplace =True)"
   ]
  },
  {
   "cell_type": "code",
   "execution_count": 33,
   "metadata": {},
   "outputs": [
    {
     "data": {
      "text/plain": [
       "Newspaper Article\n",
       "No     9238\n",
       "Yes       2\n",
       "Name: count, dtype: int64"
      ]
     },
     "execution_count": 33,
     "metadata": {},
     "output_type": "execute_result"
    }
   ],
   "source": [
    "df['Newspaper Article'].value_counts()"
   ]
  },
  {
   "cell_type": "code",
   "execution_count": 34,
   "metadata": {},
   "outputs": [],
   "source": [
    "# dropping 'Newspaper Article'\n",
    "\n",
    "df.drop('Newspaper Article', axis =1 , inplace = True)"
   ]
  },
  {
   "cell_type": "code",
   "execution_count": 35,
   "metadata": {},
   "outputs": [
    {
     "data": {
      "text/plain": [
       "X Education Forums\n",
       "No     9239\n",
       "Yes       1\n",
       "Name: count, dtype: int64"
      ]
     },
     "execution_count": 35,
     "metadata": {},
     "output_type": "execute_result"
    }
   ],
   "source": [
    "df['X Education Forums'].value_counts()"
   ]
  },
  {
   "cell_type": "code",
   "execution_count": 36,
   "metadata": {},
   "outputs": [],
   "source": [
    "# dropping 'X Education Forums'\n",
    "\n",
    "df.drop('X Education Forums', axis =1 , inplace = True)"
   ]
  },
  {
   "cell_type": "code",
   "execution_count": 37,
   "metadata": {},
   "outputs": [
    {
     "data": {
      "text/plain": [
       "Newspaper\n",
       "No     9239\n",
       "Yes       1\n",
       "Name: count, dtype: int64"
      ]
     },
     "execution_count": 37,
     "metadata": {},
     "output_type": "execute_result"
    }
   ],
   "source": [
    "df['Newspaper'].value_counts()"
   ]
  },
  {
   "cell_type": "code",
   "execution_count": 38,
   "metadata": {},
   "outputs": [],
   "source": [
    "# dropping 'Newspaper'\n",
    "\n",
    "df.drop('Newspaper', axis=1 , inplace = True)"
   ]
  },
  {
   "cell_type": "code",
   "execution_count": 39,
   "metadata": {},
   "outputs": [
    {
     "data": {
      "text/plain": [
       "Digital Advertisement\n",
       "No     9236\n",
       "Yes       4\n",
       "Name: count, dtype: int64"
      ]
     },
     "execution_count": 39,
     "metadata": {},
     "output_type": "execute_result"
    }
   ],
   "source": [
    "df['Digital Advertisement'].value_counts()"
   ]
  },
  {
   "cell_type": "code",
   "execution_count": 40,
   "metadata": {},
   "outputs": [],
   "source": [
    "# dropping 'Digital Advertisement'\n",
    "\n",
    "df.drop('Digital Advertisement', axis=1 , inplace = True)"
   ]
  },
  {
   "cell_type": "code",
   "execution_count": 41,
   "metadata": {},
   "outputs": [
    {
     "data": {
      "text/plain": [
       "Through Recommendations\n",
       "No     9233\n",
       "Yes       7\n",
       "Name: count, dtype: int64"
      ]
     },
     "execution_count": 41,
     "metadata": {},
     "output_type": "execute_result"
    }
   ],
   "source": [
    "df['Through Recommendations'].value_counts()"
   ]
  },
  {
   "cell_type": "code",
   "execution_count": 42,
   "metadata": {},
   "outputs": [],
   "source": [
    "# dropping 'Through Recommendations'\n",
    "\n",
    "df.drop('Through Recommendations', axis=1 , inplace = True)"
   ]
  },
  {
   "cell_type": "code",
   "execution_count": 43,
   "metadata": {},
   "outputs": [
    {
     "data": {
      "text/plain": [
       "Receive More Updates About Our Courses\n",
       "No    9240\n",
       "Name: count, dtype: int64"
      ]
     },
     "execution_count": 43,
     "metadata": {},
     "output_type": "execute_result"
    }
   ],
   "source": [
    "df['Receive More Updates About Our Courses'].value_counts()"
   ]
  },
  {
   "cell_type": "code",
   "execution_count": 44,
   "metadata": {},
   "outputs": [],
   "source": [
    "# dropping 'Receive More Updates About Our Courses'\n",
    "\n",
    "df.drop('Receive More Updates About Our Courses', axis=1 , inplace = True)"
   ]
  },
  {
   "cell_type": "code",
   "execution_count": 45,
   "metadata": {},
   "outputs": [
    {
     "data": {
      "text/plain": [
       "Update me on Supply Chain Content\n",
       "No    9240\n",
       "Name: count, dtype: int64"
      ]
     },
     "execution_count": 45,
     "metadata": {},
     "output_type": "execute_result"
    }
   ],
   "source": [
    "df['Update me on Supply Chain Content'].value_counts()"
   ]
  },
  {
   "cell_type": "code",
   "execution_count": 46,
   "metadata": {},
   "outputs": [],
   "source": [
    "# dropping 'Update me on Supply Chain Content'\n",
    "\n",
    "df.drop('Update me on Supply Chain Content', axis=1 , inplace = True)"
   ]
  },
  {
   "cell_type": "code",
   "execution_count": 47,
   "metadata": {},
   "outputs": [
    {
     "data": {
      "text/plain": [
       "Get updates on DM Content\n",
       "No    9240\n",
       "Name: count, dtype: int64"
      ]
     },
     "execution_count": 47,
     "metadata": {},
     "output_type": "execute_result"
    }
   ],
   "source": [
    "df['Get updates on DM Content'].value_counts()"
   ]
  },
  {
   "cell_type": "code",
   "execution_count": 48,
   "metadata": {},
   "outputs": [],
   "source": [
    "# dropping 'Get updates on DM Content'\n",
    "\n",
    "df.drop('Get updates on DM Content', axis=1 , inplace = True)"
   ]
  },
  {
   "cell_type": "code",
   "execution_count": 49,
   "metadata": {},
   "outputs": [
    {
     "data": {
      "text/plain": [
       "I agree to pay the amount through cheque\n",
       "No    9240\n",
       "Name: count, dtype: int64"
      ]
     },
     "execution_count": 49,
     "metadata": {},
     "output_type": "execute_result"
    }
   ],
   "source": [
    "df['I agree to pay the amount through cheque'].value_counts()"
   ]
  },
  {
   "cell_type": "code",
   "execution_count": 50,
   "metadata": {},
   "outputs": [],
   "source": [
    " # dropping 'I agree to pay the amount through cheque'\n",
    "\n",
    "df.drop('I agree to pay the amount through cheque', axis=1 , inplace = True)"
   ]
  },
  {
   "cell_type": "markdown",
   "metadata": {},
   "source": [
    "#### Note"
   ]
  },
  {
   "cell_type": "markdown",
   "metadata": {},
   "source": [
    "- The other columns do not have skewed values in the dataframe and we can proceed to the next step"
   ]
  },
  {
   "cell_type": "markdown",
   "metadata": {},
   "source": [
    "#### Checking for categorical columns with less percentage of rows"
   ]
  },
  {
   "cell_type": "code",
   "execution_count": 51,
   "metadata": {},
   "outputs": [
    {
     "data": {
      "text/plain": [
       "Index(['Prospect ID', 'Lead Number', 'Lead Origin', 'Lead Source',\n",
       "       'Do Not Email', 'Converted', 'TotalVisits',\n",
       "       'Total Time Spent on Website', 'Page Views Per Visit', 'Last Activity',\n",
       "       'Specialization', 'How did you hear about X Education', 'Lead Profile',\n",
       "       'City', 'A free copy of Mastering The Interview',\n",
       "       'Last Notable Activity'],\n",
       "      dtype='object')"
      ]
     },
     "execution_count": 51,
     "metadata": {},
     "output_type": "execute_result"
    }
   ],
   "source": [
    "df.columns"
   ]
  },
  {
   "cell_type": "code",
   "execution_count": 52,
   "metadata": {},
   "outputs": [
    {
     "data": {
      "text/plain": [
       "Lead Source\n",
       "Google               2868\n",
       "Direct Traffic       2543\n",
       "Olark Chat           1755\n",
       "Organic Search       1154\n",
       "Reference             534\n",
       "Welingak Website      142\n",
       "Referral Sites        125\n",
       "Facebook               55\n",
       "bing                    6\n",
       "google                  5\n",
       "Click2call              4\n",
       "Press_Release           2\n",
       "Social Media            2\n",
       "Live Chat               2\n",
       "youtubechannel          1\n",
       "testone                 1\n",
       "Pay per Click Ads       1\n",
       "welearnblog_Home        1\n",
       "WeLearn                 1\n",
       "blog                    1\n",
       "NC_EDM                  1\n",
       "Name: count, dtype: int64"
      ]
     },
     "execution_count": 52,
     "metadata": {},
     "output_type": "execute_result"
    }
   ],
   "source": [
    "df['Lead Source'].value_counts()"
   ]
  },
  {
   "cell_type": "code",
   "execution_count": 53,
   "metadata": {},
   "outputs": [],
   "source": [
    "# putting the values with less than 100 occurences in one category - other\n",
    "\n",
    "lis_ls = ['Facebook','bing','google','Click2call','Live Chat','Social Media','Press_Release','blog','Pay per Click Ads','welearnblog_Home','WeLearn','testone','NC_EDM','youtubechannel']\n",
    "\n",
    "df['Lead Source'] = df['Lead Source'].apply(lambda x : 'Other_ls' if x in lis_ls else x)\n"
   ]
  },
  {
   "cell_type": "code",
   "execution_count": 54,
   "metadata": {},
   "outputs": [
    {
     "data": {
      "text/plain": [
       "Lead Source\n",
       "Google              2868\n",
       "Direct Traffic      2543\n",
       "Olark Chat          1755\n",
       "Organic Search      1154\n",
       "Reference            534\n",
       "Welingak Website     142\n",
       "Referral Sites       125\n",
       "Other_ls              83\n",
       "Name: count, dtype: int64"
      ]
     },
     "execution_count": 54,
     "metadata": {},
     "output_type": "execute_result"
    }
   ],
   "source": [
    "df['Lead Source'].value_counts()"
   ]
  },
  {
   "cell_type": "code",
   "execution_count": 55,
   "metadata": {},
   "outputs": [
    {
     "data": {
      "text/plain": [
       "How did you hear about X Education\n",
       "Select                   7250\n",
       "Online Search             808\n",
       "Word Of Mouth             348\n",
       "Student of SomeSchool     310\n",
       "Other                     186\n",
       "Multiple Sources          152\n",
       "Advertisements             70\n",
       "Social Media               67\n",
       "Email                      26\n",
       "SMS                        23\n",
       "Name: count, dtype: int64"
      ]
     },
     "execution_count": 55,
     "metadata": {},
     "output_type": "execute_result"
    }
   ],
   "source": [
    "df['How did you hear about X Education'].value_counts()"
   ]
  },
  {
   "cell_type": "code",
   "execution_count": 56,
   "metadata": {},
   "outputs": [],
   "source": [
    "# putting the values with less than 100 occurences in one category - other\n",
    "\n",
    "lis_ed = ['Advertisements','Social Media','Email','SMS']\n",
    "\n",
    "df['How did you hear about X Education'] = df['How did you hear about X Education'].apply(lambda x : 'Other_ed' if x in lis_ed else x)"
   ]
  },
  {
   "cell_type": "code",
   "execution_count": 57,
   "metadata": {},
   "outputs": [
    {
     "data": {
      "text/plain": [
       "How did you hear about X Education\n",
       "Select                   7250\n",
       "Online Search             808\n",
       "Word Of Mouth             348\n",
       "Student of SomeSchool     310\n",
       "Other                     186\n",
       "Other_ed                  186\n",
       "Multiple Sources          152\n",
       "Name: count, dtype: int64"
      ]
     },
     "execution_count": 57,
     "metadata": {},
     "output_type": "execute_result"
    }
   ],
   "source": [
    "df['How did you hear about X Education'].value_counts()"
   ]
  },
  {
   "cell_type": "code",
   "execution_count": 58,
   "metadata": {},
   "outputs": [
    {
     "data": {
      "text/plain": [
       "Lead Profile\n",
       "Select                         6855\n",
       "Potential Lead                 1613\n",
       "Other Leads                     487\n",
       "Student of SomeSchool           241\n",
       "Lateral Student                  24\n",
       "Dual Specialization Student      20\n",
       "Name: count, dtype: int64"
      ]
     },
     "execution_count": 58,
     "metadata": {},
     "output_type": "execute_result"
    }
   ],
   "source": [
    "df['Lead Profile'].value_counts()"
   ]
  },
  {
   "cell_type": "code",
   "execution_count": 59,
   "metadata": {},
   "outputs": [],
   "source": [
    "lis_lp = ['Lateral Student','Dual Specialization Student']\n",
    "\n",
    "df['Lead Profile'] = df['Lead Profile'].apply(lambda x : 'Other_lp' if x in lis_lp else x)"
   ]
  },
  {
   "cell_type": "code",
   "execution_count": 60,
   "metadata": {},
   "outputs": [
    {
     "data": {
      "text/plain": [
       "Lead Profile\n",
       "Select                   6855\n",
       "Potential Lead           1613\n",
       "Other Leads               487\n",
       "Student of SomeSchool     241\n",
       "Other_lp                   44\n",
       "Name: count, dtype: int64"
      ]
     },
     "execution_count": 60,
     "metadata": {},
     "output_type": "execute_result"
    }
   ],
   "source": [
    "df['Lead Profile'].value_counts()"
   ]
  },
  {
   "cell_type": "code",
   "execution_count": 61,
   "metadata": {},
   "outputs": [
    {
     "data": {
      "text/plain": [
       "Last Activity\n",
       "Email Opened                    3437\n",
       "SMS Sent                        2745\n",
       "Olark Chat Conversation          973\n",
       "Page Visited on Website          640\n",
       "Converted to Lead                428\n",
       "Email Bounced                    326\n",
       "Email Link Clicked               267\n",
       "Form Submitted on Website        116\n",
       "Unreachable                       93\n",
       "Unsubscribed                      61\n",
       "Had a Phone Conversation          30\n",
       "Approached upfront                 9\n",
       "View in browser link Clicked       6\n",
       "Email Received                     2\n",
       "Email Marked Spam                  2\n",
       "Visited Booth in Tradeshow         1\n",
       "Resubscribed to emails             1\n",
       "Name: count, dtype: int64"
      ]
     },
     "execution_count": 61,
     "metadata": {},
     "output_type": "execute_result"
    }
   ],
   "source": [
    "df['Last Activity'].value_counts()"
   ]
  },
  {
   "cell_type": "code",
   "execution_count": 62,
   "metadata": {},
   "outputs": [],
   "source": [
    "lis_la = ['Unreachable','Unsubscribed','Had a Phone Conversation','View in browser link Clicked','Approached upfront','Email Marked Spam','Email Received','Resubscribed to emails','Visited Booth in Tradeshow']\n",
    "\n",
    "df['Last Activity'] = df['Last Activity'].apply(lambda x : 'Other_la' if x in lis_la else x)"
   ]
  },
  {
   "cell_type": "code",
   "execution_count": 63,
   "metadata": {},
   "outputs": [
    {
     "data": {
      "text/plain": [
       "Last Activity\n",
       "Email Opened                 3437\n",
       "SMS Sent                     2745\n",
       "Olark Chat Conversation       973\n",
       "Page Visited on Website       640\n",
       "Converted to Lead             428\n",
       "Email Bounced                 326\n",
       "Email Link Clicked            267\n",
       "Other_la                      205\n",
       "Form Submitted on Website     116\n",
       "Name: count, dtype: int64"
      ]
     },
     "execution_count": 63,
     "metadata": {},
     "output_type": "execute_result"
    }
   ],
   "source": [
    "df['Last Activity'].value_counts()"
   ]
  },
  {
   "cell_type": "code",
   "execution_count": 64,
   "metadata": {},
   "outputs": [
    {
     "data": {
      "text/plain": [
       "Last Notable Activity\n",
       "Modified                        3407\n",
       "Email Opened                    2827\n",
       "SMS Sent                        2172\n",
       "Page Visited on Website          318\n",
       "Olark Chat Conversation          183\n",
       "Email Link Clicked               173\n",
       "Email Bounced                     60\n",
       "Unsubscribed                      47\n",
       "Unreachable                       32\n",
       "Had a Phone Conversation          14\n",
       "Email Marked Spam                  2\n",
       "Approached upfront                 1\n",
       "Resubscribed to emails             1\n",
       "View in browser link Clicked       1\n",
       "Form Submitted on Website          1\n",
       "Email Received                     1\n",
       "Name: count, dtype: int64"
      ]
     },
     "execution_count": 64,
     "metadata": {},
     "output_type": "execute_result"
    }
   ],
   "source": [
    "df['Last Notable Activity'].value_counts()"
   ]
  },
  {
   "cell_type": "code",
   "execution_count": 65,
   "metadata": {},
   "outputs": [],
   "source": [
    "lis_na = ['Email Bounced','Unsubscribed','Unreachable','Had a Phone Conversation','Email Marked Spam','Resubscribed to emails','Email Received','Form Submitted on Website','View in browser link Clicked','Approached upfront']\n",
    "\n",
    "df['Last Notable Activity'] = df['Last Notable Activity'].apply(lambda x : 'Other_na' if x in lis_na else x)"
   ]
  },
  {
   "cell_type": "code",
   "execution_count": 66,
   "metadata": {},
   "outputs": [
    {
     "data": {
      "text/plain": [
       "Last Notable Activity\n",
       "Modified                   3407\n",
       "Email Opened               2827\n",
       "SMS Sent                   2172\n",
       "Page Visited on Website     318\n",
       "Olark Chat Conversation     183\n",
       "Email Link Clicked          173\n",
       "Other_na                    160\n",
       "Name: count, dtype: int64"
      ]
     },
     "execution_count": 66,
     "metadata": {},
     "output_type": "execute_result"
    }
   ],
   "source": [
    "df['Last Notable Activity'].value_counts()"
   ]
  },
  {
   "cell_type": "code",
   "execution_count": 67,
   "metadata": {},
   "outputs": [
    {
     "data": {
      "text/plain": [
       "Prospect ID                               0.00\n",
       "Lead Number                               0.00\n",
       "Lead Origin                               0.00\n",
       "Lead Source                               0.00\n",
       "Do Not Email                              0.00\n",
       "Converted                                 0.00\n",
       "TotalVisits                               0.01\n",
       "Total Time Spent on Website               0.00\n",
       "Page Views Per Visit                      0.01\n",
       "Last Activity                             0.01\n",
       "Specialization                            0.00\n",
       "How did you hear about X Education        0.00\n",
       "Lead Profile                              0.00\n",
       "City                                      0.00\n",
       "A free copy of Mastering The Interview    0.00\n",
       "Last Notable Activity                     0.00\n",
       "dtype: float64"
      ]
     },
     "execution_count": 67,
     "metadata": {},
     "output_type": "execute_result"
    }
   ],
   "source": [
    "round(df.isnull().sum()/len(df.index),2)"
   ]
  },
  {
   "cell_type": "markdown",
   "metadata": {},
   "source": [
    "#### Removing any remaining null values"
   ]
  },
  {
   "cell_type": "code",
   "execution_count": 68,
   "metadata": {},
   "outputs": [
    {
     "data": {
      "text/plain": [
       "Prospect ID                               0.00\n",
       "Lead Number                               0.00\n",
       "Lead Origin                               0.00\n",
       "Lead Source                               0.00\n",
       "Do Not Email                              0.00\n",
       "Converted                                 0.00\n",
       "TotalVisits                               0.01\n",
       "Total Time Spent on Website               0.00\n",
       "Page Views Per Visit                      0.01\n",
       "Last Activity                             0.01\n",
       "Specialization                            0.00\n",
       "How did you hear about X Education        0.00\n",
       "Lead Profile                              0.00\n",
       "City                                      0.00\n",
       "A free copy of Mastering The Interview    0.00\n",
       "Last Notable Activity                     0.00\n",
       "dtype: float64"
      ]
     },
     "execution_count": 68,
     "metadata": {},
     "output_type": "execute_result"
    }
   ],
   "source": [
    "round(df.isnull().sum()/len(df.index),2)"
   ]
  },
  {
   "cell_type": "code",
   "execution_count": 69,
   "metadata": {},
   "outputs": [],
   "source": [
    "# dropping the null values in the remaiaining columns as their number is very small \n",
    "\n",
    "df.dropna(inplace = True)"
   ]
  },
  {
   "cell_type": "code",
   "execution_count": 70,
   "metadata": {},
   "outputs": [
    {
     "data": {
      "text/plain": [
       "Prospect ID                               0.0\n",
       "Lead Number                               0.0\n",
       "Lead Origin                               0.0\n",
       "Lead Source                               0.0\n",
       "Do Not Email                              0.0\n",
       "Converted                                 0.0\n",
       "TotalVisits                               0.0\n",
       "Total Time Spent on Website               0.0\n",
       "Page Views Per Visit                      0.0\n",
       "Last Activity                             0.0\n",
       "Specialization                            0.0\n",
       "How did you hear about X Education        0.0\n",
       "Lead Profile                              0.0\n",
       "City                                      0.0\n",
       "A free copy of Mastering The Interview    0.0\n",
       "Last Notable Activity                     0.0\n",
       "dtype: float64"
      ]
     },
     "execution_count": 70,
     "metadata": {},
     "output_type": "execute_result"
    }
   ],
   "source": [
    "# checking for the null variables \n",
    "\n",
    "round(df.isnull().sum()/len(df.index),2)"
   ]
  },
  {
   "cell_type": "code",
   "execution_count": 71,
   "metadata": {},
   "outputs": [
    {
     "data": {
      "text/plain": [
       "(9074, 16)"
      ]
     },
     "execution_count": 71,
     "metadata": {},
     "output_type": "execute_result"
    }
   ],
   "source": [
    "df.shape"
   ]
  },
  {
   "cell_type": "code",
   "execution_count": 72,
   "metadata": {},
   "outputs": [
    {
     "name": "stdout",
     "output_type": "stream",
     "text": [
      "0.982034632034632\n"
     ]
    }
   ],
   "source": [
    "#### Checking the percentage of the rows that are left\n",
    "\n",
    "a = len(df.index)/9240\n",
    "print(a)"
   ]
  },
  {
   "cell_type": "code",
   "execution_count": 73,
   "metadata": {},
   "outputs": [],
   "source": [
    "# We have retainied more than 98 percentage of the rows after removing the null values "
   ]
  },
  {
   "cell_type": "markdown",
   "metadata": {},
   "source": [
    "#### Creating Dummies for all the categorical variables "
   ]
  },
  {
   "cell_type": "code",
   "execution_count": 74,
   "metadata": {},
   "outputs": [
    {
     "name": "stdout",
     "output_type": "stream",
     "text": [
      "<class 'pandas.core.frame.DataFrame'>\n",
      "Index: 9074 entries, 0 to 9239\n",
      "Data columns (total 16 columns):\n",
      " #   Column                                  Non-Null Count  Dtype  \n",
      "---  ------                                  --------------  -----  \n",
      " 0   Prospect ID                             9074 non-null   object \n",
      " 1   Lead Number                             9074 non-null   int64  \n",
      " 2   Lead Origin                             9074 non-null   object \n",
      " 3   Lead Source                             9074 non-null   object \n",
      " 4   Do Not Email                            9074 non-null   object \n",
      " 5   Converted                               9074 non-null   int64  \n",
      " 6   TotalVisits                             9074 non-null   float64\n",
      " 7   Total Time Spent on Website             9074 non-null   int64  \n",
      " 8   Page Views Per Visit                    9074 non-null   float64\n",
      " 9   Last Activity                           9074 non-null   object \n",
      " 10  Specialization                          9074 non-null   object \n",
      " 11  How did you hear about X Education      9074 non-null   object \n",
      " 12  Lead Profile                            9074 non-null   object \n",
      " 13  City                                    9074 non-null   object \n",
      " 14  A free copy of Mastering The Interview  9074 non-null   object \n",
      " 15  Last Notable Activity                   9074 non-null   object \n",
      "dtypes: float64(2), int64(3), object(11)\n",
      "memory usage: 1.2+ MB\n"
     ]
    }
   ],
   "source": [
    "df.info()"
   ]
  },
  {
   "cell_type": "markdown",
   "metadata": {},
   "source": [
    "#### Variable One : Lead Origin"
   ]
  },
  {
   "cell_type": "code",
   "execution_count": 75,
   "metadata": {},
   "outputs": [
    {
     "data": {
      "text/html": [
       "<div>\n",
       "<style scoped>\n",
       "    .dataframe tbody tr th:only-of-type {\n",
       "        vertical-align: middle;\n",
       "    }\n",
       "\n",
       "    .dataframe tbody tr th {\n",
       "        vertical-align: top;\n",
       "    }\n",
       "\n",
       "    .dataframe thead th {\n",
       "        text-align: right;\n",
       "    }\n",
       "</style>\n",
       "<table border=\"1\" class=\"dataframe\">\n",
       "  <thead>\n",
       "    <tr style=\"text-align: right;\">\n",
       "      <th></th>\n",
       "      <th>Landing Page Submission</th>\n",
       "      <th>Lead Add Form</th>\n",
       "      <th>Lead Import</th>\n",
       "    </tr>\n",
       "  </thead>\n",
       "  <tbody>\n",
       "    <tr>\n",
       "      <th>0</th>\n",
       "      <td>0</td>\n",
       "      <td>0</td>\n",
       "      <td>0</td>\n",
       "    </tr>\n",
       "    <tr>\n",
       "      <th>1</th>\n",
       "      <td>0</td>\n",
       "      <td>0</td>\n",
       "      <td>0</td>\n",
       "    </tr>\n",
       "    <tr>\n",
       "      <th>2</th>\n",
       "      <td>1</td>\n",
       "      <td>0</td>\n",
       "      <td>0</td>\n",
       "    </tr>\n",
       "    <tr>\n",
       "      <th>3</th>\n",
       "      <td>1</td>\n",
       "      <td>0</td>\n",
       "      <td>0</td>\n",
       "    </tr>\n",
       "    <tr>\n",
       "      <th>4</th>\n",
       "      <td>1</td>\n",
       "      <td>0</td>\n",
       "      <td>0</td>\n",
       "    </tr>\n",
       "  </tbody>\n",
       "</table>\n",
       "</div>"
      ],
      "text/plain": [
       "   Landing Page Submission  Lead Add Form  Lead Import\n",
       "0                        0              0            0\n",
       "1                        0              0            0\n",
       "2                        1              0            0\n",
       "3                        1              0            0\n",
       "4                        1              0            0"
      ]
     },
     "execution_count": 75,
     "metadata": {},
     "output_type": "execute_result"
    }
   ],
   "source": [
    "leadorigin_dummy = pd.get_dummies(df['Lead Origin'], drop_first = True)\n",
    "leadorigin_dummy = leadorigin_dummy.astype(int)\n",
    "leadorigin_dummy.head()"
   ]
  },
  {
   "cell_type": "markdown",
   "metadata": {},
   "source": [
    "#### Variable Two : Lead Source"
   ]
  },
  {
   "cell_type": "code",
   "execution_count": 76,
   "metadata": {},
   "outputs": [
    {
     "data": {
      "text/html": [
       "<div>\n",
       "<style scoped>\n",
       "    .dataframe tbody tr th:only-of-type {\n",
       "        vertical-align: middle;\n",
       "    }\n",
       "\n",
       "    .dataframe tbody tr th {\n",
       "        vertical-align: top;\n",
       "    }\n",
       "\n",
       "    .dataframe thead th {\n",
       "        text-align: right;\n",
       "    }\n",
       "</style>\n",
       "<table border=\"1\" class=\"dataframe\">\n",
       "  <thead>\n",
       "    <tr style=\"text-align: right;\">\n",
       "      <th></th>\n",
       "      <th>Google</th>\n",
       "      <th>Olark Chat</th>\n",
       "      <th>Organic Search</th>\n",
       "      <th>Other_ls</th>\n",
       "      <th>Reference</th>\n",
       "      <th>Referral Sites</th>\n",
       "      <th>Welingak Website</th>\n",
       "    </tr>\n",
       "  </thead>\n",
       "  <tbody>\n",
       "    <tr>\n",
       "      <th>0</th>\n",
       "      <td>0</td>\n",
       "      <td>1</td>\n",
       "      <td>0</td>\n",
       "      <td>0</td>\n",
       "      <td>0</td>\n",
       "      <td>0</td>\n",
       "      <td>0</td>\n",
       "    </tr>\n",
       "    <tr>\n",
       "      <th>1</th>\n",
       "      <td>0</td>\n",
       "      <td>0</td>\n",
       "      <td>1</td>\n",
       "      <td>0</td>\n",
       "      <td>0</td>\n",
       "      <td>0</td>\n",
       "      <td>0</td>\n",
       "    </tr>\n",
       "    <tr>\n",
       "      <th>2</th>\n",
       "      <td>0</td>\n",
       "      <td>0</td>\n",
       "      <td>0</td>\n",
       "      <td>0</td>\n",
       "      <td>0</td>\n",
       "      <td>0</td>\n",
       "      <td>0</td>\n",
       "    </tr>\n",
       "    <tr>\n",
       "      <th>3</th>\n",
       "      <td>0</td>\n",
       "      <td>0</td>\n",
       "      <td>0</td>\n",
       "      <td>0</td>\n",
       "      <td>0</td>\n",
       "      <td>0</td>\n",
       "      <td>0</td>\n",
       "    </tr>\n",
       "    <tr>\n",
       "      <th>4</th>\n",
       "      <td>1</td>\n",
       "      <td>0</td>\n",
       "      <td>0</td>\n",
       "      <td>0</td>\n",
       "      <td>0</td>\n",
       "      <td>0</td>\n",
       "      <td>0</td>\n",
       "    </tr>\n",
       "  </tbody>\n",
       "</table>\n",
       "</div>"
      ],
      "text/plain": [
       "   Google  Olark Chat  Organic Search  Other_ls  Reference  Referral Sites   \n",
       "0       0           1               0         0          0               0  \\\n",
       "1       0           0               1         0          0               0   \n",
       "2       0           0               0         0          0               0   \n",
       "3       0           0               0         0          0               0   \n",
       "4       1           0               0         0          0               0   \n",
       "\n",
       "   Welingak Website  \n",
       "0                 0  \n",
       "1                 0  \n",
       "2                 0  \n",
       "3                 0  \n",
       "4                 0  "
      ]
     },
     "execution_count": 76,
     "metadata": {},
     "output_type": "execute_result"
    }
   ],
   "source": [
    "leadsource_dummy = pd.get_dummies(df['Lead Source'], drop_first = True)\n",
    "leadsource_dummy = leadsource_dummy.astype(int)\n",
    "leadsource_dummy.head()"
   ]
  },
  {
   "cell_type": "markdown",
   "metadata": {},
   "source": [
    "#### Variable Three : Do Not Email"
   ]
  },
  {
   "cell_type": "code",
   "execution_count": 77,
   "metadata": {},
   "outputs": [],
   "source": [
    "# creating a function to clearly mention the yes and its related variable\n",
    "\n",
    "def email(x):\n",
    "    if x == 'Yes':\n",
    "        return 'yes_email'\n",
    "    else:\n",
    "        return 'no_email'"
   ]
  },
  {
   "cell_type": "code",
   "execution_count": 78,
   "metadata": {},
   "outputs": [],
   "source": [
    "\n",
    "df['Do Not Email'] = df['Do Not Email'].apply(email)"
   ]
  },
  {
   "cell_type": "code",
   "execution_count": 79,
   "metadata": {},
   "outputs": [
    {
     "data": {
      "text/html": [
       "<div>\n",
       "<style scoped>\n",
       "    .dataframe tbody tr th:only-of-type {\n",
       "        vertical-align: middle;\n",
       "    }\n",
       "\n",
       "    .dataframe tbody tr th {\n",
       "        vertical-align: top;\n",
       "    }\n",
       "\n",
       "    .dataframe thead th {\n",
       "        text-align: right;\n",
       "    }\n",
       "</style>\n",
       "<table border=\"1\" class=\"dataframe\">\n",
       "  <thead>\n",
       "    <tr style=\"text-align: right;\">\n",
       "      <th></th>\n",
       "      <th>yes_email</th>\n",
       "    </tr>\n",
       "  </thead>\n",
       "  <tbody>\n",
       "    <tr>\n",
       "      <th>0</th>\n",
       "      <td>0</td>\n",
       "    </tr>\n",
       "    <tr>\n",
       "      <th>1</th>\n",
       "      <td>0</td>\n",
       "    </tr>\n",
       "    <tr>\n",
       "      <th>2</th>\n",
       "      <td>0</td>\n",
       "    </tr>\n",
       "    <tr>\n",
       "      <th>3</th>\n",
       "      <td>0</td>\n",
       "    </tr>\n",
       "    <tr>\n",
       "      <th>4</th>\n",
       "      <td>0</td>\n",
       "    </tr>\n",
       "  </tbody>\n",
       "</table>\n",
       "</div>"
      ],
      "text/plain": [
       "   yes_email\n",
       "0          0\n",
       "1          0\n",
       "2          0\n",
       "3          0\n",
       "4          0"
      ]
     },
     "execution_count": 79,
     "metadata": {},
     "output_type": "execute_result"
    }
   ],
   "source": [
    "donotemail_dummy = pd.get_dummies(df['Do Not Email'], drop_first = True)\n",
    "donotemail_dummy = donotemail_dummy.astype(int)\n",
    "donotemail_dummy.head()"
   ]
  },
  {
   "cell_type": "markdown",
   "metadata": {},
   "source": [
    "#### Variable Four : Last Activity "
   ]
  },
  {
   "cell_type": "code",
   "execution_count": 80,
   "metadata": {},
   "outputs": [],
   "source": [
    "def sms(x):\n",
    "    if x == 'SMS Sent':\n",
    "        return 'sms_sent_la'\n",
    "    if x == 'Olark Chat Conversation':\n",
    "        return 'Olark_Chat_Conversation_la'\n",
    "    else:\n",
    "        return x"
   ]
  },
  {
   "cell_type": "code",
   "execution_count": 81,
   "metadata": {},
   "outputs": [],
   "source": [
    "df['Last Activity'] = df['Last Activity'].apply(sms)"
   ]
  },
  {
   "cell_type": "code",
   "execution_count": 82,
   "metadata": {},
   "outputs": [
    {
     "data": {
      "text/plain": [
       "Last Activity\n",
       "Email Opened                  3432\n",
       "sms_sent_la                   2716\n",
       "Olark_Chat_Conversation_la     972\n",
       "Page Visited on Website        640\n",
       "Converted to Lead              428\n",
       "Email Bounced                  312\n",
       "Email Link Clicked             267\n",
       "Other_la                       191\n",
       "Form Submitted on Website      116\n",
       "Name: count, dtype: int64"
      ]
     },
     "execution_count": 82,
     "metadata": {},
     "output_type": "execute_result"
    }
   ],
   "source": [
    "df['Last Activity'].value_counts()"
   ]
  },
  {
   "cell_type": "code",
   "execution_count": 83,
   "metadata": {},
   "outputs": [
    {
     "data": {
      "text/html": [
       "<div>\n",
       "<style scoped>\n",
       "    .dataframe tbody tr th:only-of-type {\n",
       "        vertical-align: middle;\n",
       "    }\n",
       "\n",
       "    .dataframe tbody tr th {\n",
       "        vertical-align: top;\n",
       "    }\n",
       "\n",
       "    .dataframe thead th {\n",
       "        text-align: right;\n",
       "    }\n",
       "</style>\n",
       "<table border=\"1\" class=\"dataframe\">\n",
       "  <thead>\n",
       "    <tr style=\"text-align: right;\">\n",
       "      <th></th>\n",
       "      <th>Email Bounced</th>\n",
       "      <th>Email Link Clicked</th>\n",
       "      <th>Email Opened</th>\n",
       "      <th>Form Submitted on Website</th>\n",
       "      <th>Olark_Chat_Conversation_la</th>\n",
       "      <th>Other_la</th>\n",
       "      <th>Page Visited on Website</th>\n",
       "      <th>sms_sent_la</th>\n",
       "    </tr>\n",
       "  </thead>\n",
       "  <tbody>\n",
       "    <tr>\n",
       "      <th>0</th>\n",
       "      <td>0</td>\n",
       "      <td>0</td>\n",
       "      <td>0</td>\n",
       "      <td>0</td>\n",
       "      <td>0</td>\n",
       "      <td>0</td>\n",
       "      <td>1</td>\n",
       "      <td>0</td>\n",
       "    </tr>\n",
       "    <tr>\n",
       "      <th>1</th>\n",
       "      <td>0</td>\n",
       "      <td>0</td>\n",
       "      <td>1</td>\n",
       "      <td>0</td>\n",
       "      <td>0</td>\n",
       "      <td>0</td>\n",
       "      <td>0</td>\n",
       "      <td>0</td>\n",
       "    </tr>\n",
       "    <tr>\n",
       "      <th>2</th>\n",
       "      <td>0</td>\n",
       "      <td>0</td>\n",
       "      <td>1</td>\n",
       "      <td>0</td>\n",
       "      <td>0</td>\n",
       "      <td>0</td>\n",
       "      <td>0</td>\n",
       "      <td>0</td>\n",
       "    </tr>\n",
       "    <tr>\n",
       "      <th>3</th>\n",
       "      <td>0</td>\n",
       "      <td>0</td>\n",
       "      <td>0</td>\n",
       "      <td>0</td>\n",
       "      <td>0</td>\n",
       "      <td>1</td>\n",
       "      <td>0</td>\n",
       "      <td>0</td>\n",
       "    </tr>\n",
       "    <tr>\n",
       "      <th>4</th>\n",
       "      <td>0</td>\n",
       "      <td>0</td>\n",
       "      <td>0</td>\n",
       "      <td>0</td>\n",
       "      <td>0</td>\n",
       "      <td>0</td>\n",
       "      <td>0</td>\n",
       "      <td>0</td>\n",
       "    </tr>\n",
       "  </tbody>\n",
       "</table>\n",
       "</div>"
      ],
      "text/plain": [
       "   Email Bounced  Email Link Clicked  Email Opened  Form Submitted on Website   \n",
       "0              0                   0             0                          0  \\\n",
       "1              0                   0             1                          0   \n",
       "2              0                   0             1                          0   \n",
       "3              0                   0             0                          0   \n",
       "4              0                   0             0                          0   \n",
       "\n",
       "   Olark_Chat_Conversation_la  Other_la  Page Visited on Website  sms_sent_la  \n",
       "0                           0         0                        1            0  \n",
       "1                           0         0                        0            0  \n",
       "2                           0         0                        0            0  \n",
       "3                           0         1                        0            0  \n",
       "4                           0         0                        0            0  "
      ]
     },
     "execution_count": 83,
     "metadata": {},
     "output_type": "execute_result"
    }
   ],
   "source": [
    "lastactivity_dummy = pd.get_dummies(df['Last Activity'], drop_first = True)\n",
    "lastactivity_dummy = lastactivity_dummy.astype(int)\n",
    "lastactivity_dummy.head()"
   ]
  },
  {
   "cell_type": "markdown",
   "metadata": {},
   "source": [
    "#### Variable Five : Specialization "
   ]
  },
  {
   "cell_type": "code",
   "execution_count": 84,
   "metadata": {},
   "outputs": [
    {
     "data": {
      "text/plain": [
       "Specialization\n",
       "Select                               3282\n",
       "Finance Management                    959\n",
       "Human Resource Management             837\n",
       "Marketing Management                  823\n",
       "Operations Management                 499\n",
       "Business Administration               399\n",
       "IT Projects Management                366\n",
       "Supply Chain Management               346\n",
       "Banking, Investment And Insurance     335\n",
       "Travel and Tourism                    202\n",
       "Media and Advertising                 202\n",
       "International Business                176\n",
       "Healthcare Management                 156\n",
       "E-COMMERCE                            111\n",
       "Hospitality Management                111\n",
       "Retail Management                     100\n",
       "Rural and Agribusiness                 73\n",
       "E-Business                             57\n",
       "Services Excellence                    40\n",
       "Name: count, dtype: int64"
      ]
     },
     "execution_count": 84,
     "metadata": {},
     "output_type": "execute_result"
    }
   ],
   "source": [
    "df['Specialization'].value_counts()"
   ]
  },
  {
   "cell_type": "code",
   "execution_count": 85,
   "metadata": {},
   "outputs": [],
   "source": [
    "def specs(x):\n",
    "    if x == 'Select':\n",
    "        return 'select_specs'\n",
    "    else:\n",
    "        return x"
   ]
  },
  {
   "cell_type": "code",
   "execution_count": 86,
   "metadata": {},
   "outputs": [],
   "source": [
    "df['Specialization'] = df['Specialization'].apply(specs)"
   ]
  },
  {
   "cell_type": "code",
   "execution_count": 87,
   "metadata": {},
   "outputs": [
    {
     "data": {
      "text/html": [
       "<div>\n",
       "<style scoped>\n",
       "    .dataframe tbody tr th:only-of-type {\n",
       "        vertical-align: middle;\n",
       "    }\n",
       "\n",
       "    .dataframe tbody tr th {\n",
       "        vertical-align: top;\n",
       "    }\n",
       "\n",
       "    .dataframe thead th {\n",
       "        text-align: right;\n",
       "    }\n",
       "</style>\n",
       "<table border=\"1\" class=\"dataframe\">\n",
       "  <thead>\n",
       "    <tr style=\"text-align: right;\">\n",
       "      <th></th>\n",
       "      <th>Business Administration</th>\n",
       "      <th>E-Business</th>\n",
       "      <th>E-COMMERCE</th>\n",
       "      <th>Finance Management</th>\n",
       "      <th>Healthcare Management</th>\n",
       "      <th>Hospitality Management</th>\n",
       "      <th>Human Resource Management</th>\n",
       "      <th>IT Projects Management</th>\n",
       "      <th>International Business</th>\n",
       "      <th>Marketing Management</th>\n",
       "      <th>Media and Advertising</th>\n",
       "      <th>Operations Management</th>\n",
       "      <th>Retail Management</th>\n",
       "      <th>Rural and Agribusiness</th>\n",
       "      <th>Services Excellence</th>\n",
       "      <th>Supply Chain Management</th>\n",
       "      <th>Travel and Tourism</th>\n",
       "      <th>select_specs</th>\n",
       "    </tr>\n",
       "  </thead>\n",
       "  <tbody>\n",
       "    <tr>\n",
       "      <th>0</th>\n",
       "      <td>0</td>\n",
       "      <td>0</td>\n",
       "      <td>0</td>\n",
       "      <td>0</td>\n",
       "      <td>0</td>\n",
       "      <td>0</td>\n",
       "      <td>0</td>\n",
       "      <td>0</td>\n",
       "      <td>0</td>\n",
       "      <td>0</td>\n",
       "      <td>0</td>\n",
       "      <td>0</td>\n",
       "      <td>0</td>\n",
       "      <td>0</td>\n",
       "      <td>0</td>\n",
       "      <td>0</td>\n",
       "      <td>0</td>\n",
       "      <td>1</td>\n",
       "    </tr>\n",
       "    <tr>\n",
       "      <th>1</th>\n",
       "      <td>0</td>\n",
       "      <td>0</td>\n",
       "      <td>0</td>\n",
       "      <td>0</td>\n",
       "      <td>0</td>\n",
       "      <td>0</td>\n",
       "      <td>0</td>\n",
       "      <td>0</td>\n",
       "      <td>0</td>\n",
       "      <td>0</td>\n",
       "      <td>0</td>\n",
       "      <td>0</td>\n",
       "      <td>0</td>\n",
       "      <td>0</td>\n",
       "      <td>0</td>\n",
       "      <td>0</td>\n",
       "      <td>0</td>\n",
       "      <td>1</td>\n",
       "    </tr>\n",
       "    <tr>\n",
       "      <th>2</th>\n",
       "      <td>1</td>\n",
       "      <td>0</td>\n",
       "      <td>0</td>\n",
       "      <td>0</td>\n",
       "      <td>0</td>\n",
       "      <td>0</td>\n",
       "      <td>0</td>\n",
       "      <td>0</td>\n",
       "      <td>0</td>\n",
       "      <td>0</td>\n",
       "      <td>0</td>\n",
       "      <td>0</td>\n",
       "      <td>0</td>\n",
       "      <td>0</td>\n",
       "      <td>0</td>\n",
       "      <td>0</td>\n",
       "      <td>0</td>\n",
       "      <td>0</td>\n",
       "    </tr>\n",
       "    <tr>\n",
       "      <th>3</th>\n",
       "      <td>0</td>\n",
       "      <td>0</td>\n",
       "      <td>0</td>\n",
       "      <td>0</td>\n",
       "      <td>0</td>\n",
       "      <td>0</td>\n",
       "      <td>0</td>\n",
       "      <td>0</td>\n",
       "      <td>0</td>\n",
       "      <td>0</td>\n",
       "      <td>1</td>\n",
       "      <td>0</td>\n",
       "      <td>0</td>\n",
       "      <td>0</td>\n",
       "      <td>0</td>\n",
       "      <td>0</td>\n",
       "      <td>0</td>\n",
       "      <td>0</td>\n",
       "    </tr>\n",
       "    <tr>\n",
       "      <th>4</th>\n",
       "      <td>0</td>\n",
       "      <td>0</td>\n",
       "      <td>0</td>\n",
       "      <td>0</td>\n",
       "      <td>0</td>\n",
       "      <td>0</td>\n",
       "      <td>0</td>\n",
       "      <td>0</td>\n",
       "      <td>0</td>\n",
       "      <td>0</td>\n",
       "      <td>0</td>\n",
       "      <td>0</td>\n",
       "      <td>0</td>\n",
       "      <td>0</td>\n",
       "      <td>0</td>\n",
       "      <td>0</td>\n",
       "      <td>0</td>\n",
       "      <td>1</td>\n",
       "    </tr>\n",
       "  </tbody>\n",
       "</table>\n",
       "</div>"
      ],
      "text/plain": [
       "   Business Administration  E-Business  E-COMMERCE  Finance Management   \n",
       "0                        0           0           0                   0  \\\n",
       "1                        0           0           0                   0   \n",
       "2                        1           0           0                   0   \n",
       "3                        0           0           0                   0   \n",
       "4                        0           0           0                   0   \n",
       "\n",
       "   Healthcare Management  Hospitality Management  Human Resource Management   \n",
       "0                      0                       0                          0  \\\n",
       "1                      0                       0                          0   \n",
       "2                      0                       0                          0   \n",
       "3                      0                       0                          0   \n",
       "4                      0                       0                          0   \n",
       "\n",
       "   IT Projects Management  International Business  Marketing Management   \n",
       "0                       0                       0                     0  \\\n",
       "1                       0                       0                     0   \n",
       "2                       0                       0                     0   \n",
       "3                       0                       0                     0   \n",
       "4                       0                       0                     0   \n",
       "\n",
       "   Media and Advertising  Operations Management  Retail Management   \n",
       "0                      0                      0                  0  \\\n",
       "1                      0                      0                  0   \n",
       "2                      0                      0                  0   \n",
       "3                      1                      0                  0   \n",
       "4                      0                      0                  0   \n",
       "\n",
       "   Rural and Agribusiness  Services Excellence  Supply Chain Management   \n",
       "0                       0                    0                        0  \\\n",
       "1                       0                    0                        0   \n",
       "2                       0                    0                        0   \n",
       "3                       0                    0                        0   \n",
       "4                       0                    0                        0   \n",
       "\n",
       "   Travel and Tourism  select_specs  \n",
       "0                   0             1  \n",
       "1                   0             1  \n",
       "2                   0             0  \n",
       "3                   0             0  \n",
       "4                   0             1  "
      ]
     },
     "execution_count": 87,
     "metadata": {},
     "output_type": "execute_result"
    }
   ],
   "source": [
    "specialization_dummy = pd.get_dummies(df['Specialization'], drop_first = True)\n",
    "specialization_dummy = specialization_dummy.astype(int)\n",
    "specialization_dummy.head()"
   ]
  },
  {
   "cell_type": "markdown",
   "metadata": {},
   "source": [
    "#### Variable Six : How did you hear about X Education"
   ]
  },
  {
   "cell_type": "code",
   "execution_count": 88,
   "metadata": {},
   "outputs": [
    {
     "data": {
      "text/plain": [
       "How did you hear about X Education\n",
       "Select                   7086\n",
       "Online Search             808\n",
       "Word Of Mouth             347\n",
       "Student of SomeSchool     310\n",
       "Other                     186\n",
       "Other_ed                  185\n",
       "Multiple Sources          152\n",
       "Name: count, dtype: int64"
      ]
     },
     "execution_count": 88,
     "metadata": {},
     "output_type": "execute_result"
    }
   ],
   "source": [
    "df['How did you hear about X Education'].value_counts()"
   ]
  },
  {
   "cell_type": "code",
   "execution_count": 89,
   "metadata": {},
   "outputs": [],
   "source": [
    "def edu (x):\n",
    "    if x == 'Student of SomeSchool':\n",
    "        return 'edu_someschool'\n",
    "    else:\n",
    "        return x"
   ]
  },
  {
   "cell_type": "code",
   "execution_count": 90,
   "metadata": {},
   "outputs": [],
   "source": [
    "df['How did you hear about X Education'] = df['How did you hear about X Education'].apply(edu)"
   ]
  },
  {
   "cell_type": "code",
   "execution_count": 91,
   "metadata": {},
   "outputs": [
    {
     "data": {
      "text/html": [
       "<div>\n",
       "<style scoped>\n",
       "    .dataframe tbody tr th:only-of-type {\n",
       "        vertical-align: middle;\n",
       "    }\n",
       "\n",
       "    .dataframe tbody tr th {\n",
       "        vertical-align: top;\n",
       "    }\n",
       "\n",
       "    .dataframe thead th {\n",
       "        text-align: right;\n",
       "    }\n",
       "</style>\n",
       "<table border=\"1\" class=\"dataframe\">\n",
       "  <thead>\n",
       "    <tr style=\"text-align: right;\">\n",
       "      <th></th>\n",
       "      <th>Online Search</th>\n",
       "      <th>Other</th>\n",
       "      <th>Other_ed</th>\n",
       "      <th>Select</th>\n",
       "      <th>Word Of Mouth</th>\n",
       "      <th>edu_someschool</th>\n",
       "    </tr>\n",
       "  </thead>\n",
       "  <tbody>\n",
       "    <tr>\n",
       "      <th>0</th>\n",
       "      <td>0</td>\n",
       "      <td>0</td>\n",
       "      <td>0</td>\n",
       "      <td>1</td>\n",
       "      <td>0</td>\n",
       "      <td>0</td>\n",
       "    </tr>\n",
       "    <tr>\n",
       "      <th>1</th>\n",
       "      <td>0</td>\n",
       "      <td>0</td>\n",
       "      <td>0</td>\n",
       "      <td>1</td>\n",
       "      <td>0</td>\n",
       "      <td>0</td>\n",
       "    </tr>\n",
       "    <tr>\n",
       "      <th>2</th>\n",
       "      <td>0</td>\n",
       "      <td>0</td>\n",
       "      <td>0</td>\n",
       "      <td>1</td>\n",
       "      <td>0</td>\n",
       "      <td>0</td>\n",
       "    </tr>\n",
       "    <tr>\n",
       "      <th>3</th>\n",
       "      <td>0</td>\n",
       "      <td>0</td>\n",
       "      <td>0</td>\n",
       "      <td>0</td>\n",
       "      <td>1</td>\n",
       "      <td>0</td>\n",
       "    </tr>\n",
       "    <tr>\n",
       "      <th>4</th>\n",
       "      <td>0</td>\n",
       "      <td>1</td>\n",
       "      <td>0</td>\n",
       "      <td>0</td>\n",
       "      <td>0</td>\n",
       "      <td>0</td>\n",
       "    </tr>\n",
       "  </tbody>\n",
       "</table>\n",
       "</div>"
      ],
      "text/plain": [
       "   Online Search  Other  Other_ed  Select  Word Of Mouth  edu_someschool\n",
       "0              0      0         0       1              0               0\n",
       "1              0      0         0       1              0               0\n",
       "2              0      0         0       1              0               0\n",
       "3              0      0         0       0              1               0\n",
       "4              0      1         0       0              0               0"
      ]
     },
     "execution_count": 91,
     "metadata": {},
     "output_type": "execute_result"
    }
   ],
   "source": [
    "education_dummy = pd.get_dummies(df['How did you hear about X Education'], drop_first = True)\n",
    "education_dummy = education_dummy.astype(int)\n",
    "education_dummy.head()"
   ]
  },
  {
   "cell_type": "markdown",
   "metadata": {},
   "source": [
    "#### Variable Seven : Lead Profile"
   ]
  },
  {
   "cell_type": "code",
   "execution_count": 92,
   "metadata": {},
   "outputs": [
    {
     "data": {
      "text/plain": [
       "Lead Profile\n",
       "Select                   6757\n",
       "Potential Lead           1554\n",
       "Other Leads               482\n",
       "Student of SomeSchool     240\n",
       "Other_lp                   41\n",
       "Name: count, dtype: int64"
      ]
     },
     "execution_count": 92,
     "metadata": {},
     "output_type": "execute_result"
    }
   ],
   "source": [
    "df['Lead Profile'].value_counts()"
   ]
  },
  {
   "cell_type": "code",
   "execution_count": 93,
   "metadata": {},
   "outputs": [],
   "source": [
    "def lp(x):\n",
    "    if x == 'Select':\n",
    "        return 'select_lp'\n",
    "    elif x == 'Student of SomeSchool':\n",
    "        return 'lp_someschool'\n",
    "    else:\n",
    "        return x"
   ]
  },
  {
   "cell_type": "code",
   "execution_count": 94,
   "metadata": {},
   "outputs": [],
   "source": [
    "df['Lead Profile'] = df['Lead Profile'].apply(lp)"
   ]
  },
  {
   "cell_type": "code",
   "execution_count": 95,
   "metadata": {},
   "outputs": [
    {
     "data": {
      "text/html": [
       "<div>\n",
       "<style scoped>\n",
       "    .dataframe tbody tr th:only-of-type {\n",
       "        vertical-align: middle;\n",
       "    }\n",
       "\n",
       "    .dataframe tbody tr th {\n",
       "        vertical-align: top;\n",
       "    }\n",
       "\n",
       "    .dataframe thead th {\n",
       "        text-align: right;\n",
       "    }\n",
       "</style>\n",
       "<table border=\"1\" class=\"dataframe\">\n",
       "  <thead>\n",
       "    <tr style=\"text-align: right;\">\n",
       "      <th></th>\n",
       "      <th>Other_lp</th>\n",
       "      <th>Potential Lead</th>\n",
       "      <th>lp_someschool</th>\n",
       "      <th>select_lp</th>\n",
       "    </tr>\n",
       "  </thead>\n",
       "  <tbody>\n",
       "    <tr>\n",
       "      <th>0</th>\n",
       "      <td>0</td>\n",
       "      <td>0</td>\n",
       "      <td>0</td>\n",
       "      <td>1</td>\n",
       "    </tr>\n",
       "    <tr>\n",
       "      <th>1</th>\n",
       "      <td>0</td>\n",
       "      <td>0</td>\n",
       "      <td>0</td>\n",
       "      <td>1</td>\n",
       "    </tr>\n",
       "    <tr>\n",
       "      <th>2</th>\n",
       "      <td>0</td>\n",
       "      <td>1</td>\n",
       "      <td>0</td>\n",
       "      <td>0</td>\n",
       "    </tr>\n",
       "    <tr>\n",
       "      <th>3</th>\n",
       "      <td>0</td>\n",
       "      <td>0</td>\n",
       "      <td>0</td>\n",
       "      <td>1</td>\n",
       "    </tr>\n",
       "    <tr>\n",
       "      <th>4</th>\n",
       "      <td>0</td>\n",
       "      <td>0</td>\n",
       "      <td>0</td>\n",
       "      <td>1</td>\n",
       "    </tr>\n",
       "  </tbody>\n",
       "</table>\n",
       "</div>"
      ],
      "text/plain": [
       "   Other_lp  Potential Lead  lp_someschool  select_lp\n",
       "0         0               0              0          1\n",
       "1         0               0              0          1\n",
       "2         0               1              0          0\n",
       "3         0               0              0          1\n",
       "4         0               0              0          1"
      ]
     },
     "execution_count": 95,
     "metadata": {},
     "output_type": "execute_result"
    }
   ],
   "source": [
    "leadprofile_dummy = pd.get_dummies(df['Lead Profile'], drop_first = True)\n",
    "leadprofile_dummy = leadprofile_dummy.astype(int)\n",
    "leadprofile_dummy.head()"
   ]
  },
  {
   "cell_type": "markdown",
   "metadata": {},
   "source": [
    "#### Variable Eight : City "
   ]
  },
  {
   "cell_type": "code",
   "execution_count": 96,
   "metadata": {},
   "outputs": [
    {
     "data": {
      "text/plain": [
       "City\n",
       "Select                         3575\n",
       "Mumbai                         3177\n",
       "Thane & Outskirts               745\n",
       "Other Cities                    680\n",
       "Other Cities of Maharashtra     446\n",
       "Other Metro Cities              377\n",
       "Tier II Cities                   74\n",
       "Name: count, dtype: int64"
      ]
     },
     "execution_count": 96,
     "metadata": {},
     "output_type": "execute_result"
    }
   ],
   "source": [
    "df['City'].value_counts()"
   ]
  },
  {
   "cell_type": "code",
   "execution_count": 97,
   "metadata": {},
   "outputs": [],
   "source": [
    "def city (x):\n",
    "    if  x == 'Select':\n",
    "        return 'select_city'\n",
    "    else:\n",
    "        return x"
   ]
  },
  {
   "cell_type": "code",
   "execution_count": 98,
   "metadata": {},
   "outputs": [],
   "source": [
    "df['City'] = df['City'].apply(city)"
   ]
  },
  {
   "cell_type": "code",
   "execution_count": 99,
   "metadata": {},
   "outputs": [
    {
     "data": {
      "text/html": [
       "<div>\n",
       "<style scoped>\n",
       "    .dataframe tbody tr th:only-of-type {\n",
       "        vertical-align: middle;\n",
       "    }\n",
       "\n",
       "    .dataframe tbody tr th {\n",
       "        vertical-align: top;\n",
       "    }\n",
       "\n",
       "    .dataframe thead th {\n",
       "        text-align: right;\n",
       "    }\n",
       "</style>\n",
       "<table border=\"1\" class=\"dataframe\">\n",
       "  <thead>\n",
       "    <tr style=\"text-align: right;\">\n",
       "      <th></th>\n",
       "      <th>Other Cities</th>\n",
       "      <th>Other Cities of Maharashtra</th>\n",
       "      <th>Other Metro Cities</th>\n",
       "      <th>Thane &amp; Outskirts</th>\n",
       "      <th>Tier II Cities</th>\n",
       "      <th>select_city</th>\n",
       "    </tr>\n",
       "  </thead>\n",
       "  <tbody>\n",
       "    <tr>\n",
       "      <th>0</th>\n",
       "      <td>0</td>\n",
       "      <td>0</td>\n",
       "      <td>0</td>\n",
       "      <td>0</td>\n",
       "      <td>0</td>\n",
       "      <td>1</td>\n",
       "    </tr>\n",
       "    <tr>\n",
       "      <th>1</th>\n",
       "      <td>0</td>\n",
       "      <td>0</td>\n",
       "      <td>0</td>\n",
       "      <td>0</td>\n",
       "      <td>0</td>\n",
       "      <td>1</td>\n",
       "    </tr>\n",
       "    <tr>\n",
       "      <th>2</th>\n",
       "      <td>0</td>\n",
       "      <td>0</td>\n",
       "      <td>0</td>\n",
       "      <td>0</td>\n",
       "      <td>0</td>\n",
       "      <td>0</td>\n",
       "    </tr>\n",
       "    <tr>\n",
       "      <th>3</th>\n",
       "      <td>0</td>\n",
       "      <td>0</td>\n",
       "      <td>0</td>\n",
       "      <td>0</td>\n",
       "      <td>0</td>\n",
       "      <td>0</td>\n",
       "    </tr>\n",
       "    <tr>\n",
       "      <th>4</th>\n",
       "      <td>0</td>\n",
       "      <td>0</td>\n",
       "      <td>0</td>\n",
       "      <td>0</td>\n",
       "      <td>0</td>\n",
       "      <td>0</td>\n",
       "    </tr>\n",
       "  </tbody>\n",
       "</table>\n",
       "</div>"
      ],
      "text/plain": [
       "   Other Cities  Other Cities of Maharashtra  Other Metro Cities   \n",
       "0             0                            0                   0  \\\n",
       "1             0                            0                   0   \n",
       "2             0                            0                   0   \n",
       "3             0                            0                   0   \n",
       "4             0                            0                   0   \n",
       "\n",
       "   Thane & Outskirts  Tier II Cities  select_city  \n",
       "0                  0               0            1  \n",
       "1                  0               0            1  \n",
       "2                  0               0            0  \n",
       "3                  0               0            0  \n",
       "4                  0               0            0  "
      ]
     },
     "execution_count": 99,
     "metadata": {},
     "output_type": "execute_result"
    }
   ],
   "source": [
    "city_dummy = pd.get_dummies(df['City'], drop_first = True)\n",
    "city_dummy = city_dummy.astype(int)\n",
    "city_dummy.head()"
   ]
  },
  {
   "cell_type": "markdown",
   "metadata": {},
   "source": [
    "#### Variable Nine : A free copy of Mastering The Interview"
   ]
  },
  {
   "cell_type": "code",
   "execution_count": 100,
   "metadata": {},
   "outputs": [
    {
     "data": {
      "text/plain": [
       "A free copy of Mastering The Interview\n",
       "No     6186\n",
       "Yes    2888\n",
       "Name: count, dtype: int64"
      ]
     },
     "execution_count": 100,
     "metadata": {},
     "output_type": "execute_result"
    }
   ],
   "source": [
    "df['A free copy of Mastering The Interview'].value_counts()"
   ]
  },
  {
   "cell_type": "code",
   "execution_count": 101,
   "metadata": {},
   "outputs": [],
   "source": [
    "# creating a function to clearly mention the yes and its related variable\n",
    "\n",
    "def emails(x):\n",
    "    if x == 'Yes':\n",
    "        return 'yes_copy'\n",
    "    else:\n",
    "        return 'no_copy'"
   ]
  },
  {
   "cell_type": "code",
   "execution_count": 102,
   "metadata": {},
   "outputs": [],
   "source": [
    "df['A free copy of Mastering The Interview'] = df['A free copy of Mastering The Interview'].apply(emails)"
   ]
  },
  {
   "cell_type": "code",
   "execution_count": 103,
   "metadata": {},
   "outputs": [
    {
     "data": {
      "text/html": [
       "<div>\n",
       "<style scoped>\n",
       "    .dataframe tbody tr th:only-of-type {\n",
       "        vertical-align: middle;\n",
       "    }\n",
       "\n",
       "    .dataframe tbody tr th {\n",
       "        vertical-align: top;\n",
       "    }\n",
       "\n",
       "    .dataframe thead th {\n",
       "        text-align: right;\n",
       "    }\n",
       "</style>\n",
       "<table border=\"1\" class=\"dataframe\">\n",
       "  <thead>\n",
       "    <tr style=\"text-align: right;\">\n",
       "      <th></th>\n",
       "      <th>yes_copy</th>\n",
       "    </tr>\n",
       "  </thead>\n",
       "  <tbody>\n",
       "    <tr>\n",
       "      <th>0</th>\n",
       "      <td>0</td>\n",
       "    </tr>\n",
       "    <tr>\n",
       "      <th>1</th>\n",
       "      <td>0</td>\n",
       "    </tr>\n",
       "    <tr>\n",
       "      <th>2</th>\n",
       "      <td>1</td>\n",
       "    </tr>\n",
       "    <tr>\n",
       "      <th>3</th>\n",
       "      <td>0</td>\n",
       "    </tr>\n",
       "    <tr>\n",
       "      <th>4</th>\n",
       "      <td>0</td>\n",
       "    </tr>\n",
       "  </tbody>\n",
       "</table>\n",
       "</div>"
      ],
      "text/plain": [
       "   yes_copy\n",
       "0         0\n",
       "1         0\n",
       "2         1\n",
       "3         0\n",
       "4         0"
      ]
     },
     "execution_count": 103,
     "metadata": {},
     "output_type": "execute_result"
    }
   ],
   "source": [
    "copy_dummy = pd.get_dummies(df['A free copy of Mastering The Interview'], drop_first = True)\n",
    "copy_dummy = copy_dummy.astype(int)\n",
    "copy_dummy.head()"
   ]
  },
  {
   "cell_type": "markdown",
   "metadata": {},
   "source": [
    "#### Variable Ten : Last Notable Activity"
   ]
  },
  {
   "cell_type": "code",
   "execution_count": 104,
   "metadata": {},
   "outputs": [
    {
     "data": {
      "text/plain": [
       "Last Notable Activity\n",
       "Modified                   3267\n",
       "Email Opened               2823\n",
       "SMS Sent                   2152\n",
       "Page Visited on Website     318\n",
       "Olark Chat Conversation     183\n",
       "Email Link Clicked          173\n",
       "Other_na                    158\n",
       "Name: count, dtype: int64"
      ]
     },
     "execution_count": 104,
     "metadata": {},
     "output_type": "execute_result"
    }
   ],
   "source": [
    "df['Last Notable Activity'].value_counts()"
   ]
  },
  {
   "cell_type": "code",
   "execution_count": 105,
   "metadata": {},
   "outputs": [
    {
     "data": {
      "text/html": [
       "<div>\n",
       "<style scoped>\n",
       "    .dataframe tbody tr th:only-of-type {\n",
       "        vertical-align: middle;\n",
       "    }\n",
       "\n",
       "    .dataframe tbody tr th {\n",
       "        vertical-align: top;\n",
       "    }\n",
       "\n",
       "    .dataframe thead th {\n",
       "        text-align: right;\n",
       "    }\n",
       "</style>\n",
       "<table border=\"1\" class=\"dataframe\">\n",
       "  <thead>\n",
       "    <tr style=\"text-align: right;\">\n",
       "      <th></th>\n",
       "      <th>Email Opened</th>\n",
       "      <th>Modified</th>\n",
       "      <th>Olark Chat Conversation</th>\n",
       "      <th>Other_na</th>\n",
       "      <th>Page Visited on Website</th>\n",
       "      <th>SMS Sent</th>\n",
       "    </tr>\n",
       "  </thead>\n",
       "  <tbody>\n",
       "    <tr>\n",
       "      <th>0</th>\n",
       "      <td>0</td>\n",
       "      <td>1</td>\n",
       "      <td>0</td>\n",
       "      <td>0</td>\n",
       "      <td>0</td>\n",
       "      <td>0</td>\n",
       "    </tr>\n",
       "    <tr>\n",
       "      <th>1</th>\n",
       "      <td>1</td>\n",
       "      <td>0</td>\n",
       "      <td>0</td>\n",
       "      <td>0</td>\n",
       "      <td>0</td>\n",
       "      <td>0</td>\n",
       "    </tr>\n",
       "    <tr>\n",
       "      <th>2</th>\n",
       "      <td>1</td>\n",
       "      <td>0</td>\n",
       "      <td>0</td>\n",
       "      <td>0</td>\n",
       "      <td>0</td>\n",
       "      <td>0</td>\n",
       "    </tr>\n",
       "    <tr>\n",
       "      <th>3</th>\n",
       "      <td>0</td>\n",
       "      <td>1</td>\n",
       "      <td>0</td>\n",
       "      <td>0</td>\n",
       "      <td>0</td>\n",
       "      <td>0</td>\n",
       "    </tr>\n",
       "    <tr>\n",
       "      <th>4</th>\n",
       "      <td>0</td>\n",
       "      <td>1</td>\n",
       "      <td>0</td>\n",
       "      <td>0</td>\n",
       "      <td>0</td>\n",
       "      <td>0</td>\n",
       "    </tr>\n",
       "  </tbody>\n",
       "</table>\n",
       "</div>"
      ],
      "text/plain": [
       "   Email Opened  Modified  Olark Chat Conversation  Other_na   \n",
       "0             0         1                        0         0  \\\n",
       "1             1         0                        0         0   \n",
       "2             1         0                        0         0   \n",
       "3             0         1                        0         0   \n",
       "4             0         1                        0         0   \n",
       "\n",
       "   Page Visited on Website  SMS Sent  \n",
       "0                        0         0  \n",
       "1                        0         0  \n",
       "2                        0         0  \n",
       "3                        0         0  \n",
       "4                        0         0  "
      ]
     },
     "execution_count": 105,
     "metadata": {},
     "output_type": "execute_result"
    }
   ],
   "source": [
    "activity_dummy = pd.get_dummies(df['Last Notable Activity'], drop_first = True)\n",
    "activity_dummy = activity_dummy.astype(int)\n",
    "activity_dummy.head()"
   ]
  },
  {
   "cell_type": "code",
   "execution_count": 106,
   "metadata": {},
   "outputs": [
    {
     "data": {
      "text/html": [
       "<div>\n",
       "<style scoped>\n",
       "    .dataframe tbody tr th:only-of-type {\n",
       "        vertical-align: middle;\n",
       "    }\n",
       "\n",
       "    .dataframe tbody tr th {\n",
       "        vertical-align: top;\n",
       "    }\n",
       "\n",
       "    .dataframe thead th {\n",
       "        text-align: right;\n",
       "    }\n",
       "</style>\n",
       "<table border=\"1\" class=\"dataframe\">\n",
       "  <thead>\n",
       "    <tr style=\"text-align: right;\">\n",
       "      <th></th>\n",
       "      <th>Prospect ID</th>\n",
       "      <th>Lead Number</th>\n",
       "      <th>Lead Origin</th>\n",
       "      <th>Lead Source</th>\n",
       "      <th>Do Not Email</th>\n",
       "      <th>Converted</th>\n",
       "      <th>TotalVisits</th>\n",
       "      <th>Total Time Spent on Website</th>\n",
       "      <th>Page Views Per Visit</th>\n",
       "      <th>Last Activity</th>\n",
       "      <th>...</th>\n",
       "      <th>Thane &amp; Outskirts</th>\n",
       "      <th>Tier II Cities</th>\n",
       "      <th>select_city</th>\n",
       "      <th>yes_copy</th>\n",
       "      <th>Email Opened</th>\n",
       "      <th>Modified</th>\n",
       "      <th>Olark Chat Conversation</th>\n",
       "      <th>Other_na</th>\n",
       "      <th>Page Visited on Website</th>\n",
       "      <th>SMS Sent</th>\n",
       "    </tr>\n",
       "  </thead>\n",
       "  <tbody>\n",
       "    <tr>\n",
       "      <th>0</th>\n",
       "      <td>7927b2df-8bba-4d29-b9a2-b6e0beafe620</td>\n",
       "      <td>660737</td>\n",
       "      <td>API</td>\n",
       "      <td>Olark Chat</td>\n",
       "      <td>no_email</td>\n",
       "      <td>0</td>\n",
       "      <td>0.0</td>\n",
       "      <td>0</td>\n",
       "      <td>0.0</td>\n",
       "      <td>Page Visited on Website</td>\n",
       "      <td>...</td>\n",
       "      <td>0</td>\n",
       "      <td>0</td>\n",
       "      <td>1</td>\n",
       "      <td>0</td>\n",
       "      <td>0</td>\n",
       "      <td>1</td>\n",
       "      <td>0</td>\n",
       "      <td>0</td>\n",
       "      <td>0</td>\n",
       "      <td>0</td>\n",
       "    </tr>\n",
       "    <tr>\n",
       "      <th>1</th>\n",
       "      <td>2a272436-5132-4136-86fa-dcc88c88f482</td>\n",
       "      <td>660728</td>\n",
       "      <td>API</td>\n",
       "      <td>Organic Search</td>\n",
       "      <td>no_email</td>\n",
       "      <td>0</td>\n",
       "      <td>5.0</td>\n",
       "      <td>674</td>\n",
       "      <td>2.5</td>\n",
       "      <td>Email Opened</td>\n",
       "      <td>...</td>\n",
       "      <td>0</td>\n",
       "      <td>0</td>\n",
       "      <td>1</td>\n",
       "      <td>0</td>\n",
       "      <td>1</td>\n",
       "      <td>0</td>\n",
       "      <td>0</td>\n",
       "      <td>0</td>\n",
       "      <td>0</td>\n",
       "      <td>0</td>\n",
       "    </tr>\n",
       "    <tr>\n",
       "      <th>2</th>\n",
       "      <td>8cc8c611-a219-4f35-ad23-fdfd2656bd8a</td>\n",
       "      <td>660727</td>\n",
       "      <td>Landing Page Submission</td>\n",
       "      <td>Direct Traffic</td>\n",
       "      <td>no_email</td>\n",
       "      <td>1</td>\n",
       "      <td>2.0</td>\n",
       "      <td>1532</td>\n",
       "      <td>2.0</td>\n",
       "      <td>Email Opened</td>\n",
       "      <td>...</td>\n",
       "      <td>0</td>\n",
       "      <td>0</td>\n",
       "      <td>0</td>\n",
       "      <td>1</td>\n",
       "      <td>1</td>\n",
       "      <td>0</td>\n",
       "      <td>0</td>\n",
       "      <td>0</td>\n",
       "      <td>0</td>\n",
       "      <td>0</td>\n",
       "    </tr>\n",
       "    <tr>\n",
       "      <th>3</th>\n",
       "      <td>0cc2df48-7cf4-4e39-9de9-19797f9b38cc</td>\n",
       "      <td>660719</td>\n",
       "      <td>Landing Page Submission</td>\n",
       "      <td>Direct Traffic</td>\n",
       "      <td>no_email</td>\n",
       "      <td>0</td>\n",
       "      <td>1.0</td>\n",
       "      <td>305</td>\n",
       "      <td>1.0</td>\n",
       "      <td>Other_la</td>\n",
       "      <td>...</td>\n",
       "      <td>0</td>\n",
       "      <td>0</td>\n",
       "      <td>0</td>\n",
       "      <td>0</td>\n",
       "      <td>0</td>\n",
       "      <td>1</td>\n",
       "      <td>0</td>\n",
       "      <td>0</td>\n",
       "      <td>0</td>\n",
       "      <td>0</td>\n",
       "    </tr>\n",
       "    <tr>\n",
       "      <th>4</th>\n",
       "      <td>3256f628-e534-4826-9d63-4a8b88782852</td>\n",
       "      <td>660681</td>\n",
       "      <td>Landing Page Submission</td>\n",
       "      <td>Google</td>\n",
       "      <td>no_email</td>\n",
       "      <td>1</td>\n",
       "      <td>2.0</td>\n",
       "      <td>1428</td>\n",
       "      <td>1.0</td>\n",
       "      <td>Converted to Lead</td>\n",
       "      <td>...</td>\n",
       "      <td>0</td>\n",
       "      <td>0</td>\n",
       "      <td>0</td>\n",
       "      <td>0</td>\n",
       "      <td>0</td>\n",
       "      <td>1</td>\n",
       "      <td>0</td>\n",
       "      <td>0</td>\n",
       "      <td>0</td>\n",
       "      <td>0</td>\n",
       "    </tr>\n",
       "  </tbody>\n",
       "</table>\n",
       "<p>5 rows × 76 columns</p>\n",
       "</div>"
      ],
      "text/plain": [
       "                            Prospect ID  Lead Number              Lead Origin   \n",
       "0  7927b2df-8bba-4d29-b9a2-b6e0beafe620       660737                      API  \\\n",
       "1  2a272436-5132-4136-86fa-dcc88c88f482       660728                      API   \n",
       "2  8cc8c611-a219-4f35-ad23-fdfd2656bd8a       660727  Landing Page Submission   \n",
       "3  0cc2df48-7cf4-4e39-9de9-19797f9b38cc       660719  Landing Page Submission   \n",
       "4  3256f628-e534-4826-9d63-4a8b88782852       660681  Landing Page Submission   \n",
       "\n",
       "      Lead Source Do Not Email  Converted  TotalVisits   \n",
       "0      Olark Chat     no_email          0          0.0  \\\n",
       "1  Organic Search     no_email          0          5.0   \n",
       "2  Direct Traffic     no_email          1          2.0   \n",
       "3  Direct Traffic     no_email          0          1.0   \n",
       "4          Google     no_email          1          2.0   \n",
       "\n",
       "   Total Time Spent on Website  Page Views Per Visit            Last Activity   \n",
       "0                            0                   0.0  Page Visited on Website  \\\n",
       "1                          674                   2.5             Email Opened   \n",
       "2                         1532                   2.0             Email Opened   \n",
       "3                          305                   1.0                 Other_la   \n",
       "4                         1428                   1.0        Converted to Lead   \n",
       "\n",
       "   ... Thane & Outskirts Tier II Cities select_city yes_copy Email Opened   \n",
       "0  ...                 0              0           1        0            0  \\\n",
       "1  ...                 0              0           1        0            1   \n",
       "2  ...                 0              0           0        1            1   \n",
       "3  ...                 0              0           0        0            0   \n",
       "4  ...                 0              0           0        0            0   \n",
       "\n",
       "  Modified  Olark Chat Conversation  Other_na  Page Visited on Website   \n",
       "0        1                        0         0                        0  \\\n",
       "1        0                        0         0                        0   \n",
       "2        0                        0         0                        0   \n",
       "3        1                        0         0                        0   \n",
       "4        1                        0         0                        0   \n",
       "\n",
       "   SMS Sent  \n",
       "0         0  \n",
       "1         0  \n",
       "2         0  \n",
       "3         0  \n",
       "4         0  \n",
       "\n",
       "[5 rows x 76 columns]"
      ]
     },
     "execution_count": 106,
     "metadata": {},
     "output_type": "execute_result"
    }
   ],
   "source": [
    "#### Putting all the dummy dataframe together \n",
    "\n",
    "final = pd.concat([df,leadorigin_dummy,leadsource_dummy,donotemail_dummy,lastactivity_dummy,specialization_dummy,education_dummy,leadprofile_dummy,city_dummy,copy_dummy,activity_dummy],axis =1)\n",
    "final.head()"
   ]
  },
  {
   "cell_type": "code",
   "execution_count": 107,
   "metadata": {},
   "outputs": [],
   "source": [
    "# dropping all the related variables after creating the dummies \n",
    "\n",
    "final = final.drop('Lead Origin',axis =1)\n",
    "final = final.drop('Lead Source',axis =1)\n",
    "final = final.drop('Do Not Email',axis =1)\n",
    "final = final.drop('Last Activity',axis =1)\n",
    "final = final.drop('Specialization',axis =1)\n",
    "final = final.drop('How did you hear about X Education',axis =1)\n",
    "final = final.drop('Lead Profile',axis =1)\n",
    "final = final.drop('City',axis =1)\n",
    "final = final.drop('A free copy of Mastering The Interview',axis =1)\n",
    "final = final.drop('Last Notable Activity',axis =1)"
   ]
  },
  {
   "cell_type": "code",
   "execution_count": 108,
   "metadata": {},
   "outputs": [
    {
     "data": {
      "text/html": [
       "<div>\n",
       "<style scoped>\n",
       "    .dataframe tbody tr th:only-of-type {\n",
       "        vertical-align: middle;\n",
       "    }\n",
       "\n",
       "    .dataframe tbody tr th {\n",
       "        vertical-align: top;\n",
       "    }\n",
       "\n",
       "    .dataframe thead th {\n",
       "        text-align: right;\n",
       "    }\n",
       "</style>\n",
       "<table border=\"1\" class=\"dataframe\">\n",
       "  <thead>\n",
       "    <tr style=\"text-align: right;\">\n",
       "      <th></th>\n",
       "      <th>Prospect ID</th>\n",
       "      <th>Lead Number</th>\n",
       "      <th>Converted</th>\n",
       "      <th>TotalVisits</th>\n",
       "      <th>Total Time Spent on Website</th>\n",
       "      <th>Page Views Per Visit</th>\n",
       "      <th>Landing Page Submission</th>\n",
       "      <th>Lead Add Form</th>\n",
       "      <th>Lead Import</th>\n",
       "      <th>Google</th>\n",
       "      <th>...</th>\n",
       "      <th>Thane &amp; Outskirts</th>\n",
       "      <th>Tier II Cities</th>\n",
       "      <th>select_city</th>\n",
       "      <th>yes_copy</th>\n",
       "      <th>Email Opened</th>\n",
       "      <th>Modified</th>\n",
       "      <th>Olark Chat Conversation</th>\n",
       "      <th>Other_na</th>\n",
       "      <th>Page Visited on Website</th>\n",
       "      <th>SMS Sent</th>\n",
       "    </tr>\n",
       "  </thead>\n",
       "  <tbody>\n",
       "    <tr>\n",
       "      <th>0</th>\n",
       "      <td>7927b2df-8bba-4d29-b9a2-b6e0beafe620</td>\n",
       "      <td>660737</td>\n",
       "      <td>0</td>\n",
       "      <td>0.0</td>\n",
       "      <td>0</td>\n",
       "      <td>0.0</td>\n",
       "      <td>0</td>\n",
       "      <td>0</td>\n",
       "      <td>0</td>\n",
       "      <td>0</td>\n",
       "      <td>...</td>\n",
       "      <td>0</td>\n",
       "      <td>0</td>\n",
       "      <td>1</td>\n",
       "      <td>0</td>\n",
       "      <td>0</td>\n",
       "      <td>1</td>\n",
       "      <td>0</td>\n",
       "      <td>0</td>\n",
       "      <td>0</td>\n",
       "      <td>0</td>\n",
       "    </tr>\n",
       "    <tr>\n",
       "      <th>1</th>\n",
       "      <td>2a272436-5132-4136-86fa-dcc88c88f482</td>\n",
       "      <td>660728</td>\n",
       "      <td>0</td>\n",
       "      <td>5.0</td>\n",
       "      <td>674</td>\n",
       "      <td>2.5</td>\n",
       "      <td>0</td>\n",
       "      <td>0</td>\n",
       "      <td>0</td>\n",
       "      <td>0</td>\n",
       "      <td>...</td>\n",
       "      <td>0</td>\n",
       "      <td>0</td>\n",
       "      <td>1</td>\n",
       "      <td>0</td>\n",
       "      <td>1</td>\n",
       "      <td>0</td>\n",
       "      <td>0</td>\n",
       "      <td>0</td>\n",
       "      <td>0</td>\n",
       "      <td>0</td>\n",
       "    </tr>\n",
       "    <tr>\n",
       "      <th>2</th>\n",
       "      <td>8cc8c611-a219-4f35-ad23-fdfd2656bd8a</td>\n",
       "      <td>660727</td>\n",
       "      <td>1</td>\n",
       "      <td>2.0</td>\n",
       "      <td>1532</td>\n",
       "      <td>2.0</td>\n",
       "      <td>1</td>\n",
       "      <td>0</td>\n",
       "      <td>0</td>\n",
       "      <td>0</td>\n",
       "      <td>...</td>\n",
       "      <td>0</td>\n",
       "      <td>0</td>\n",
       "      <td>0</td>\n",
       "      <td>1</td>\n",
       "      <td>1</td>\n",
       "      <td>0</td>\n",
       "      <td>0</td>\n",
       "      <td>0</td>\n",
       "      <td>0</td>\n",
       "      <td>0</td>\n",
       "    </tr>\n",
       "    <tr>\n",
       "      <th>3</th>\n",
       "      <td>0cc2df48-7cf4-4e39-9de9-19797f9b38cc</td>\n",
       "      <td>660719</td>\n",
       "      <td>0</td>\n",
       "      <td>1.0</td>\n",
       "      <td>305</td>\n",
       "      <td>1.0</td>\n",
       "      <td>1</td>\n",
       "      <td>0</td>\n",
       "      <td>0</td>\n",
       "      <td>0</td>\n",
       "      <td>...</td>\n",
       "      <td>0</td>\n",
       "      <td>0</td>\n",
       "      <td>0</td>\n",
       "      <td>0</td>\n",
       "      <td>0</td>\n",
       "      <td>1</td>\n",
       "      <td>0</td>\n",
       "      <td>0</td>\n",
       "      <td>0</td>\n",
       "      <td>0</td>\n",
       "    </tr>\n",
       "    <tr>\n",
       "      <th>4</th>\n",
       "      <td>3256f628-e534-4826-9d63-4a8b88782852</td>\n",
       "      <td>660681</td>\n",
       "      <td>1</td>\n",
       "      <td>2.0</td>\n",
       "      <td>1428</td>\n",
       "      <td>1.0</td>\n",
       "      <td>1</td>\n",
       "      <td>0</td>\n",
       "      <td>0</td>\n",
       "      <td>1</td>\n",
       "      <td>...</td>\n",
       "      <td>0</td>\n",
       "      <td>0</td>\n",
       "      <td>0</td>\n",
       "      <td>0</td>\n",
       "      <td>0</td>\n",
       "      <td>1</td>\n",
       "      <td>0</td>\n",
       "      <td>0</td>\n",
       "      <td>0</td>\n",
       "      <td>0</td>\n",
       "    </tr>\n",
       "  </tbody>\n",
       "</table>\n",
       "<p>5 rows × 66 columns</p>\n",
       "</div>"
      ],
      "text/plain": [
       "                            Prospect ID  Lead Number  Converted  TotalVisits   \n",
       "0  7927b2df-8bba-4d29-b9a2-b6e0beafe620       660737          0          0.0  \\\n",
       "1  2a272436-5132-4136-86fa-dcc88c88f482       660728          0          5.0   \n",
       "2  8cc8c611-a219-4f35-ad23-fdfd2656bd8a       660727          1          2.0   \n",
       "3  0cc2df48-7cf4-4e39-9de9-19797f9b38cc       660719          0          1.0   \n",
       "4  3256f628-e534-4826-9d63-4a8b88782852       660681          1          2.0   \n",
       "\n",
       "   Total Time Spent on Website  Page Views Per Visit  Landing Page Submission   \n",
       "0                            0                   0.0                        0  \\\n",
       "1                          674                   2.5                        0   \n",
       "2                         1532                   2.0                        1   \n",
       "3                          305                   1.0                        1   \n",
       "4                         1428                   1.0                        1   \n",
       "\n",
       "   Lead Add Form  Lead Import  Google  ...  Thane & Outskirts  Tier II Cities   \n",
       "0              0            0       0  ...                  0               0  \\\n",
       "1              0            0       0  ...                  0               0   \n",
       "2              0            0       0  ...                  0               0   \n",
       "3              0            0       0  ...                  0               0   \n",
       "4              0            0       1  ...                  0               0   \n",
       "\n",
       "   select_city  yes_copy  Email Opened  Modified  Olark Chat Conversation   \n",
       "0            1         0             0         1                        0  \\\n",
       "1            1         0             1         0                        0   \n",
       "2            0         1             1         0                        0   \n",
       "3            0         0             0         1                        0   \n",
       "4            0         0             0         1                        0   \n",
       "\n",
       "   Other_na  Page Visited on Website  SMS Sent  \n",
       "0         0                        0         0  \n",
       "1         0                        0         0  \n",
       "2         0                        0         0  \n",
       "3         0                        0         0  \n",
       "4         0                        0         0  \n",
       "\n",
       "[5 rows x 66 columns]"
      ]
     },
     "execution_count": 108,
     "metadata": {},
     "output_type": "execute_result"
    }
   ],
   "source": [
    "final.head()"
   ]
  },
  {
   "cell_type": "markdown",
   "metadata": {},
   "source": [
    "## C. Dividing into train test data"
   ]
  },
  {
   "cell_type": "code",
   "execution_count": 109,
   "metadata": {},
   "outputs": [],
   "source": [
    "# importing relevant libraries \n",
    "\n",
    "import sklearn\n",
    "from sklearn.model_selection import train_test_split"
   ]
  },
  {
   "cell_type": "code",
   "execution_count": 110,
   "metadata": {},
   "outputs": [
    {
     "name": "stdout",
     "output_type": "stream",
     "text": [
      "(6351, 66)\n",
      "(2723, 66)\n"
     ]
    }
   ],
   "source": [
    "final_train, final_test = train_test_split(final, train_size = 0.7, random_state = 100)\n",
    "\n",
    "print(final_train.shape)\n",
    "print(final_test.shape)"
   ]
  },
  {
   "cell_type": "markdown",
   "metadata": {},
   "source": [
    "## D. Performing scaling on continuous variables "
   ]
  },
  {
   "cell_type": "code",
   "execution_count": 111,
   "metadata": {},
   "outputs": [],
   "source": [
    "# we are using the min max scaler for rescaling "
   ]
  },
  {
   "cell_type": "code",
   "execution_count": 112,
   "metadata": {},
   "outputs": [],
   "source": [
    "#importing relevant packages \n",
    "\n",
    "from sklearn.preprocessing import MinMaxScaler"
   ]
  },
  {
   "cell_type": "code",
   "execution_count": 113,
   "metadata": {},
   "outputs": [],
   "source": [
    "# Instiating scaler object \n",
    "\n",
    "scaler = MinMaxScaler()"
   ]
  },
  {
   "cell_type": "code",
   "execution_count": 114,
   "metadata": {},
   "outputs": [],
   "source": [
    "# creating a list of numeric variables \n",
    "\n",
    "numeric = ['TotalVisits','Total Time Spent on Website','Page Views Per Visit']"
   ]
  },
  {
   "cell_type": "code",
   "execution_count": 115,
   "metadata": {},
   "outputs": [],
   "source": [
    "final_train[numeric] = scaler.fit_transform(final_train[numeric])"
   ]
  },
  {
   "cell_type": "code",
   "execution_count": 116,
   "metadata": {},
   "outputs": [
    {
     "data": {
      "text/html": [
       "<div>\n",
       "<style scoped>\n",
       "    .dataframe tbody tr th:only-of-type {\n",
       "        vertical-align: middle;\n",
       "    }\n",
       "\n",
       "    .dataframe tbody tr th {\n",
       "        vertical-align: top;\n",
       "    }\n",
       "\n",
       "    .dataframe thead th {\n",
       "        text-align: right;\n",
       "    }\n",
       "</style>\n",
       "<table border=\"1\" class=\"dataframe\">\n",
       "  <thead>\n",
       "    <tr style=\"text-align: right;\">\n",
       "      <th></th>\n",
       "      <th>Prospect ID</th>\n",
       "      <th>Lead Number</th>\n",
       "      <th>Converted</th>\n",
       "      <th>TotalVisits</th>\n",
       "      <th>Total Time Spent on Website</th>\n",
       "      <th>Page Views Per Visit</th>\n",
       "      <th>Landing Page Submission</th>\n",
       "      <th>Lead Add Form</th>\n",
       "      <th>Lead Import</th>\n",
       "      <th>Google</th>\n",
       "      <th>...</th>\n",
       "      <th>Thane &amp; Outskirts</th>\n",
       "      <th>Tier II Cities</th>\n",
       "      <th>select_city</th>\n",
       "      <th>yes_copy</th>\n",
       "      <th>Email Opened</th>\n",
       "      <th>Modified</th>\n",
       "      <th>Olark Chat Conversation</th>\n",
       "      <th>Other_na</th>\n",
       "      <th>Page Visited on Website</th>\n",
       "      <th>SMS Sent</th>\n",
       "    </tr>\n",
       "  </thead>\n",
       "  <tbody>\n",
       "    <tr>\n",
       "      <th>3009</th>\n",
       "      <td>42a4d521-df88-4b5a-b198-50594a407a2d</td>\n",
       "      <td>630949</td>\n",
       "      <td>0</td>\n",
       "      <td>0.007968</td>\n",
       "      <td>0.178347</td>\n",
       "      <td>0.083333</td>\n",
       "      <td>1</td>\n",
       "      <td>0</td>\n",
       "      <td>0</td>\n",
       "      <td>0</td>\n",
       "      <td>...</td>\n",
       "      <td>0</td>\n",
       "      <td>0</td>\n",
       "      <td>0</td>\n",
       "      <td>1</td>\n",
       "      <td>1</td>\n",
       "      <td>0</td>\n",
       "      <td>0</td>\n",
       "      <td>0</td>\n",
       "      <td>0</td>\n",
       "      <td>0</td>\n",
       "    </tr>\n",
       "    <tr>\n",
       "      <th>1012</th>\n",
       "      <td>4594be86-3b2e-4b55-866b-5a4b05ffd0f6</td>\n",
       "      <td>649355</td>\n",
       "      <td>0</td>\n",
       "      <td>0.007968</td>\n",
       "      <td>0.085355</td>\n",
       "      <td>0.083333</td>\n",
       "      <td>1</td>\n",
       "      <td>0</td>\n",
       "      <td>0</td>\n",
       "      <td>0</td>\n",
       "      <td>...</td>\n",
       "      <td>0</td>\n",
       "      <td>0</td>\n",
       "      <td>0</td>\n",
       "      <td>0</td>\n",
       "      <td>0</td>\n",
       "      <td>0</td>\n",
       "      <td>0</td>\n",
       "      <td>1</td>\n",
       "      <td>0</td>\n",
       "      <td>0</td>\n",
       "    </tr>\n",
       "    <tr>\n",
       "      <th>9226</th>\n",
       "      <td>c3bb1471-53d5-4244-b2e5-4bbb543835c1</td>\n",
       "      <td>579735</td>\n",
       "      <td>0</td>\n",
       "      <td>0.000000</td>\n",
       "      <td>0.000000</td>\n",
       "      <td>0.000000</td>\n",
       "      <td>0</td>\n",
       "      <td>0</td>\n",
       "      <td>0</td>\n",
       "      <td>0</td>\n",
       "      <td>...</td>\n",
       "      <td>0</td>\n",
       "      <td>0</td>\n",
       "      <td>1</td>\n",
       "      <td>0</td>\n",
       "      <td>0</td>\n",
       "      <td>1</td>\n",
       "      <td>0</td>\n",
       "      <td>0</td>\n",
       "      <td>0</td>\n",
       "      <td>0</td>\n",
       "    </tr>\n",
       "    <tr>\n",
       "      <th>4750</th>\n",
       "      <td>9bce5fbc-8d57-4dc9-8f82-fd11d94d9969</td>\n",
       "      <td>614238</td>\n",
       "      <td>1</td>\n",
       "      <td>0.007968</td>\n",
       "      <td>0.619946</td>\n",
       "      <td>0.083333</td>\n",
       "      <td>1</td>\n",
       "      <td>0</td>\n",
       "      <td>0</td>\n",
       "      <td>0</td>\n",
       "      <td>...</td>\n",
       "      <td>0</td>\n",
       "      <td>0</td>\n",
       "      <td>0</td>\n",
       "      <td>0</td>\n",
       "      <td>0</td>\n",
       "      <td>0</td>\n",
       "      <td>0</td>\n",
       "      <td>0</td>\n",
       "      <td>0</td>\n",
       "      <td>1</td>\n",
       "    </tr>\n",
       "    <tr>\n",
       "      <th>7987</th>\n",
       "      <td>b0bfbc32-bd4a-4376-a829-5318bc0e9547</td>\n",
       "      <td>588625</td>\n",
       "      <td>1</td>\n",
       "      <td>0.019920</td>\n",
       "      <td>0.711590</td>\n",
       "      <td>0.104167</td>\n",
       "      <td>1</td>\n",
       "      <td>0</td>\n",
       "      <td>0</td>\n",
       "      <td>0</td>\n",
       "      <td>...</td>\n",
       "      <td>0</td>\n",
       "      <td>0</td>\n",
       "      <td>0</td>\n",
       "      <td>0</td>\n",
       "      <td>0</td>\n",
       "      <td>1</td>\n",
       "      <td>0</td>\n",
       "      <td>0</td>\n",
       "      <td>0</td>\n",
       "      <td>0</td>\n",
       "    </tr>\n",
       "  </tbody>\n",
       "</table>\n",
       "<p>5 rows × 66 columns</p>\n",
       "</div>"
      ],
      "text/plain": [
       "                               Prospect ID  Lead Number  Converted   \n",
       "3009  42a4d521-df88-4b5a-b198-50594a407a2d       630949          0  \\\n",
       "1012  4594be86-3b2e-4b55-866b-5a4b05ffd0f6       649355          0   \n",
       "9226  c3bb1471-53d5-4244-b2e5-4bbb543835c1       579735          0   \n",
       "4750  9bce5fbc-8d57-4dc9-8f82-fd11d94d9969       614238          1   \n",
       "7987  b0bfbc32-bd4a-4376-a829-5318bc0e9547       588625          1   \n",
       "\n",
       "      TotalVisits  Total Time Spent on Website  Page Views Per Visit   \n",
       "3009     0.007968                     0.178347              0.083333  \\\n",
       "1012     0.007968                     0.085355              0.083333   \n",
       "9226     0.000000                     0.000000              0.000000   \n",
       "4750     0.007968                     0.619946              0.083333   \n",
       "7987     0.019920                     0.711590              0.104167   \n",
       "\n",
       "      Landing Page Submission  Lead Add Form  Lead Import  Google  ...   \n",
       "3009                        1              0            0       0  ...  \\\n",
       "1012                        1              0            0       0  ...   \n",
       "9226                        0              0            0       0  ...   \n",
       "4750                        1              0            0       0  ...   \n",
       "7987                        1              0            0       0  ...   \n",
       "\n",
       "      Thane & Outskirts  Tier II Cities  select_city  yes_copy  Email Opened   \n",
       "3009                  0               0            0         1             1  \\\n",
       "1012                  0               0            0         0             0   \n",
       "9226                  0               0            1         0             0   \n",
       "4750                  0               0            0         0             0   \n",
       "7987                  0               0            0         0             0   \n",
       "\n",
       "      Modified  Olark Chat Conversation  Other_na  Page Visited on Website   \n",
       "3009         0                        0         0                        0  \\\n",
       "1012         0                        0         1                        0   \n",
       "9226         1                        0         0                        0   \n",
       "4750         0                        0         0                        0   \n",
       "7987         1                        0         0                        0   \n",
       "\n",
       "      SMS Sent  \n",
       "3009         0  \n",
       "1012         0  \n",
       "9226         0  \n",
       "4750         1  \n",
       "7987         0  \n",
       "\n",
       "[5 rows x 66 columns]"
      ]
     },
     "execution_count": 116,
     "metadata": {},
     "output_type": "execute_result"
    }
   ],
   "source": [
    "final_train.head()"
   ]
  },
  {
   "cell_type": "markdown",
   "metadata": {},
   "source": [
    "## E. Creating the test train split "
   ]
  },
  {
   "cell_type": "code",
   "execution_count": 117,
   "metadata": {},
   "outputs": [],
   "source": [
    "from sklearn.model_selection import train_test_split"
   ]
  },
  {
   "cell_type": "code",
   "execution_count": 118,
   "metadata": {},
   "outputs": [],
   "source": [
    "x = final.drop(['Prospect ID','Lead Number','Converted'], axis =1)"
   ]
  },
  {
   "cell_type": "code",
   "execution_count": 119,
   "metadata": {},
   "outputs": [
    {
     "data": {
      "text/html": [
       "<div>\n",
       "<style scoped>\n",
       "    .dataframe tbody tr th:only-of-type {\n",
       "        vertical-align: middle;\n",
       "    }\n",
       "\n",
       "    .dataframe tbody tr th {\n",
       "        vertical-align: top;\n",
       "    }\n",
       "\n",
       "    .dataframe thead th {\n",
       "        text-align: right;\n",
       "    }\n",
       "</style>\n",
       "<table border=\"1\" class=\"dataframe\">\n",
       "  <thead>\n",
       "    <tr style=\"text-align: right;\">\n",
       "      <th></th>\n",
       "      <th>TotalVisits</th>\n",
       "      <th>Total Time Spent on Website</th>\n",
       "      <th>Page Views Per Visit</th>\n",
       "      <th>Landing Page Submission</th>\n",
       "      <th>Lead Add Form</th>\n",
       "      <th>Lead Import</th>\n",
       "      <th>Google</th>\n",
       "      <th>Olark Chat</th>\n",
       "      <th>Organic Search</th>\n",
       "      <th>Other_ls</th>\n",
       "      <th>...</th>\n",
       "      <th>Thane &amp; Outskirts</th>\n",
       "      <th>Tier II Cities</th>\n",
       "      <th>select_city</th>\n",
       "      <th>yes_copy</th>\n",
       "      <th>Email Opened</th>\n",
       "      <th>Modified</th>\n",
       "      <th>Olark Chat Conversation</th>\n",
       "      <th>Other_na</th>\n",
       "      <th>Page Visited on Website</th>\n",
       "      <th>SMS Sent</th>\n",
       "    </tr>\n",
       "  </thead>\n",
       "  <tbody>\n",
       "    <tr>\n",
       "      <th>0</th>\n",
       "      <td>0.0</td>\n",
       "      <td>0</td>\n",
       "      <td>0.0</td>\n",
       "      <td>0</td>\n",
       "      <td>0</td>\n",
       "      <td>0</td>\n",
       "      <td>0</td>\n",
       "      <td>1</td>\n",
       "      <td>0</td>\n",
       "      <td>0</td>\n",
       "      <td>...</td>\n",
       "      <td>0</td>\n",
       "      <td>0</td>\n",
       "      <td>1</td>\n",
       "      <td>0</td>\n",
       "      <td>0</td>\n",
       "      <td>1</td>\n",
       "      <td>0</td>\n",
       "      <td>0</td>\n",
       "      <td>0</td>\n",
       "      <td>0</td>\n",
       "    </tr>\n",
       "    <tr>\n",
       "      <th>1</th>\n",
       "      <td>5.0</td>\n",
       "      <td>674</td>\n",
       "      <td>2.5</td>\n",
       "      <td>0</td>\n",
       "      <td>0</td>\n",
       "      <td>0</td>\n",
       "      <td>0</td>\n",
       "      <td>0</td>\n",
       "      <td>1</td>\n",
       "      <td>0</td>\n",
       "      <td>...</td>\n",
       "      <td>0</td>\n",
       "      <td>0</td>\n",
       "      <td>1</td>\n",
       "      <td>0</td>\n",
       "      <td>1</td>\n",
       "      <td>0</td>\n",
       "      <td>0</td>\n",
       "      <td>0</td>\n",
       "      <td>0</td>\n",
       "      <td>0</td>\n",
       "    </tr>\n",
       "    <tr>\n",
       "      <th>2</th>\n",
       "      <td>2.0</td>\n",
       "      <td>1532</td>\n",
       "      <td>2.0</td>\n",
       "      <td>1</td>\n",
       "      <td>0</td>\n",
       "      <td>0</td>\n",
       "      <td>0</td>\n",
       "      <td>0</td>\n",
       "      <td>0</td>\n",
       "      <td>0</td>\n",
       "      <td>...</td>\n",
       "      <td>0</td>\n",
       "      <td>0</td>\n",
       "      <td>0</td>\n",
       "      <td>1</td>\n",
       "      <td>1</td>\n",
       "      <td>0</td>\n",
       "      <td>0</td>\n",
       "      <td>0</td>\n",
       "      <td>0</td>\n",
       "      <td>0</td>\n",
       "    </tr>\n",
       "    <tr>\n",
       "      <th>3</th>\n",
       "      <td>1.0</td>\n",
       "      <td>305</td>\n",
       "      <td>1.0</td>\n",
       "      <td>1</td>\n",
       "      <td>0</td>\n",
       "      <td>0</td>\n",
       "      <td>0</td>\n",
       "      <td>0</td>\n",
       "      <td>0</td>\n",
       "      <td>0</td>\n",
       "      <td>...</td>\n",
       "      <td>0</td>\n",
       "      <td>0</td>\n",
       "      <td>0</td>\n",
       "      <td>0</td>\n",
       "      <td>0</td>\n",
       "      <td>1</td>\n",
       "      <td>0</td>\n",
       "      <td>0</td>\n",
       "      <td>0</td>\n",
       "      <td>0</td>\n",
       "    </tr>\n",
       "    <tr>\n",
       "      <th>4</th>\n",
       "      <td>2.0</td>\n",
       "      <td>1428</td>\n",
       "      <td>1.0</td>\n",
       "      <td>1</td>\n",
       "      <td>0</td>\n",
       "      <td>0</td>\n",
       "      <td>1</td>\n",
       "      <td>0</td>\n",
       "      <td>0</td>\n",
       "      <td>0</td>\n",
       "      <td>...</td>\n",
       "      <td>0</td>\n",
       "      <td>0</td>\n",
       "      <td>0</td>\n",
       "      <td>0</td>\n",
       "      <td>0</td>\n",
       "      <td>1</td>\n",
       "      <td>0</td>\n",
       "      <td>0</td>\n",
       "      <td>0</td>\n",
       "      <td>0</td>\n",
       "    </tr>\n",
       "  </tbody>\n",
       "</table>\n",
       "<p>5 rows × 63 columns</p>\n",
       "</div>"
      ],
      "text/plain": [
       "   TotalVisits  Total Time Spent on Website  Page Views Per Visit   \n",
       "0          0.0                            0                   0.0  \\\n",
       "1          5.0                          674                   2.5   \n",
       "2          2.0                         1532                   2.0   \n",
       "3          1.0                          305                   1.0   \n",
       "4          2.0                         1428                   1.0   \n",
       "\n",
       "   Landing Page Submission  Lead Add Form  Lead Import  Google  Olark Chat   \n",
       "0                        0              0            0       0           1  \\\n",
       "1                        0              0            0       0           0   \n",
       "2                        1              0            0       0           0   \n",
       "3                        1              0            0       0           0   \n",
       "4                        1              0            0       1           0   \n",
       "\n",
       "   Organic Search  Other_ls  ...  Thane & Outskirts  Tier II Cities   \n",
       "0               0         0  ...                  0               0  \\\n",
       "1               1         0  ...                  0               0   \n",
       "2               0         0  ...                  0               0   \n",
       "3               0         0  ...                  0               0   \n",
       "4               0         0  ...                  0               0   \n",
       "\n",
       "   select_city  yes_copy  Email Opened  Modified  Olark Chat Conversation   \n",
       "0            1         0             0         1                        0  \\\n",
       "1            1         0             1         0                        0   \n",
       "2            0         1             1         0                        0   \n",
       "3            0         0             0         1                        0   \n",
       "4            0         0             0         1                        0   \n",
       "\n",
       "   Other_na  Page Visited on Website  SMS Sent  \n",
       "0         0                        0         0  \n",
       "1         0                        0         0  \n",
       "2         0                        0         0  \n",
       "3         0                        0         0  \n",
       "4         0                        0         0  \n",
       "\n",
       "[5 rows x 63 columns]"
      ]
     },
     "execution_count": 119,
     "metadata": {},
     "output_type": "execute_result"
    }
   ],
   "source": [
    "x.head()"
   ]
  },
  {
   "cell_type": "code",
   "execution_count": 120,
   "metadata": {},
   "outputs": [],
   "source": [
    "y = final['Converted']"
   ]
  },
  {
   "cell_type": "code",
   "execution_count": 121,
   "metadata": {},
   "outputs": [
    {
     "data": {
      "text/plain": [
       "0    0\n",
       "1    0\n",
       "2    1\n",
       "3    0\n",
       "4    1\n",
       "Name: Converted, dtype: int64"
      ]
     },
     "execution_count": 121,
     "metadata": {},
     "output_type": "execute_result"
    }
   ],
   "source": [
    "y.head()"
   ]
  },
  {
   "cell_type": "code",
   "execution_count": 122,
   "metadata": {},
   "outputs": [],
   "source": [
    "x_train, x_test, y_train, y_test = train_test_split(x,y, train_size = 0.7, test_size = 0.3, random_state = 100)"
   ]
  },
  {
   "cell_type": "code",
   "execution_count": 123,
   "metadata": {},
   "outputs": [
    {
     "data": {
      "text/plain": [
       "0.3785541106458012"
      ]
     },
     "execution_count": 123,
     "metadata": {},
     "output_type": "execute_result"
    }
   ],
   "source": [
    "# calculating the conversion rate\n",
    "\n",
    "conversion = sum(final['Converted'])/len(final['Converted'].index)\n",
    "conversion"
   ]
  },
  {
   "cell_type": "markdown",
   "metadata": {},
   "source": [
    "- We have a converstion rate of 37.86 percentage "
   ]
  },
  {
   "cell_type": "markdown",
   "metadata": {},
   "source": [
    "## F. Building the first model"
   ]
  },
  {
   "cell_type": "code",
   "execution_count": 124,
   "metadata": {},
   "outputs": [],
   "source": [
    "import statsmodels.api as sm"
   ]
  },
  {
   "cell_type": "code",
   "execution_count": 125,
   "metadata": {},
   "outputs": [
    {
     "data": {
      "text/html": [
       "<table class=\"simpletable\">\n",
       "<caption>Generalized Linear Model Regression Results</caption>\n",
       "<tr>\n",
       "  <th>Dep. Variable:</th>       <td>Converted</td>    <th>  No. Observations:  </th>  <td>  6351</td> \n",
       "</tr>\n",
       "<tr>\n",
       "  <th>Model:</th>                  <td>GLM</td>       <th>  Df Residuals:      </th>  <td>  6287</td> \n",
       "</tr>\n",
       "<tr>\n",
       "  <th>Model Family:</th>        <td>Binomial</td>     <th>  Df Model:          </th>  <td>    63</td> \n",
       "</tr>\n",
       "<tr>\n",
       "  <th>Link Function:</th>         <td>Logit</td>      <th>  Scale:             </th> <td>  1.0000</td>\n",
       "</tr>\n",
       "<tr>\n",
       "  <th>Method:</th>                <td>IRLS</td>       <th>  Log-Likelihood:    </th> <td> -2456.8</td>\n",
       "</tr>\n",
       "<tr>\n",
       "  <th>Date:</th>            <td>Thu, 10 Aug 2023</td> <th>  Deviance:          </th> <td>  4913.5</td>\n",
       "</tr>\n",
       "<tr>\n",
       "  <th>Time:</th>                <td>23:05:25</td>     <th>  Pearson chi2:      </th> <td>6.53e+03</td>\n",
       "</tr>\n",
       "<tr>\n",
       "  <th>No. Iterations:</th>         <td>22</td>        <th>  Pseudo R-squ. (CS):</th>  <td>0.4284</td> \n",
       "</tr>\n",
       "<tr>\n",
       "  <th>Covariance Type:</th>     <td>nonrobust</td>    <th>                     </th>     <td> </td>   \n",
       "</tr>\n",
       "</table>\n",
       "<table class=\"simpletable\">\n",
       "<tr>\n",
       "               <td></td>                  <th>coef</th>     <th>std err</th>      <th>z</th>      <th>P>|z|</th>  <th>[0.025</th>    <th>0.975]</th>  \n",
       "</tr>\n",
       "<tr>\n",
       "  <th>const</th>                       <td>   -2.4859</td> <td>    0.674</td> <td>   -3.691</td> <td> 0.000</td> <td>   -3.806</td> <td>   -1.166</td>\n",
       "</tr>\n",
       "<tr>\n",
       "  <th>TotalVisits</th>                 <td>    0.0328</td> <td>    0.010</td> <td>    3.379</td> <td> 0.001</td> <td>    0.014</td> <td>    0.052</td>\n",
       "</tr>\n",
       "<tr>\n",
       "  <th>Total Time Spent on Website</th> <td>    0.0020</td> <td> 7.77e-05</td> <td>   26.349</td> <td> 0.000</td> <td>    0.002</td> <td>    0.002</td>\n",
       "</tr>\n",
       "<tr>\n",
       "  <th>Page Views Per Visit</th>        <td>   -0.0579</td> <td>    0.026</td> <td>   -2.253</td> <td> 0.024</td> <td>   -0.108</td> <td>   -0.008</td>\n",
       "</tr>\n",
       "<tr>\n",
       "  <th>Landing Page Submission</th>     <td>   -0.6610</td> <td>    0.167</td> <td>   -3.955</td> <td> 0.000</td> <td>   -0.989</td> <td>   -0.333</td>\n",
       "</tr>\n",
       "<tr>\n",
       "  <th>Lead Add Form</th>               <td>    0.9057</td> <td>    1.016</td> <td>    0.891</td> <td> 0.373</td> <td>   -1.086</td> <td>    2.897</td>\n",
       "</tr>\n",
       "<tr>\n",
       "  <th>Lead Import</th>                 <td>    0.8318</td> <td>    0.813</td> <td>    1.024</td> <td> 0.306</td> <td>   -0.761</td> <td>    2.425</td>\n",
       "</tr>\n",
       "<tr>\n",
       "  <th>Google</th>                      <td>    0.2617</td> <td>    0.127</td> <td>    2.053</td> <td> 0.040</td> <td>    0.012</td> <td>    0.512</td>\n",
       "</tr>\n",
       "<tr>\n",
       "  <th>Olark Chat</th>                  <td>    1.3503</td> <td>    0.172</td> <td>    7.851</td> <td> 0.000</td> <td>    1.013</td> <td>    1.687</td>\n",
       "</tr>\n",
       "<tr>\n",
       "  <th>Organic Search</th>              <td>    0.1065</td> <td>    0.136</td> <td>    0.785</td> <td> 0.433</td> <td>   -0.160</td> <td>    0.373</td>\n",
       "</tr>\n",
       "<tr>\n",
       "  <th>Other_ls</th>                    <td>    0.2093</td> <td>    0.640</td> <td>    0.327</td> <td> 0.743</td> <td>   -1.044</td> <td>    1.463</td>\n",
       "</tr>\n",
       "<tr>\n",
       "  <th>Reference</th>                   <td>    2.4062</td> <td>    1.043</td> <td>    2.307</td> <td> 0.021</td> <td>    0.362</td> <td>    4.451</td>\n",
       "</tr>\n",
       "<tr>\n",
       "  <th>Referral Sites</th>              <td>    0.1360</td> <td>    0.344</td> <td>    0.395</td> <td> 0.693</td> <td>   -0.539</td> <td>    0.811</td>\n",
       "</tr>\n",
       "<tr>\n",
       "  <th>Welingak Website</th>            <td>    5.1993</td> <td>    1.253</td> <td>    4.150</td> <td> 0.000</td> <td>    2.744</td> <td>    7.655</td>\n",
       "</tr>\n",
       "<tr>\n",
       "  <th>yes_email</th>                   <td>   -1.6399</td> <td>    0.217</td> <td>   -7.562</td> <td> 0.000</td> <td>   -2.065</td> <td>   -1.215</td>\n",
       "</tr>\n",
       "<tr>\n",
       "  <th>Email Bounced</th>               <td>   -0.1297</td> <td>    0.515</td> <td>   -0.252</td> <td> 0.801</td> <td>   -1.139</td> <td>    0.880</td>\n",
       "</tr>\n",
       "<tr>\n",
       "  <th>Email Link Clicked</th>          <td>    0.3080</td> <td>    0.471</td> <td>    0.654</td> <td> 0.513</td> <td>   -0.615</td> <td>    1.231</td>\n",
       "</tr>\n",
       "<tr>\n",
       "  <th>Email Opened</th>                <td>    0.8137</td> <td>    0.255</td> <td>    3.190</td> <td> 0.001</td> <td>    0.314</td> <td>    1.314</td>\n",
       "</tr>\n",
       "<tr>\n",
       "  <th>Form Submitted on Website</th>   <td>    0.4252</td> <td>    0.403</td> <td>    1.054</td> <td> 0.292</td> <td>   -0.366</td> <td>    1.216</td>\n",
       "</tr>\n",
       "<tr>\n",
       "  <th>Olark_Chat_Conversation_la</th>  <td>   -0.4985</td> <td>    0.287</td> <td>   -1.738</td> <td> 0.082</td> <td>   -1.061</td> <td>    0.064</td>\n",
       "</tr>\n",
       "<tr>\n",
       "  <th>Other_la</th>                    <td>    1.2720</td> <td>    0.378</td> <td>    3.368</td> <td> 0.001</td> <td>    0.532</td> <td>    2.012</td>\n",
       "</tr>\n",
       "<tr>\n",
       "  <th>Page Visited on Website</th>     <td>    0.6664</td> <td>    0.303</td> <td>    2.200</td> <td> 0.028</td> <td>    0.073</td> <td>    1.260</td>\n",
       "</tr>\n",
       "<tr>\n",
       "  <th>sms_sent_la</th>                 <td>    1.3206</td> <td>    0.258</td> <td>    5.122</td> <td> 0.000</td> <td>    0.815</td> <td>    1.826</td>\n",
       "</tr>\n",
       "<tr>\n",
       "  <th>Business Administration</th>     <td>   -0.2397</td> <td>    0.252</td> <td>   -0.953</td> <td> 0.341</td> <td>   -0.733</td> <td>    0.253</td>\n",
       "</tr>\n",
       "<tr>\n",
       "  <th>E-Business</th>                  <td>    0.1462</td> <td>    0.483</td> <td>    0.303</td> <td> 0.762</td> <td>   -0.801</td> <td>    1.093</td>\n",
       "</tr>\n",
       "<tr>\n",
       "  <th>E-COMMERCE</th>                  <td>    0.0378</td> <td>    0.381</td> <td>    0.099</td> <td> 0.921</td> <td>   -0.710</td> <td>    0.785</td>\n",
       "</tr>\n",
       "<tr>\n",
       "  <th>Finance Management</th>          <td>   -0.0082</td> <td>    0.214</td> <td>   -0.039</td> <td> 0.969</td> <td>   -0.427</td> <td>    0.411</td>\n",
       "</tr>\n",
       "<tr>\n",
       "  <th>Healthcare Management</th>       <td>   -0.1063</td> <td>    0.321</td> <td>   -0.332</td> <td> 0.740</td> <td>   -0.735</td> <td>    0.522</td>\n",
       "</tr>\n",
       "<tr>\n",
       "  <th>Hospitality Management</th>      <td>   -0.3727</td> <td>    0.378</td> <td>   -0.985</td> <td> 0.325</td> <td>   -1.114</td> <td>    0.369</td>\n",
       "</tr>\n",
       "<tr>\n",
       "  <th>Human Resource Management</th>   <td>   -0.1642</td> <td>    0.216</td> <td>   -0.758</td> <td> 0.448</td> <td>   -0.588</td> <td>    0.260</td>\n",
       "</tr>\n",
       "<tr>\n",
       "  <th>IT Projects Management</th>      <td>    0.0937</td> <td>    0.259</td> <td>    0.362</td> <td> 0.717</td> <td>   -0.413</td> <td>    0.600</td>\n",
       "</tr>\n",
       "<tr>\n",
       "  <th>International Business</th>      <td>   -0.6008</td> <td>    0.318</td> <td>   -1.891</td> <td> 0.059</td> <td>   -1.223</td> <td>    0.022</td>\n",
       "</tr>\n",
       "<tr>\n",
       "  <th>Marketing Management</th>        <td>    0.0990</td> <td>    0.217</td> <td>    0.456</td> <td> 0.649</td> <td>   -0.327</td> <td>    0.525</td>\n",
       "</tr>\n",
       "<tr>\n",
       "  <th>Media and Advertising</th>       <td>   -0.4069</td> <td>    0.298</td> <td>   -1.365</td> <td> 0.172</td> <td>   -0.991</td> <td>    0.178</td>\n",
       "</tr>\n",
       "<tr>\n",
       "  <th>Operations Management</th>       <td>    0.0373</td> <td>    0.239</td> <td>    0.156</td> <td> 0.876</td> <td>   -0.432</td> <td>    0.507</td>\n",
       "</tr>\n",
       "<tr>\n",
       "  <th>Retail Management</th>           <td>   -0.4625</td> <td>    0.385</td> <td>   -1.202</td> <td> 0.229</td> <td>   -1.216</td> <td>    0.291</td>\n",
       "</tr>\n",
       "<tr>\n",
       "  <th>Rural and Agribusiness</th>      <td>   -0.0951</td> <td>    0.416</td> <td>   -0.229</td> <td> 0.819</td> <td>   -0.910</td> <td>    0.720</td>\n",
       "</tr>\n",
       "<tr>\n",
       "  <th>Services Excellence</th>         <td>   -0.1483</td> <td>    0.688</td> <td>   -0.216</td> <td> 0.829</td> <td>   -1.496</td> <td>    1.200</td>\n",
       "</tr>\n",
       "<tr>\n",
       "  <th>Supply Chain Management</th>     <td>    0.0080</td> <td>    0.261</td> <td>    0.031</td> <td> 0.975</td> <td>   -0.504</td> <td>    0.520</td>\n",
       "</tr>\n",
       "<tr>\n",
       "  <th>Travel and Tourism</th>          <td>   -0.4146</td> <td>    0.318</td> <td>   -1.303</td> <td> 0.193</td> <td>   -1.038</td> <td>    0.209</td>\n",
       "</tr>\n",
       "<tr>\n",
       "  <th>select_specs</th>                <td>   -0.8971</td> <td>    0.249</td> <td>   -3.606</td> <td> 0.000</td> <td>   -1.385</td> <td>   -0.410</td>\n",
       "</tr>\n",
       "<tr>\n",
       "  <th>Online Search</th>               <td>    0.5954</td> <td>    0.291</td> <td>    2.043</td> <td> 0.041</td> <td>    0.024</td> <td>    1.167</td>\n",
       "</tr>\n",
       "<tr>\n",
       "  <th>Other</th>                       <td>    0.5808</td> <td>    0.360</td> <td>    1.615</td> <td> 0.106</td> <td>   -0.124</td> <td>    1.286</td>\n",
       "</tr>\n",
       "<tr>\n",
       "  <th>Other_ed</th>                    <td>    0.7655</td> <td>    0.351</td> <td>    2.183</td> <td> 0.029</td> <td>    0.078</td> <td>    1.453</td>\n",
       "</tr>\n",
       "<tr>\n",
       "  <th>Select</th>                      <td>    0.6886</td> <td>    0.306</td> <td>    2.253</td> <td> 0.024</td> <td>    0.090</td> <td>    1.288</td>\n",
       "</tr>\n",
       "<tr>\n",
       "  <th>Word Of Mouth</th>               <td>    0.8279</td> <td>    0.317</td> <td>    2.608</td> <td> 0.009</td> <td>    0.206</td> <td>    1.450</td>\n",
       "</tr>\n",
       "<tr>\n",
       "  <th>edu_someschool</th>              <td>    0.8440</td> <td>    0.326</td> <td>    2.587</td> <td> 0.010</td> <td>    0.205</td> <td>    1.483</td>\n",
       "</tr>\n",
       "<tr>\n",
       "  <th>Other_lp</th>                    <td>   23.1824</td> <td> 1.36e+04</td> <td>    0.002</td> <td> 0.999</td> <td>-2.67e+04</td> <td> 2.67e+04</td>\n",
       "</tr>\n",
       "<tr>\n",
       "  <th>Potential Lead</th>              <td>    1.2454</td> <td>    0.172</td> <td>    7.254</td> <td> 0.000</td> <td>    0.909</td> <td>    1.582</td>\n",
       "</tr>\n",
       "<tr>\n",
       "  <th>lp_someschool</th>               <td>   -2.6747</td> <td>    0.514</td> <td>   -5.204</td> <td> 0.000</td> <td>   -3.682</td> <td>   -1.667</td>\n",
       "</tr>\n",
       "<tr>\n",
       "  <th>select_lp</th>                   <td>   -0.7111</td> <td>    0.155</td> <td>   -4.598</td> <td> 0.000</td> <td>   -1.014</td> <td>   -0.408</td>\n",
       "</tr>\n",
       "<tr>\n",
       "  <th>Other Cities</th>                <td>    0.0187</td> <td>    0.146</td> <td>    0.128</td> <td> 0.898</td> <td>   -0.267</td> <td>    0.305</td>\n",
       "</tr>\n",
       "<tr>\n",
       "  <th>Other Cities of Maharashtra</th> <td>   -0.0311</td> <td>    0.172</td> <td>   -0.181</td> <td> 0.856</td> <td>   -0.368</td> <td>    0.306</td>\n",
       "</tr>\n",
       "<tr>\n",
       "  <th>Other Metro Cities</th>          <td>    0.1368</td> <td>    0.180</td> <td>    0.762</td> <td> 0.446</td> <td>   -0.215</td> <td>    0.489</td>\n",
       "</tr>\n",
       "<tr>\n",
       "  <th>Thane & Outskirts</th>           <td>   -0.2727</td> <td>    0.140</td> <td>   -1.948</td> <td> 0.051</td> <td>   -0.547</td> <td>    0.002</td>\n",
       "</tr>\n",
       "<tr>\n",
       "  <th>Tier II Cities</th>              <td>   -0.0479</td> <td>    0.439</td> <td>   -0.109</td> <td> 0.913</td> <td>   -0.908</td> <td>    0.812</td>\n",
       "</tr>\n",
       "<tr>\n",
       "  <th>select_city</th>                 <td>    0.0391</td> <td>    0.201</td> <td>    0.194</td> <td> 0.846</td> <td>   -0.355</td> <td>    0.434</td>\n",
       "</tr>\n",
       "<tr>\n",
       "  <th>yes_copy</th>                    <td>   -0.1861</td> <td>    0.146</td> <td>   -1.270</td> <td> 0.204</td> <td>   -0.473</td> <td>    0.101</td>\n",
       "</tr>\n",
       "<tr>\n",
       "  <th>Email Opened</th>                <td>   -0.0428</td> <td>    0.511</td> <td>   -0.084</td> <td> 0.933</td> <td>   -1.044</td> <td>    0.958</td>\n",
       "</tr>\n",
       "<tr>\n",
       "  <th>Modified</th>                    <td>   -0.4787</td> <td>    0.490</td> <td>   -0.978</td> <td> 0.328</td> <td>   -1.438</td> <td>    0.481</td>\n",
       "</tr>\n",
       "<tr>\n",
       "  <th>Olark Chat Conversation</th>     <td>    0.0077</td> <td>    0.611</td> <td>    0.013</td> <td> 0.990</td> <td>   -1.189</td> <td>    1.204</td>\n",
       "</tr>\n",
       "<tr>\n",
       "  <th>Other_na</th>                    <td>    1.3432</td> <td>    0.628</td> <td>    2.140</td> <td> 0.032</td> <td>    0.113</td> <td>    2.573</td>\n",
       "</tr>\n",
       "<tr>\n",
       "  <th>Page Visited on Website</th>     <td>   -0.3527</td> <td>    0.572</td> <td>   -0.616</td> <td> 0.538</td> <td>   -1.474</td> <td>    0.769</td>\n",
       "</tr>\n",
       "<tr>\n",
       "  <th>SMS Sent</th>                    <td>    1.0131</td> <td>    0.513</td> <td>    1.975</td> <td> 0.048</td> <td>    0.008</td> <td>    2.019</td>\n",
       "</tr>\n",
       "</table>"
      ],
      "text/latex": [
       "\\begin{center}\n",
       "\\begin{tabular}{lclc}\n",
       "\\toprule\n",
       "\\textbf{Dep. Variable:}                &    Converted     & \\textbf{  No. Observations:  } &     6351    \\\\\n",
       "\\textbf{Model:}                        &       GLM        & \\textbf{  Df Residuals:      } &     6287    \\\\\n",
       "\\textbf{Model Family:}                 &     Binomial     & \\textbf{  Df Model:          } &       63    \\\\\n",
       "\\textbf{Link Function:}                &      Logit       & \\textbf{  Scale:             } &    1.0000   \\\\\n",
       "\\textbf{Method:}                       &       IRLS       & \\textbf{  Log-Likelihood:    } &   -2456.8   \\\\\n",
       "\\textbf{Date:}                         & Thu, 10 Aug 2023 & \\textbf{  Deviance:          } &    4913.5   \\\\\n",
       "\\textbf{Time:}                         &     23:05:25     & \\textbf{  Pearson chi2:      } &  6.53e+03   \\\\\n",
       "\\textbf{No. Iterations:}               &        22        & \\textbf{  Pseudo R-squ. (CS):} &   0.4284    \\\\\n",
       "\\textbf{Covariance Type:}              &    nonrobust     & \\textbf{                     } &             \\\\\n",
       "\\bottomrule\n",
       "\\end{tabular}\n",
       "\\begin{tabular}{lcccccc}\n",
       "                                       & \\textbf{coef} & \\textbf{std err} & \\textbf{z} & \\textbf{P$> |$z$|$} & \\textbf{[0.025} & \\textbf{0.975]}  \\\\\n",
       "\\midrule\n",
       "\\textbf{const}                         &      -2.4859  &        0.674     &    -3.691  &         0.000        &       -3.806    &       -1.166     \\\\\n",
       "\\textbf{TotalVisits}                   &       0.0328  &        0.010     &     3.379  &         0.001        &        0.014    &        0.052     \\\\\n",
       "\\textbf{Total Time Spent on Website}   &       0.0020  &     7.77e-05     &    26.349  &         0.000        &        0.002    &        0.002     \\\\\n",
       "\\textbf{Page Views Per Visit}          &      -0.0579  &        0.026     &    -2.253  &         0.024        &       -0.108    &       -0.008     \\\\\n",
       "\\textbf{Landing Page Submission}       &      -0.6610  &        0.167     &    -3.955  &         0.000        &       -0.989    &       -0.333     \\\\\n",
       "\\textbf{Lead Add Form}                 &       0.9057  &        1.016     &     0.891  &         0.373        &       -1.086    &        2.897     \\\\\n",
       "\\textbf{Lead Import}                   &       0.8318  &        0.813     &     1.024  &         0.306        &       -0.761    &        2.425     \\\\\n",
       "\\textbf{Google}                        &       0.2617  &        0.127     &     2.053  &         0.040        &        0.012    &        0.512     \\\\\n",
       "\\textbf{Olark Chat}                    &       1.3503  &        0.172     &     7.851  &         0.000        &        1.013    &        1.687     \\\\\n",
       "\\textbf{Organic Search}                &       0.1065  &        0.136     &     0.785  &         0.433        &       -0.160    &        0.373     \\\\\n",
       "\\textbf{Other\\_ls}                     &       0.2093  &        0.640     &     0.327  &         0.743        &       -1.044    &        1.463     \\\\\n",
       "\\textbf{Reference}                     &       2.4062  &        1.043     &     2.307  &         0.021        &        0.362    &        4.451     \\\\\n",
       "\\textbf{Referral Sites}                &       0.1360  &        0.344     &     0.395  &         0.693        &       -0.539    &        0.811     \\\\\n",
       "\\textbf{Welingak Website}              &       5.1993  &        1.253     &     4.150  &         0.000        &        2.744    &        7.655     \\\\\n",
       "\\textbf{yes\\_email}                    &      -1.6399  &        0.217     &    -7.562  &         0.000        &       -2.065    &       -1.215     \\\\\n",
       "\\textbf{Email Bounced}                 &      -0.1297  &        0.515     &    -0.252  &         0.801        &       -1.139    &        0.880     \\\\\n",
       "\\textbf{Email Link Clicked}            &       0.3080  &        0.471     &     0.654  &         0.513        &       -0.615    &        1.231     \\\\\n",
       "\\textbf{Email Opened}                  &       0.8137  &        0.255     &     3.190  &         0.001        &        0.314    &        1.314     \\\\\n",
       "\\textbf{Form Submitted on Website}     &       0.4252  &        0.403     &     1.054  &         0.292        &       -0.366    &        1.216     \\\\\n",
       "\\textbf{Olark\\_Chat\\_Conversation\\_la} &      -0.4985  &        0.287     &    -1.738  &         0.082        &       -1.061    &        0.064     \\\\\n",
       "\\textbf{Other\\_la}                     &       1.2720  &        0.378     &     3.368  &         0.001        &        0.532    &        2.012     \\\\\n",
       "\\textbf{Page Visited on Website}       &       0.6664  &        0.303     &     2.200  &         0.028        &        0.073    &        1.260     \\\\\n",
       "\\textbf{sms\\_sent\\_la}                 &       1.3206  &        0.258     &     5.122  &         0.000        &        0.815    &        1.826     \\\\\n",
       "\\textbf{Business Administration}       &      -0.2397  &        0.252     &    -0.953  &         0.341        &       -0.733    &        0.253     \\\\\n",
       "\\textbf{E-Business}                    &       0.1462  &        0.483     &     0.303  &         0.762        &       -0.801    &        1.093     \\\\\n",
       "\\textbf{E-COMMERCE}                    &       0.0378  &        0.381     &     0.099  &         0.921        &       -0.710    &        0.785     \\\\\n",
       "\\textbf{Finance Management}            &      -0.0082  &        0.214     &    -0.039  &         0.969        &       -0.427    &        0.411     \\\\\n",
       "\\textbf{Healthcare Management}         &      -0.1063  &        0.321     &    -0.332  &         0.740        &       -0.735    &        0.522     \\\\\n",
       "\\textbf{Hospitality Management}        &      -0.3727  &        0.378     &    -0.985  &         0.325        &       -1.114    &        0.369     \\\\\n",
       "\\textbf{Human Resource Management}     &      -0.1642  &        0.216     &    -0.758  &         0.448        &       -0.588    &        0.260     \\\\\n",
       "\\textbf{IT Projects Management}        &       0.0937  &        0.259     &     0.362  &         0.717        &       -0.413    &        0.600     \\\\\n",
       "\\textbf{International Business}        &      -0.6008  &        0.318     &    -1.891  &         0.059        &       -1.223    &        0.022     \\\\\n",
       "\\textbf{Marketing Management}          &       0.0990  &        0.217     &     0.456  &         0.649        &       -0.327    &        0.525     \\\\\n",
       "\\textbf{Media and Advertising}         &      -0.4069  &        0.298     &    -1.365  &         0.172        &       -0.991    &        0.178     \\\\\n",
       "\\textbf{Operations Management}         &       0.0373  &        0.239     &     0.156  &         0.876        &       -0.432    &        0.507     \\\\\n",
       "\\textbf{Retail Management}             &      -0.4625  &        0.385     &    -1.202  &         0.229        &       -1.216    &        0.291     \\\\\n",
       "\\textbf{Rural and Agribusiness}        &      -0.0951  &        0.416     &    -0.229  &         0.819        &       -0.910    &        0.720     \\\\\n",
       "\\textbf{Services Excellence}           &      -0.1483  &        0.688     &    -0.216  &         0.829        &       -1.496    &        1.200     \\\\\n",
       "\\textbf{Supply Chain Management}       &       0.0080  &        0.261     &     0.031  &         0.975        &       -0.504    &        0.520     \\\\\n",
       "\\textbf{Travel and Tourism}            &      -0.4146  &        0.318     &    -1.303  &         0.193        &       -1.038    &        0.209     \\\\\n",
       "\\textbf{select\\_specs}                 &      -0.8971  &        0.249     &    -3.606  &         0.000        &       -1.385    &       -0.410     \\\\\n",
       "\\textbf{Online Search}                 &       0.5954  &        0.291     &     2.043  &         0.041        &        0.024    &        1.167     \\\\\n",
       "\\textbf{Other}                         &       0.5808  &        0.360     &     1.615  &         0.106        &       -0.124    &        1.286     \\\\\n",
       "\\textbf{Other\\_ed}                     &       0.7655  &        0.351     &     2.183  &         0.029        &        0.078    &        1.453     \\\\\n",
       "\\textbf{Select}                        &       0.6886  &        0.306     &     2.253  &         0.024        &        0.090    &        1.288     \\\\\n",
       "\\textbf{Word Of Mouth}                 &       0.8279  &        0.317     &     2.608  &         0.009        &        0.206    &        1.450     \\\\\n",
       "\\textbf{edu\\_someschool}               &       0.8440  &        0.326     &     2.587  &         0.010        &        0.205    &        1.483     \\\\\n",
       "\\textbf{Other\\_lp}                     &      23.1824  &     1.36e+04     &     0.002  &         0.999        &    -2.67e+04    &     2.67e+04     \\\\\n",
       "\\textbf{Potential Lead}                &       1.2454  &        0.172     &     7.254  &         0.000        &        0.909    &        1.582     \\\\\n",
       "\\textbf{lp\\_someschool}                &      -2.6747  &        0.514     &    -5.204  &         0.000        &       -3.682    &       -1.667     \\\\\n",
       "\\textbf{select\\_lp}                    &      -0.7111  &        0.155     &    -4.598  &         0.000        &       -1.014    &       -0.408     \\\\\n",
       "\\textbf{Other Cities}                  &       0.0187  &        0.146     &     0.128  &         0.898        &       -0.267    &        0.305     \\\\\n",
       "\\textbf{Other Cities of Maharashtra}   &      -0.0311  &        0.172     &    -0.181  &         0.856        &       -0.368    &        0.306     \\\\\n",
       "\\textbf{Other Metro Cities}            &       0.1368  &        0.180     &     0.762  &         0.446        &       -0.215    &        0.489     \\\\\n",
       "\\textbf{Thane \\& Outskirts}            &      -0.2727  &        0.140     &    -1.948  &         0.051        &       -0.547    &        0.002     \\\\\n",
       "\\textbf{Tier II Cities}                &      -0.0479  &        0.439     &    -0.109  &         0.913        &       -0.908    &        0.812     \\\\\n",
       "\\textbf{select\\_city}                  &       0.0391  &        0.201     &     0.194  &         0.846        &       -0.355    &        0.434     \\\\\n",
       "\\textbf{yes\\_copy}                     &      -0.1861  &        0.146     &    -1.270  &         0.204        &       -0.473    &        0.101     \\\\\n",
       "\\textbf{Email Opened}                  &      -0.0428  &        0.511     &    -0.084  &         0.933        &       -1.044    &        0.958     \\\\\n",
       "\\textbf{Modified}                      &      -0.4787  &        0.490     &    -0.978  &         0.328        &       -1.438    &        0.481     \\\\\n",
       "\\textbf{Olark Chat Conversation}       &       0.0077  &        0.611     &     0.013  &         0.990        &       -1.189    &        1.204     \\\\\n",
       "\\textbf{Other\\_na}                     &       1.3432  &        0.628     &     2.140  &         0.032        &        0.113    &        2.573     \\\\\n",
       "\\textbf{Page Visited on Website}       &      -0.3527  &        0.572     &    -0.616  &         0.538        &       -1.474    &        0.769     \\\\\n",
       "\\textbf{SMS Sent}                      &       1.0131  &        0.513     &     1.975  &         0.048        &        0.008    &        2.019     \\\\\n",
       "\\bottomrule\n",
       "\\end{tabular}\n",
       "%\\caption{Generalized Linear Model Regression Results}\n",
       "\\end{center}"
      ],
      "text/plain": [
       "<class 'statsmodels.iolib.summary.Summary'>\n",
       "\"\"\"\n",
       "                 Generalized Linear Model Regression Results                  \n",
       "==============================================================================\n",
       "Dep. Variable:              Converted   No. Observations:                 6351\n",
       "Model:                            GLM   Df Residuals:                     6287\n",
       "Model Family:                Binomial   Df Model:                           63\n",
       "Link Function:                  Logit   Scale:                          1.0000\n",
       "Method:                          IRLS   Log-Likelihood:                -2456.8\n",
       "Date:                Thu, 10 Aug 2023   Deviance:                       4913.5\n",
       "Time:                        23:05:25   Pearson chi2:                 6.53e+03\n",
       "No. Iterations:                    22   Pseudo R-squ. (CS):             0.4284\n",
       "Covariance Type:            nonrobust                                         \n",
       "===============================================================================================\n",
       "                                  coef    std err          z      P>|z|      [0.025      0.975]\n",
       "-----------------------------------------------------------------------------------------------\n",
       "const                          -2.4859      0.674     -3.691      0.000      -3.806      -1.166\n",
       "TotalVisits                     0.0328      0.010      3.379      0.001       0.014       0.052\n",
       "Total Time Spent on Website     0.0020   7.77e-05     26.349      0.000       0.002       0.002\n",
       "Page Views Per Visit           -0.0579      0.026     -2.253      0.024      -0.108      -0.008\n",
       "Landing Page Submission        -0.6610      0.167     -3.955      0.000      -0.989      -0.333\n",
       "Lead Add Form                   0.9057      1.016      0.891      0.373      -1.086       2.897\n",
       "Lead Import                     0.8318      0.813      1.024      0.306      -0.761       2.425\n",
       "Google                          0.2617      0.127      2.053      0.040       0.012       0.512\n",
       "Olark Chat                      1.3503      0.172      7.851      0.000       1.013       1.687\n",
       "Organic Search                  0.1065      0.136      0.785      0.433      -0.160       0.373\n",
       "Other_ls                        0.2093      0.640      0.327      0.743      -1.044       1.463\n",
       "Reference                       2.4062      1.043      2.307      0.021       0.362       4.451\n",
       "Referral Sites                  0.1360      0.344      0.395      0.693      -0.539       0.811\n",
       "Welingak Website                5.1993      1.253      4.150      0.000       2.744       7.655\n",
       "yes_email                      -1.6399      0.217     -7.562      0.000      -2.065      -1.215\n",
       "Email Bounced                  -0.1297      0.515     -0.252      0.801      -1.139       0.880\n",
       "Email Link Clicked              0.3080      0.471      0.654      0.513      -0.615       1.231\n",
       "Email Opened                    0.8137      0.255      3.190      0.001       0.314       1.314\n",
       "Form Submitted on Website       0.4252      0.403      1.054      0.292      -0.366       1.216\n",
       "Olark_Chat_Conversation_la     -0.4985      0.287     -1.738      0.082      -1.061       0.064\n",
       "Other_la                        1.2720      0.378      3.368      0.001       0.532       2.012\n",
       "Page Visited on Website         0.6664      0.303      2.200      0.028       0.073       1.260\n",
       "sms_sent_la                     1.3206      0.258      5.122      0.000       0.815       1.826\n",
       "Business Administration        -0.2397      0.252     -0.953      0.341      -0.733       0.253\n",
       "E-Business                      0.1462      0.483      0.303      0.762      -0.801       1.093\n",
       "E-COMMERCE                      0.0378      0.381      0.099      0.921      -0.710       0.785\n",
       "Finance Management             -0.0082      0.214     -0.039      0.969      -0.427       0.411\n",
       "Healthcare Management          -0.1063      0.321     -0.332      0.740      -0.735       0.522\n",
       "Hospitality Management         -0.3727      0.378     -0.985      0.325      -1.114       0.369\n",
       "Human Resource Management      -0.1642      0.216     -0.758      0.448      -0.588       0.260\n",
       "IT Projects Management          0.0937      0.259      0.362      0.717      -0.413       0.600\n",
       "International Business         -0.6008      0.318     -1.891      0.059      -1.223       0.022\n",
       "Marketing Management            0.0990      0.217      0.456      0.649      -0.327       0.525\n",
       "Media and Advertising          -0.4069      0.298     -1.365      0.172      -0.991       0.178\n",
       "Operations Management           0.0373      0.239      0.156      0.876      -0.432       0.507\n",
       "Retail Management              -0.4625      0.385     -1.202      0.229      -1.216       0.291\n",
       "Rural and Agribusiness         -0.0951      0.416     -0.229      0.819      -0.910       0.720\n",
       "Services Excellence            -0.1483      0.688     -0.216      0.829      -1.496       1.200\n",
       "Supply Chain Management         0.0080      0.261      0.031      0.975      -0.504       0.520\n",
       "Travel and Tourism             -0.4146      0.318     -1.303      0.193      -1.038       0.209\n",
       "select_specs                   -0.8971      0.249     -3.606      0.000      -1.385      -0.410\n",
       "Online Search                   0.5954      0.291      2.043      0.041       0.024       1.167\n",
       "Other                           0.5808      0.360      1.615      0.106      -0.124       1.286\n",
       "Other_ed                        0.7655      0.351      2.183      0.029       0.078       1.453\n",
       "Select                          0.6886      0.306      2.253      0.024       0.090       1.288\n",
       "Word Of Mouth                   0.8279      0.317      2.608      0.009       0.206       1.450\n",
       "edu_someschool                  0.8440      0.326      2.587      0.010       0.205       1.483\n",
       "Other_lp                       23.1824   1.36e+04      0.002      0.999   -2.67e+04    2.67e+04\n",
       "Potential Lead                  1.2454      0.172      7.254      0.000       0.909       1.582\n",
       "lp_someschool                  -2.6747      0.514     -5.204      0.000      -3.682      -1.667\n",
       "select_lp                      -0.7111      0.155     -4.598      0.000      -1.014      -0.408\n",
       "Other Cities                    0.0187      0.146      0.128      0.898      -0.267       0.305\n",
       "Other Cities of Maharashtra    -0.0311      0.172     -0.181      0.856      -0.368       0.306\n",
       "Other Metro Cities              0.1368      0.180      0.762      0.446      -0.215       0.489\n",
       "Thane & Outskirts              -0.2727      0.140     -1.948      0.051      -0.547       0.002\n",
       "Tier II Cities                 -0.0479      0.439     -0.109      0.913      -0.908       0.812\n",
       "select_city                     0.0391      0.201      0.194      0.846      -0.355       0.434\n",
       "yes_copy                       -0.1861      0.146     -1.270      0.204      -0.473       0.101\n",
       "Email Opened                   -0.0428      0.511     -0.084      0.933      -1.044       0.958\n",
       "Modified                       -0.4787      0.490     -0.978      0.328      -1.438       0.481\n",
       "Olark Chat Conversation         0.0077      0.611      0.013      0.990      -1.189       1.204\n",
       "Other_na                        1.3432      0.628      2.140      0.032       0.113       2.573\n",
       "Page Visited on Website        -0.3527      0.572     -0.616      0.538      -1.474       0.769\n",
       "SMS Sent                        1.0131      0.513      1.975      0.048       0.008       2.019\n",
       "===============================================================================================\n",
       "\"\"\""
      ]
     },
     "execution_count": 125,
     "metadata": {},
     "output_type": "execute_result"
    }
   ],
   "source": [
    "model = sm.GLM(y_train, (sm.add_constant(x_train)), family = sm.families.Binomial())\n",
    "model.fit().summary()"
   ]
  },
  {
   "cell_type": "markdown",
   "metadata": {},
   "source": [
    "## G. Selecting the Variables with RFE"
   ]
  },
  {
   "cell_type": "code",
   "execution_count": 126,
   "metadata": {},
   "outputs": [],
   "source": [
    "# importing relevant libraries \n",
    "\n",
    "from sklearn.linear_model import LogisticRegression \n",
    "logreg = LogisticRegression()"
   ]
  },
  {
   "cell_type": "code",
   "execution_count": 127,
   "metadata": {},
   "outputs": [],
   "source": [
    "# running Recursive Feature Elimination (RFE) \n",
    "\n",
    "from sklearn.feature_selection import RFE \n",
    "rfe = RFE(estimator=logreg, n_features_to_select = 10)\n",
    "\n",
    "rfe = rfe.fit(x_train, y_train)"
   ]
  },
  {
   "cell_type": "code",
   "execution_count": 128,
   "metadata": {},
   "outputs": [
    {
     "data": {
      "text/plain": [
       "[('TotalVisits', False, 44),\n",
       " ('Total Time Spent on Website', False, 52),\n",
       " ('Page Views Per Visit', False, 43),\n",
       " ('Landing Page Submission', False, 2),\n",
       " ('Lead Add Form', True, 1),\n",
       " ('Lead Import', False, 47),\n",
       " ('Google', False, 28),\n",
       " ('Olark Chat', False, 38),\n",
       " ('Organic Search', False, 39),\n",
       " ('Other_ls', False, 9),\n",
       " ('Reference', False, 24),\n",
       " ('Referral Sites', False, 42),\n",
       " ('Welingak Website', True, 1),\n",
       " ('yes_email', True, 1),\n",
       " ('Email Bounced', False, 17),\n",
       " ('Email Link Clicked', False, 48),\n",
       " ('Email Opened', False, 7),\n",
       " ('Form Submitted on Website', False, 53),\n",
       " ('Olark_Chat_Conversation_la', True, 1),\n",
       " ('Other_la', False, 5),\n",
       " ('Page Visited on Website', False, 8),\n",
       " ('sms_sent_la', False, 6),\n",
       " ('Business Administration', False, 27),\n",
       " ('E-Business', False, 20),\n",
       " ('E-COMMERCE', False, 18),\n",
       " ('Finance Management', False, 51),\n",
       " ('Healthcare Management', False, 41),\n",
       " ('Hospitality Management', False, 49),\n",
       " ('Human Resource Management', False, 40),\n",
       " ('IT Projects Management', False, 54),\n",
       " ('International Business', False, 11),\n",
       " ('Marketing Management', False, 32),\n",
       " ('Media and Advertising', False, 14),\n",
       " ('Operations Management', False, 34),\n",
       " ('Retail Management', False, 15),\n",
       " ('Rural and Agribusiness', False, 50),\n",
       " ('Services Excellence', False, 25),\n",
       " ('Supply Chain Management', False, 33),\n",
       " ('Travel and Tourism', False, 12),\n",
       " ('select_specs', True, 1),\n",
       " ('Online Search', False, 30),\n",
       " ('Other', False, 29),\n",
       " ('Other_ed', False, 19),\n",
       " ('Select', False, 31),\n",
       " ('Word Of Mouth', False, 13),\n",
       " ('edu_someschool', False, 16),\n",
       " ('Other_lp', True, 1),\n",
       " ('Potential Lead', True, 1),\n",
       " ('lp_someschool', True, 1),\n",
       " ('select_lp', False, 4),\n",
       " ('Other Cities', False, 46),\n",
       " ('Other Cities of Maharashtra', False, 35),\n",
       " ('Other Metro Cities', False, 37),\n",
       " ('Thane & Outskirts', False, 26),\n",
       " ('Tier II Cities', False, 21),\n",
       " ('select_city', False, 36),\n",
       " ('yes_copy', False, 45),\n",
       " ('Email Opened', False, 22),\n",
       " ('Modified', False, 10),\n",
       " ('Olark Chat Conversation', False, 3),\n",
       " ('Other_na', True, 1),\n",
       " ('Page Visited on Website', False, 23),\n",
       " ('SMS Sent', True, 1)]"
      ]
     },
     "execution_count": 128,
     "metadata": {},
     "output_type": "execute_result"
    }
   ],
   "source": [
    "# creating a list of all the variables and their RFE rankings \n",
    "\n",
    "list(zip(x_train.columns, rfe.support_, rfe.ranking_))"
   ]
  },
  {
   "cell_type": "code",
   "execution_count": 129,
   "metadata": {},
   "outputs": [],
   "source": [
    "# storing the selected columns in col\n",
    "\n",
    "col = x_train.columns[rfe.support_]"
   ]
  },
  {
   "cell_type": "code",
   "execution_count": 130,
   "metadata": {},
   "outputs": [
    {
     "data": {
      "text/html": [
       "<div>\n",
       "<style scoped>\n",
       "    .dataframe tbody tr th:only-of-type {\n",
       "        vertical-align: middle;\n",
       "    }\n",
       "\n",
       "    .dataframe tbody tr th {\n",
       "        vertical-align: top;\n",
       "    }\n",
       "\n",
       "    .dataframe thead th {\n",
       "        text-align: right;\n",
       "    }\n",
       "</style>\n",
       "<table border=\"1\" class=\"dataframe\">\n",
       "  <thead>\n",
       "    <tr style=\"text-align: right;\">\n",
       "      <th></th>\n",
       "      <th>Lead Add Form</th>\n",
       "      <th>Welingak Website</th>\n",
       "      <th>yes_email</th>\n",
       "      <th>Olark_Chat_Conversation_la</th>\n",
       "      <th>select_specs</th>\n",
       "      <th>Other_lp</th>\n",
       "      <th>Potential Lead</th>\n",
       "      <th>lp_someschool</th>\n",
       "      <th>Other_na</th>\n",
       "      <th>SMS Sent</th>\n",
       "    </tr>\n",
       "  </thead>\n",
       "  <tbody>\n",
       "    <tr>\n",
       "      <th>3009</th>\n",
       "      <td>0</td>\n",
       "      <td>0</td>\n",
       "      <td>0</td>\n",
       "      <td>0</td>\n",
       "      <td>0</td>\n",
       "      <td>0</td>\n",
       "      <td>0</td>\n",
       "      <td>0</td>\n",
       "      <td>0</td>\n",
       "      <td>0</td>\n",
       "    </tr>\n",
       "    <tr>\n",
       "      <th>1012</th>\n",
       "      <td>0</td>\n",
       "      <td>0</td>\n",
       "      <td>1</td>\n",
       "      <td>0</td>\n",
       "      <td>1</td>\n",
       "      <td>0</td>\n",
       "      <td>0</td>\n",
       "      <td>0</td>\n",
       "      <td>1</td>\n",
       "      <td>0</td>\n",
       "    </tr>\n",
       "    <tr>\n",
       "      <th>9226</th>\n",
       "      <td>0</td>\n",
       "      <td>0</td>\n",
       "      <td>0</td>\n",
       "      <td>0</td>\n",
       "      <td>1</td>\n",
       "      <td>0</td>\n",
       "      <td>0</td>\n",
       "      <td>0</td>\n",
       "      <td>0</td>\n",
       "      <td>0</td>\n",
       "    </tr>\n",
       "    <tr>\n",
       "      <th>4750</th>\n",
       "      <td>0</td>\n",
       "      <td>0</td>\n",
       "      <td>0</td>\n",
       "      <td>0</td>\n",
       "      <td>0</td>\n",
       "      <td>0</td>\n",
       "      <td>0</td>\n",
       "      <td>0</td>\n",
       "      <td>0</td>\n",
       "      <td>1</td>\n",
       "    </tr>\n",
       "    <tr>\n",
       "      <th>7987</th>\n",
       "      <td>0</td>\n",
       "      <td>0</td>\n",
       "      <td>0</td>\n",
       "      <td>0</td>\n",
       "      <td>0</td>\n",
       "      <td>0</td>\n",
       "      <td>0</td>\n",
       "      <td>0</td>\n",
       "      <td>0</td>\n",
       "      <td>0</td>\n",
       "    </tr>\n",
       "  </tbody>\n",
       "</table>\n",
       "</div>"
      ],
      "text/plain": [
       "      Lead Add Form  Welingak Website  yes_email  Olark_Chat_Conversation_la   \n",
       "3009              0                 0          0                           0  \\\n",
       "1012              0                 0          1                           0   \n",
       "9226              0                 0          0                           0   \n",
       "4750              0                 0          0                           0   \n",
       "7987              0                 0          0                           0   \n",
       "\n",
       "      select_specs  Other_lp  Potential Lead  lp_someschool  Other_na   \n",
       "3009             0         0               0              0         0  \\\n",
       "1012             1         0               0              0         1   \n",
       "9226             1         0               0              0         0   \n",
       "4750             0         0               0              0         0   \n",
       "7987             0         0               0              0         0   \n",
       "\n",
       "      SMS Sent  \n",
       "3009         0  \n",
       "1012         0  \n",
       "9226         0  \n",
       "4750         1  \n",
       "7987         0  "
      ]
     },
     "execution_count": 130,
     "metadata": {},
     "output_type": "execute_result"
    }
   ],
   "source": [
    "x_train[col].head()"
   ]
  },
  {
   "cell_type": "code",
   "execution_count": 131,
   "metadata": {},
   "outputs": [
    {
     "data": {
      "text/plain": [
       "Index(['Lead Add Form', 'Welingak Website', 'yes_email',\n",
       "       'Olark_Chat_Conversation_la', 'select_specs', 'Other_lp',\n",
       "       'Potential Lead', 'lp_someschool', 'Other_na', 'SMS Sent'],\n",
       "      dtype='object')"
      ]
     },
     "execution_count": 131,
     "metadata": {},
     "output_type": "execute_result"
    }
   ],
   "source": [
    "# chekcking the selected columns \n",
    "\n",
    "x_train.columns[rfe.support_]"
   ]
  },
  {
   "cell_type": "markdown",
   "metadata": {},
   "source": [
    "## H. Building the Model Based on the selected variables "
   ]
  },
  {
   "cell_type": "code",
   "execution_count": 132,
   "metadata": {},
   "outputs": [
    {
     "data": {
      "text/html": [
       "<table class=\"simpletable\">\n",
       "<caption>Generalized Linear Model Regression Results</caption>\n",
       "<tr>\n",
       "  <th>Dep. Variable:</th>       <td>Converted</td>    <th>  No. Observations:  </th>  <td>  6351</td> \n",
       "</tr>\n",
       "<tr>\n",
       "  <th>Model:</th>                  <td>GLM</td>       <th>  Df Residuals:      </th>  <td>  6340</td> \n",
       "</tr>\n",
       "<tr>\n",
       "  <th>Model Family:</th>        <td>Binomial</td>     <th>  Df Model:          </th>  <td>    10</td> \n",
       "</tr>\n",
       "<tr>\n",
       "  <th>Link Function:</th>         <td>Logit</td>      <th>  Scale:             </th> <td>  1.0000</td>\n",
       "</tr>\n",
       "<tr>\n",
       "  <th>Method:</th>                <td>IRLS</td>       <th>  Log-Likelihood:    </th> <td> -3006.8</td>\n",
       "</tr>\n",
       "<tr>\n",
       "  <th>Date:</th>            <td>Thu, 10 Aug 2023</td> <th>  Deviance:          </th> <td>  6013.5</td>\n",
       "</tr>\n",
       "<tr>\n",
       "  <th>Time:</th>                <td>23:05:29</td>     <th>  Pearson chi2:      </th> <td>6.50e+03</td>\n",
       "</tr>\n",
       "<tr>\n",
       "  <th>No. Iterations:</th>         <td>22</td>        <th>  Pseudo R-squ. (CS):</th>  <td>0.3204</td> \n",
       "</tr>\n",
       "<tr>\n",
       "  <th>Covariance Type:</th>     <td>nonrobust</td>    <th>                     </th>     <td> </td>   \n",
       "</tr>\n",
       "</table>\n",
       "<table class=\"simpletable\">\n",
       "<tr>\n",
       "               <td></td>                 <th>coef</th>     <th>std err</th>      <th>z</th>      <th>P>|z|</th>  <th>[0.025</th>    <th>0.975]</th>  \n",
       "</tr>\n",
       "<tr>\n",
       "  <th>const</th>                      <td>   -1.1447</td> <td>    0.049</td> <td>  -23.161</td> <td> 0.000</td> <td>   -1.242</td> <td>   -1.048</td>\n",
       "</tr>\n",
       "<tr>\n",
       "  <th>Lead Add Form</th>              <td>    2.4136</td> <td>    0.220</td> <td>   10.955</td> <td> 0.000</td> <td>    1.982</td> <td>    2.845</td>\n",
       "</tr>\n",
       "<tr>\n",
       "  <th>Welingak Website</th>           <td>    2.5322</td> <td>    0.760</td> <td>    3.334</td> <td> 0.001</td> <td>    1.044</td> <td>    4.021</td>\n",
       "</tr>\n",
       "<tr>\n",
       "  <th>yes_email</th>                  <td>   -1.9794</td> <td>    0.177</td> <td>  -11.199</td> <td> 0.000</td> <td>   -2.326</td> <td>   -1.633</td>\n",
       "</tr>\n",
       "<tr>\n",
       "  <th>Olark_Chat_Conversation_la</th> <td>   -1.1499</td> <td>    0.151</td> <td>   -7.602</td> <td> 0.000</td> <td>   -1.446</td> <td>   -0.853</td>\n",
       "</tr>\n",
       "<tr>\n",
       "  <th>select_specs</th>               <td>   -0.2456</td> <td>    0.072</td> <td>   -3.431</td> <td> 0.001</td> <td>   -0.386</td> <td>   -0.105</td>\n",
       "</tr>\n",
       "<tr>\n",
       "  <th>Other_lp</th>                   <td>   24.3875</td> <td> 1.41e+04</td> <td>    0.002</td> <td> 0.999</td> <td>-2.77e+04</td> <td> 2.77e+04</td>\n",
       "</tr>\n",
       "<tr>\n",
       "  <th>Potential Lead</th>             <td>    1.9678</td> <td>    0.091</td> <td>   21.661</td> <td> 0.000</td> <td>    1.790</td> <td>    2.146</td>\n",
       "</tr>\n",
       "<tr>\n",
       "  <th>lp_someschool</th>              <td>   -1.9617</td> <td>    0.462</td> <td>   -4.242</td> <td> 0.000</td> <td>   -2.868</td> <td>   -1.055</td>\n",
       "</tr>\n",
       "<tr>\n",
       "  <th>Other_na</th>                   <td>    1.7456</td> <td>    0.256</td> <td>    6.808</td> <td> 0.000</td> <td>    1.243</td> <td>    2.248</td>\n",
       "</tr>\n",
       "<tr>\n",
       "  <th>SMS Sent</th>                   <td>    1.7281</td> <td>    0.073</td> <td>   23.559</td> <td> 0.000</td> <td>    1.584</td> <td>    1.872</td>\n",
       "</tr>\n",
       "</table>"
      ],
      "text/latex": [
       "\\begin{center}\n",
       "\\begin{tabular}{lclc}\n",
       "\\toprule\n",
       "\\textbf{Dep. Variable:}                &    Converted     & \\textbf{  No. Observations:  } &     6351    \\\\\n",
       "\\textbf{Model:}                        &       GLM        & \\textbf{  Df Residuals:      } &     6340    \\\\\n",
       "\\textbf{Model Family:}                 &     Binomial     & \\textbf{  Df Model:          } &       10    \\\\\n",
       "\\textbf{Link Function:}                &      Logit       & \\textbf{  Scale:             } &    1.0000   \\\\\n",
       "\\textbf{Method:}                       &       IRLS       & \\textbf{  Log-Likelihood:    } &   -3006.8   \\\\\n",
       "\\textbf{Date:}                         & Thu, 10 Aug 2023 & \\textbf{  Deviance:          } &    6013.5   \\\\\n",
       "\\textbf{Time:}                         &     23:05:29     & \\textbf{  Pearson chi2:      } &  6.50e+03   \\\\\n",
       "\\textbf{No. Iterations:}               &        22        & \\textbf{  Pseudo R-squ. (CS):} &   0.3204    \\\\\n",
       "\\textbf{Covariance Type:}              &    nonrobust     & \\textbf{                     } &             \\\\\n",
       "\\bottomrule\n",
       "\\end{tabular}\n",
       "\\begin{tabular}{lcccccc}\n",
       "                                       & \\textbf{coef} & \\textbf{std err} & \\textbf{z} & \\textbf{P$> |$z$|$} & \\textbf{[0.025} & \\textbf{0.975]}  \\\\\n",
       "\\midrule\n",
       "\\textbf{const}                         &      -1.1447  &        0.049     &   -23.161  &         0.000        &       -1.242    &       -1.048     \\\\\n",
       "\\textbf{Lead Add Form}                 &       2.4136  &        0.220     &    10.955  &         0.000        &        1.982    &        2.845     \\\\\n",
       "\\textbf{Welingak Website}              &       2.5322  &        0.760     &     3.334  &         0.001        &        1.044    &        4.021     \\\\\n",
       "\\textbf{yes\\_email}                    &      -1.9794  &        0.177     &   -11.199  &         0.000        &       -2.326    &       -1.633     \\\\\n",
       "\\textbf{Olark\\_Chat\\_Conversation\\_la} &      -1.1499  &        0.151     &    -7.602  &         0.000        &       -1.446    &       -0.853     \\\\\n",
       "\\textbf{select\\_specs}                 &      -0.2456  &        0.072     &    -3.431  &         0.001        &       -0.386    &       -0.105     \\\\\n",
       "\\textbf{Other\\_lp}                     &      24.3875  &     1.41e+04     &     0.002  &         0.999        &    -2.77e+04    &     2.77e+04     \\\\\n",
       "\\textbf{Potential Lead}                &       1.9678  &        0.091     &    21.661  &         0.000        &        1.790    &        2.146     \\\\\n",
       "\\textbf{lp\\_someschool}                &      -1.9617  &        0.462     &    -4.242  &         0.000        &       -2.868    &       -1.055     \\\\\n",
       "\\textbf{Other\\_na}                     &       1.7456  &        0.256     &     6.808  &         0.000        &        1.243    &        2.248     \\\\\n",
       "\\textbf{SMS Sent}                      &       1.7281  &        0.073     &    23.559  &         0.000        &        1.584    &        1.872     \\\\\n",
       "\\bottomrule\n",
       "\\end{tabular}\n",
       "%\\caption{Generalized Linear Model Regression Results}\n",
       "\\end{center}"
      ],
      "text/plain": [
       "<class 'statsmodels.iolib.summary.Summary'>\n",
       "\"\"\"\n",
       "                 Generalized Linear Model Regression Results                  \n",
       "==============================================================================\n",
       "Dep. Variable:              Converted   No. Observations:                 6351\n",
       "Model:                            GLM   Df Residuals:                     6340\n",
       "Model Family:                Binomial   Df Model:                           10\n",
       "Link Function:                  Logit   Scale:                          1.0000\n",
       "Method:                          IRLS   Log-Likelihood:                -3006.8\n",
       "Date:                Thu, 10 Aug 2023   Deviance:                       6013.5\n",
       "Time:                        23:05:29   Pearson chi2:                 6.50e+03\n",
       "No. Iterations:                    22   Pseudo R-squ. (CS):             0.3204\n",
       "Covariance Type:            nonrobust                                         \n",
       "==============================================================================================\n",
       "                                 coef    std err          z      P>|z|      [0.025      0.975]\n",
       "----------------------------------------------------------------------------------------------\n",
       "const                         -1.1447      0.049    -23.161      0.000      -1.242      -1.048\n",
       "Lead Add Form                  2.4136      0.220     10.955      0.000       1.982       2.845\n",
       "Welingak Website               2.5322      0.760      3.334      0.001       1.044       4.021\n",
       "yes_email                     -1.9794      0.177    -11.199      0.000      -2.326      -1.633\n",
       "Olark_Chat_Conversation_la    -1.1499      0.151     -7.602      0.000      -1.446      -0.853\n",
       "select_specs                  -0.2456      0.072     -3.431      0.001      -0.386      -0.105\n",
       "Other_lp                      24.3875   1.41e+04      0.002      0.999   -2.77e+04    2.77e+04\n",
       "Potential Lead                 1.9678      0.091     21.661      0.000       1.790       2.146\n",
       "lp_someschool                 -1.9617      0.462     -4.242      0.000      -2.868      -1.055\n",
       "Other_na                       1.7456      0.256      6.808      0.000       1.243       2.248\n",
       "SMS Sent                       1.7281      0.073     23.559      0.000       1.584       1.872\n",
       "==============================================================================================\n",
       "\"\"\""
      ]
     },
     "execution_count": 132,
     "metadata": {},
     "output_type": "execute_result"
    }
   ],
   "source": [
    "# creating the model \n",
    "\n",
    "x_train_sm = sm.add_constant(x_train[col])\n",
    "model_one = sm.GLM(y_train, x_train_sm, family = sm.families.Binomial())\n",
    "model_one.fit().summary()"
   ]
  },
  {
   "cell_type": "code",
   "execution_count": 133,
   "metadata": {},
   "outputs": [],
   "source": [
    "# importing relevant libraries \n",
    "\n",
    "from statsmodels.stats.outliers_influence import variance_inflation_factor"
   ]
  },
  {
   "cell_type": "code",
   "execution_count": 134,
   "metadata": {},
   "outputs": [
    {
     "data": {
      "text/html": [
       "<div>\n",
       "<style scoped>\n",
       "    .dataframe tbody tr th:only-of-type {\n",
       "        vertical-align: middle;\n",
       "    }\n",
       "\n",
       "    .dataframe tbody tr th {\n",
       "        vertical-align: top;\n",
       "    }\n",
       "\n",
       "    .dataframe thead th {\n",
       "        text-align: right;\n",
       "    }\n",
       "</style>\n",
       "<table border=\"1\" class=\"dataframe\">\n",
       "  <thead>\n",
       "    <tr style=\"text-align: right;\">\n",
       "      <th></th>\n",
       "      <th>variables</th>\n",
       "      <th>VIF</th>\n",
       "    </tr>\n",
       "  </thead>\n",
       "  <tbody>\n",
       "    <tr>\n",
       "      <th>0</th>\n",
       "      <td>Lead Add Form</td>\n",
       "      <td>1.52</td>\n",
       "    </tr>\n",
       "    <tr>\n",
       "      <th>4</th>\n",
       "      <td>select_specs</td>\n",
       "      <td>1.44</td>\n",
       "    </tr>\n",
       "    <tr>\n",
       "      <th>1</th>\n",
       "      <td>Welingak Website</td>\n",
       "      <td>1.36</td>\n",
       "    </tr>\n",
       "    <tr>\n",
       "      <th>3</th>\n",
       "      <td>Olark_Chat_Conversation_la</td>\n",
       "      <td>1.30</td>\n",
       "    </tr>\n",
       "    <tr>\n",
       "      <th>6</th>\n",
       "      <td>Potential Lead</td>\n",
       "      <td>1.22</td>\n",
       "    </tr>\n",
       "    <tr>\n",
       "      <th>9</th>\n",
       "      <td>SMS Sent</td>\n",
       "      <td>1.19</td>\n",
       "    </tr>\n",
       "    <tr>\n",
       "      <th>2</th>\n",
       "      <td>yes_email</td>\n",
       "      <td>1.15</td>\n",
       "    </tr>\n",
       "    <tr>\n",
       "      <th>8</th>\n",
       "      <td>Other_na</td>\n",
       "      <td>1.12</td>\n",
       "    </tr>\n",
       "    <tr>\n",
       "      <th>7</th>\n",
       "      <td>lp_someschool</td>\n",
       "      <td>1.02</td>\n",
       "    </tr>\n",
       "    <tr>\n",
       "      <th>5</th>\n",
       "      <td>Other_lp</td>\n",
       "      <td>1.00</td>\n",
       "    </tr>\n",
       "  </tbody>\n",
       "</table>\n",
       "</div>"
      ],
      "text/plain": [
       "                    variables   VIF\n",
       "0               Lead Add Form  1.52\n",
       "4                select_specs  1.44\n",
       "1            Welingak Website  1.36\n",
       "3  Olark_Chat_Conversation_la  1.30\n",
       "6              Potential Lead  1.22\n",
       "9                    SMS Sent  1.19\n",
       "2                   yes_email  1.15\n",
       "8                    Other_na  1.12\n",
       "7               lp_someschool  1.02\n",
       "5                    Other_lp  1.00"
      ]
     },
     "execution_count": 134,
     "metadata": {},
     "output_type": "execute_result"
    }
   ],
   "source": [
    "# creating a new dataframe that consists of the name of the variables and their respective VIF\n",
    "\n",
    "vif = pd.DataFrame()\n",
    "\n",
    "# assigning the column 'variables' with the columns of X_train \n",
    "\n",
    "vif['variables'] = x_train[col].columns\n",
    "\n",
    "# assigning the column 'VIF' with the VIF values of the variales \n",
    "\n",
    "vif['VIF'] = [variance_inflation_factor(x_train[col].values,i) for i in range (x_train[col].shape[1])]\n",
    "\n",
    "# rounding off the VIF values to 2 decimal places \n",
    "\n",
    "vif['VIF'] = round(vif['VIF'],2)\n",
    "\n",
    "# sorting the VIF values in descending order \n",
    "\n",
    "vif = vif.sort_values(by = 'VIF' , ascending = False)\n",
    "\n",
    "# printing the dataframe vif \n",
    "\n",
    "vif"
   ]
  },
  {
   "cell_type": "code",
   "execution_count": 135,
   "metadata": {},
   "outputs": [],
   "source": [
    "# 'other_lp' has a very low significance based on the p-value"
   ]
  },
  {
   "cell_type": "code",
   "execution_count": 136,
   "metadata": {},
   "outputs": [],
   "source": [
    "new = x_train[col]"
   ]
  },
  {
   "cell_type": "code",
   "execution_count": 137,
   "metadata": {},
   "outputs": [],
   "source": [
    "new.drop('Other_lp', axis = 1, inplace = True)"
   ]
  },
  {
   "cell_type": "code",
   "execution_count": 138,
   "metadata": {},
   "outputs": [
    {
     "data": {
      "text/html": [
       "<table class=\"simpletable\">\n",
       "<caption>Generalized Linear Model Regression Results</caption>\n",
       "<tr>\n",
       "  <th>Dep. Variable:</th>       <td>Converted</td>    <th>  No. Observations:  </th>  <td>  6351</td> \n",
       "</tr>\n",
       "<tr>\n",
       "  <th>Model:</th>                  <td>GLM</td>       <th>  Df Residuals:      </th>  <td>  6341</td> \n",
       "</tr>\n",
       "<tr>\n",
       "  <th>Model Family:</th>        <td>Binomial</td>     <th>  Df Model:          </th>  <td>     9</td> \n",
       "</tr>\n",
       "<tr>\n",
       "  <th>Link Function:</th>         <td>Logit</td>      <th>  Scale:             </th> <td>  1.0000</td>\n",
       "</tr>\n",
       "<tr>\n",
       "  <th>Method:</th>                <td>IRLS</td>       <th>  Log-Likelihood:    </th> <td> -3038.9</td>\n",
       "</tr>\n",
       "<tr>\n",
       "  <th>Date:</th>            <td>Thu, 10 Aug 2023</td> <th>  Deviance:          </th> <td>  6077.9</td>\n",
       "</tr>\n",
       "<tr>\n",
       "  <th>Time:</th>                <td>23:05:29</td>     <th>  Pearson chi2:      </th> <td>6.51e+03</td>\n",
       "</tr>\n",
       "<tr>\n",
       "  <th>No. Iterations:</th>          <td>7</td>        <th>  Pseudo R-squ. (CS):</th>  <td>0.3134</td> \n",
       "</tr>\n",
       "<tr>\n",
       "  <th>Covariance Type:</th>     <td>nonrobust</td>    <th>                     </th>     <td> </td>   \n",
       "</tr>\n",
       "</table>\n",
       "<table class=\"simpletable\">\n",
       "<tr>\n",
       "               <td></td>                 <th>coef</th>     <th>std err</th>      <th>z</th>      <th>P>|z|</th>  <th>[0.025</th>    <th>0.975]</th>  \n",
       "</tr>\n",
       "<tr>\n",
       "  <th>const</th>                      <td>   -1.1108</td> <td>    0.049</td> <td>  -22.738</td> <td> 0.000</td> <td>   -1.207</td> <td>   -1.015</td>\n",
       "</tr>\n",
       "<tr>\n",
       "  <th>Lead Add Form</th>              <td>    2.4192</td> <td>    0.220</td> <td>   11.012</td> <td> 0.000</td> <td>    1.989</td> <td>    2.850</td>\n",
       "</tr>\n",
       "<tr>\n",
       "  <th>Welingak Website</th>           <td>    2.5202</td> <td>    0.759</td> <td>    3.322</td> <td> 0.001</td> <td>    1.034</td> <td>    4.007</td>\n",
       "</tr>\n",
       "<tr>\n",
       "  <th>yes_email</th>                  <td>   -1.9449</td> <td>    0.173</td> <td>  -11.214</td> <td> 0.000</td> <td>   -2.285</td> <td>   -1.605</td>\n",
       "</tr>\n",
       "<tr>\n",
       "  <th>Olark_Chat_Conversation_la</th> <td>   -1.1625</td> <td>    0.151</td> <td>   -7.697</td> <td> 0.000</td> <td>   -1.458</td> <td>   -0.866</td>\n",
       "</tr>\n",
       "<tr>\n",
       "  <th>select_specs</th>               <td>   -0.2667</td> <td>    0.071</td> <td>   -3.745</td> <td> 0.000</td> <td>   -0.406</td> <td>   -0.127</td>\n",
       "</tr>\n",
       "<tr>\n",
       "  <th>Potential Lead</th>             <td>    1.9388</td> <td>    0.091</td> <td>   21.398</td> <td> 0.000</td> <td>    1.761</td> <td>    2.116</td>\n",
       "</tr>\n",
       "<tr>\n",
       "  <th>lp_someschool</th>              <td>   -1.9898</td> <td>    0.463</td> <td>   -4.302</td> <td> 0.000</td> <td>   -2.896</td> <td>   -1.083</td>\n",
       "</tr>\n",
       "<tr>\n",
       "  <th>Other_na</th>                   <td>    1.7012</td> <td>    0.255</td> <td>    6.680</td> <td> 0.000</td> <td>    1.202</td> <td>    2.200</td>\n",
       "</tr>\n",
       "<tr>\n",
       "  <th>SMS Sent</th>                   <td>    1.7108</td> <td>    0.073</td> <td>   23.419</td> <td> 0.000</td> <td>    1.568</td> <td>    1.854</td>\n",
       "</tr>\n",
       "</table>"
      ],
      "text/latex": [
       "\\begin{center}\n",
       "\\begin{tabular}{lclc}\n",
       "\\toprule\n",
       "\\textbf{Dep. Variable:}                &    Converted     & \\textbf{  No. Observations:  } &     6351    \\\\\n",
       "\\textbf{Model:}                        &       GLM        & \\textbf{  Df Residuals:      } &     6341    \\\\\n",
       "\\textbf{Model Family:}                 &     Binomial     & \\textbf{  Df Model:          } &        9    \\\\\n",
       "\\textbf{Link Function:}                &      Logit       & \\textbf{  Scale:             } &    1.0000   \\\\\n",
       "\\textbf{Method:}                       &       IRLS       & \\textbf{  Log-Likelihood:    } &   -3038.9   \\\\\n",
       "\\textbf{Date:}                         & Thu, 10 Aug 2023 & \\textbf{  Deviance:          } &    6077.9   \\\\\n",
       "\\textbf{Time:}                         &     23:05:29     & \\textbf{  Pearson chi2:      } &  6.51e+03   \\\\\n",
       "\\textbf{No. Iterations:}               &        7         & \\textbf{  Pseudo R-squ. (CS):} &   0.3134    \\\\\n",
       "\\textbf{Covariance Type:}              &    nonrobust     & \\textbf{                     } &             \\\\\n",
       "\\bottomrule\n",
       "\\end{tabular}\n",
       "\\begin{tabular}{lcccccc}\n",
       "                                       & \\textbf{coef} & \\textbf{std err} & \\textbf{z} & \\textbf{P$> |$z$|$} & \\textbf{[0.025} & \\textbf{0.975]}  \\\\\n",
       "\\midrule\n",
       "\\textbf{const}                         &      -1.1108  &        0.049     &   -22.738  &         0.000        &       -1.207    &       -1.015     \\\\\n",
       "\\textbf{Lead Add Form}                 &       2.4192  &        0.220     &    11.012  &         0.000        &        1.989    &        2.850     \\\\\n",
       "\\textbf{Welingak Website}              &       2.5202  &        0.759     &     3.322  &         0.001        &        1.034    &        4.007     \\\\\n",
       "\\textbf{yes\\_email}                    &      -1.9449  &        0.173     &   -11.214  &         0.000        &       -2.285    &       -1.605     \\\\\n",
       "\\textbf{Olark\\_Chat\\_Conversation\\_la} &      -1.1625  &        0.151     &    -7.697  &         0.000        &       -1.458    &       -0.866     \\\\\n",
       "\\textbf{select\\_specs}                 &      -0.2667  &        0.071     &    -3.745  &         0.000        &       -0.406    &       -0.127     \\\\\n",
       "\\textbf{Potential Lead}                &       1.9388  &        0.091     &    21.398  &         0.000        &        1.761    &        2.116     \\\\\n",
       "\\textbf{lp\\_someschool}                &      -1.9898  &        0.463     &    -4.302  &         0.000        &       -2.896    &       -1.083     \\\\\n",
       "\\textbf{Other\\_na}                     &       1.7012  &        0.255     &     6.680  &         0.000        &        1.202    &        2.200     \\\\\n",
       "\\textbf{SMS Sent}                      &       1.7108  &        0.073     &    23.419  &         0.000        &        1.568    &        1.854     \\\\\n",
       "\\bottomrule\n",
       "\\end{tabular}\n",
       "%\\caption{Generalized Linear Model Regression Results}\n",
       "\\end{center}"
      ],
      "text/plain": [
       "<class 'statsmodels.iolib.summary.Summary'>\n",
       "\"\"\"\n",
       "                 Generalized Linear Model Regression Results                  \n",
       "==============================================================================\n",
       "Dep. Variable:              Converted   No. Observations:                 6351\n",
       "Model:                            GLM   Df Residuals:                     6341\n",
       "Model Family:                Binomial   Df Model:                            9\n",
       "Link Function:                  Logit   Scale:                          1.0000\n",
       "Method:                          IRLS   Log-Likelihood:                -3038.9\n",
       "Date:                Thu, 10 Aug 2023   Deviance:                       6077.9\n",
       "Time:                        23:05:29   Pearson chi2:                 6.51e+03\n",
       "No. Iterations:                     7   Pseudo R-squ. (CS):             0.3134\n",
       "Covariance Type:            nonrobust                                         \n",
       "==============================================================================================\n",
       "                                 coef    std err          z      P>|z|      [0.025      0.975]\n",
       "----------------------------------------------------------------------------------------------\n",
       "const                         -1.1108      0.049    -22.738      0.000      -1.207      -1.015\n",
       "Lead Add Form                  2.4192      0.220     11.012      0.000       1.989       2.850\n",
       "Welingak Website               2.5202      0.759      3.322      0.001       1.034       4.007\n",
       "yes_email                     -1.9449      0.173    -11.214      0.000      -2.285      -1.605\n",
       "Olark_Chat_Conversation_la    -1.1625      0.151     -7.697      0.000      -1.458      -0.866\n",
       "select_specs                  -0.2667      0.071     -3.745      0.000      -0.406      -0.127\n",
       "Potential Lead                 1.9388      0.091     21.398      0.000       1.761       2.116\n",
       "lp_someschool                 -1.9898      0.463     -4.302      0.000      -2.896      -1.083\n",
       "Other_na                       1.7012      0.255      6.680      0.000       1.202       2.200\n",
       "SMS Sent                       1.7108      0.073     23.419      0.000       1.568       1.854\n",
       "==============================================================================================\n",
       "\"\"\""
      ]
     },
     "execution_count": 138,
     "metadata": {},
     "output_type": "execute_result"
    }
   ],
   "source": [
    "# creating the model after dropping 'Other_lp'\n",
    "\n",
    "x_train_sm = sm.add_constant(new)\n",
    "model_one = sm.GLM(y_train, x_train_sm, family = sm.families.Binomial())\n",
    "pred = model_one.fit()\n",
    "pred.summary()"
   ]
  },
  {
   "cell_type": "code",
   "execution_count": 139,
   "metadata": {},
   "outputs": [
    {
     "data": {
      "text/html": [
       "<div>\n",
       "<style scoped>\n",
       "    .dataframe tbody tr th:only-of-type {\n",
       "        vertical-align: middle;\n",
       "    }\n",
       "\n",
       "    .dataframe tbody tr th {\n",
       "        vertical-align: top;\n",
       "    }\n",
       "\n",
       "    .dataframe thead th {\n",
       "        text-align: right;\n",
       "    }\n",
       "</style>\n",
       "<table border=\"1\" class=\"dataframe\">\n",
       "  <thead>\n",
       "    <tr style=\"text-align: right;\">\n",
       "      <th></th>\n",
       "      <th>variables</th>\n",
       "      <th>VIF</th>\n",
       "    </tr>\n",
       "  </thead>\n",
       "  <tbody>\n",
       "    <tr>\n",
       "      <th>0</th>\n",
       "      <td>Lead Add Form</td>\n",
       "      <td>1.52</td>\n",
       "    </tr>\n",
       "    <tr>\n",
       "      <th>4</th>\n",
       "      <td>select_specs</td>\n",
       "      <td>1.44</td>\n",
       "    </tr>\n",
       "    <tr>\n",
       "      <th>1</th>\n",
       "      <td>Welingak Website</td>\n",
       "      <td>1.36</td>\n",
       "    </tr>\n",
       "    <tr>\n",
       "      <th>3</th>\n",
       "      <td>Olark_Chat_Conversation_la</td>\n",
       "      <td>1.30</td>\n",
       "    </tr>\n",
       "    <tr>\n",
       "      <th>5</th>\n",
       "      <td>Potential Lead</td>\n",
       "      <td>1.22</td>\n",
       "    </tr>\n",
       "    <tr>\n",
       "      <th>8</th>\n",
       "      <td>SMS Sent</td>\n",
       "      <td>1.19</td>\n",
       "    </tr>\n",
       "    <tr>\n",
       "      <th>2</th>\n",
       "      <td>yes_email</td>\n",
       "      <td>1.14</td>\n",
       "    </tr>\n",
       "    <tr>\n",
       "      <th>7</th>\n",
       "      <td>Other_na</td>\n",
       "      <td>1.12</td>\n",
       "    </tr>\n",
       "    <tr>\n",
       "      <th>6</th>\n",
       "      <td>lp_someschool</td>\n",
       "      <td>1.02</td>\n",
       "    </tr>\n",
       "  </tbody>\n",
       "</table>\n",
       "</div>"
      ],
      "text/plain": [
       "                    variables   VIF\n",
       "0               Lead Add Form  1.52\n",
       "4                select_specs  1.44\n",
       "1            Welingak Website  1.36\n",
       "3  Olark_Chat_Conversation_la  1.30\n",
       "5              Potential Lead  1.22\n",
       "8                    SMS Sent  1.19\n",
       "2                   yes_email  1.14\n",
       "7                    Other_na  1.12\n",
       "6               lp_someschool  1.02"
      ]
     },
     "execution_count": 139,
     "metadata": {},
     "output_type": "execute_result"
    }
   ],
   "source": [
    "# creating a new dataframe that consists of the name of the variables and their respective VIF\n",
    "\n",
    "vif = pd.DataFrame()\n",
    "\n",
    "# assigning the column 'variables' with the columns of X_train \n",
    "\n",
    "vif['variables'] = new.columns\n",
    "\n",
    "# assigning the column 'VIF' with the VIF values of the variales \n",
    "\n",
    "vif['VIF'] = [variance_inflation_factor(new.values,i) for i in range (new.shape[1])]\n",
    "\n",
    "# rounding off the VIF values to 2 decimal places \n",
    "\n",
    "vif['VIF'] = round(vif['VIF'],2)\n",
    "\n",
    "# sorting the VIF values in descending order \n",
    "\n",
    "vif = vif.sort_values(by = 'VIF' , ascending = False)\n",
    "\n",
    "# printing the dataframe vif \n",
    "\n",
    "vif"
   ]
  },
  {
   "cell_type": "code",
   "execution_count": 140,
   "metadata": {},
   "outputs": [
    {
     "data": {
      "text/plain": [
       "3009    0.247715\n",
       "1012    0.165043\n",
       "9226    0.201409\n",
       "4750    0.645645\n",
       "7987    0.247715\n",
       "1281    0.645645\n",
       "2880    0.247715\n",
       "4971    0.645645\n",
       "7536    0.247715\n",
       "1248    0.247715\n",
       "dtype: float64"
      ]
     },
     "execution_count": 140,
     "metadata": {},
     "output_type": "execute_result"
    }
   ],
   "source": [
    "# Getting the predicted values on the train set\n",
    "y_train_pred = pred.predict(x_train_sm)\n",
    "y_train_pred[:10]"
   ]
  },
  {
   "cell_type": "code",
   "execution_count": 141,
   "metadata": {},
   "outputs": [],
   "source": [
    "y_train_pred = y_train_pred.values.reshape(-1)\n"
   ]
  },
  {
   "cell_type": "code",
   "execution_count": 142,
   "metadata": {},
   "outputs": [
    {
     "data": {
      "text/plain": [
       "array([0.24771466, 0.16504272, 0.20140884, 0.64564454, 0.24771466,\n",
       "       0.64564454, 0.24771466, 0.64564454, 0.24771466, 0.24771466])"
      ]
     },
     "execution_count": 142,
     "metadata": {},
     "output_type": "execute_result"
    }
   ],
   "source": [
    "y_train_pred[:10]"
   ]
  },
  {
   "cell_type": "code",
   "execution_count": 143,
   "metadata": {},
   "outputs": [
    {
     "data": {
      "text/html": [
       "<div>\n",
       "<style scoped>\n",
       "    .dataframe tbody tr th:only-of-type {\n",
       "        vertical-align: middle;\n",
       "    }\n",
       "\n",
       "    .dataframe tbody tr th {\n",
       "        vertical-align: top;\n",
       "    }\n",
       "\n",
       "    .dataframe thead th {\n",
       "        text-align: right;\n",
       "    }\n",
       "</style>\n",
       "<table border=\"1\" class=\"dataframe\">\n",
       "  <thead>\n",
       "    <tr style=\"text-align: right;\">\n",
       "      <th></th>\n",
       "      <th>Convert</th>\n",
       "      <th>Converted_prob</th>\n",
       "    </tr>\n",
       "  </thead>\n",
       "  <tbody>\n",
       "    <tr>\n",
       "      <th>0</th>\n",
       "      <td>0</td>\n",
       "      <td>0.247715</td>\n",
       "    </tr>\n",
       "    <tr>\n",
       "      <th>1</th>\n",
       "      <td>0</td>\n",
       "      <td>0.165043</td>\n",
       "    </tr>\n",
       "    <tr>\n",
       "      <th>2</th>\n",
       "      <td>0</td>\n",
       "      <td>0.201409</td>\n",
       "    </tr>\n",
       "    <tr>\n",
       "      <th>3</th>\n",
       "      <td>1</td>\n",
       "      <td>0.645645</td>\n",
       "    </tr>\n",
       "    <tr>\n",
       "      <th>4</th>\n",
       "      <td>1</td>\n",
       "      <td>0.247715</td>\n",
       "    </tr>\n",
       "    <tr>\n",
       "      <th>...</th>\n",
       "      <td>...</td>\n",
       "      <td>...</td>\n",
       "    </tr>\n",
       "    <tr>\n",
       "      <th>6346</th>\n",
       "      <td>0</td>\n",
       "      <td>0.201409</td>\n",
       "    </tr>\n",
       "    <tr>\n",
       "      <th>6347</th>\n",
       "      <td>1</td>\n",
       "      <td>0.695922</td>\n",
       "    </tr>\n",
       "    <tr>\n",
       "      <th>6348</th>\n",
       "      <td>0</td>\n",
       "      <td>0.940050</td>\n",
       "    </tr>\n",
       "    <tr>\n",
       "      <th>6349</th>\n",
       "      <td>0</td>\n",
       "      <td>0.247715</td>\n",
       "    </tr>\n",
       "    <tr>\n",
       "      <th>6350</th>\n",
       "      <td>0</td>\n",
       "      <td>0.247715</td>\n",
       "    </tr>\n",
       "  </tbody>\n",
       "</table>\n",
       "<p>6351 rows × 2 columns</p>\n",
       "</div>"
      ],
      "text/plain": [
       "      Convert  Converted_prob\n",
       "0           0        0.247715\n",
       "1           0        0.165043\n",
       "2           0        0.201409\n",
       "3           1        0.645645\n",
       "4           1        0.247715\n",
       "...       ...             ...\n",
       "6346        0        0.201409\n",
       "6347        1        0.695922\n",
       "6348        0        0.940050\n",
       "6349        0        0.247715\n",
       "6350        0        0.247715\n",
       "\n",
       "[6351 rows x 2 columns]"
      ]
     },
     "execution_count": 143,
     "metadata": {},
     "output_type": "execute_result"
    }
   ],
   "source": [
    "# creating the columns 'Convert' and 'Convert_prob' for the dataframe y_train_final\n",
    "y_train_final = pd.DataFrame({'Convert' : y_train.values, 'Converted_prob' : y_train_pred})\n",
    "y_train_final"
   ]
  },
  {
   "cell_type": "code",
   "execution_count": 144,
   "metadata": {},
   "outputs": [
    {
     "data": {
      "text/html": [
       "<div>\n",
       "<style scoped>\n",
       "    .dataframe tbody tr th:only-of-type {\n",
       "        vertical-align: middle;\n",
       "    }\n",
       "\n",
       "    .dataframe tbody tr th {\n",
       "        vertical-align: top;\n",
       "    }\n",
       "\n",
       "    .dataframe thead th {\n",
       "        text-align: right;\n",
       "    }\n",
       "</style>\n",
       "<table border=\"1\" class=\"dataframe\">\n",
       "  <thead>\n",
       "    <tr style=\"text-align: right;\">\n",
       "      <th></th>\n",
       "      <th>Convert</th>\n",
       "      <th>Converted_prob</th>\n",
       "      <th>Lead_Number</th>\n",
       "    </tr>\n",
       "  </thead>\n",
       "  <tbody>\n",
       "    <tr>\n",
       "      <th>0</th>\n",
       "      <td>0</td>\n",
       "      <td>0.247715</td>\n",
       "      <td>660737.0</td>\n",
       "    </tr>\n",
       "    <tr>\n",
       "      <th>1</th>\n",
       "      <td>0</td>\n",
       "      <td>0.165043</td>\n",
       "      <td>660728.0</td>\n",
       "    </tr>\n",
       "    <tr>\n",
       "      <th>2</th>\n",
       "      <td>0</td>\n",
       "      <td>0.201409</td>\n",
       "      <td>660727.0</td>\n",
       "    </tr>\n",
       "    <tr>\n",
       "      <th>3</th>\n",
       "      <td>1</td>\n",
       "      <td>0.645645</td>\n",
       "      <td>660719.0</td>\n",
       "    </tr>\n",
       "    <tr>\n",
       "      <th>4</th>\n",
       "      <td>1</td>\n",
       "      <td>0.247715</td>\n",
       "      <td>660681.0</td>\n",
       "    </tr>\n",
       "    <tr>\n",
       "      <th>5</th>\n",
       "      <td>1</td>\n",
       "      <td>0.645645</td>\n",
       "      <td>660680.0</td>\n",
       "    </tr>\n",
       "    <tr>\n",
       "      <th>6</th>\n",
       "      <td>0</td>\n",
       "      <td>0.247715</td>\n",
       "      <td>660673.0</td>\n",
       "    </tr>\n",
       "    <tr>\n",
       "      <th>7</th>\n",
       "      <td>1</td>\n",
       "      <td>0.645645</td>\n",
       "      <td>660664.0</td>\n",
       "    </tr>\n",
       "    <tr>\n",
       "      <th>8</th>\n",
       "      <td>1</td>\n",
       "      <td>0.247715</td>\n",
       "      <td>660624.0</td>\n",
       "    </tr>\n",
       "    <tr>\n",
       "      <th>9</th>\n",
       "      <td>0</td>\n",
       "      <td>0.247715</td>\n",
       "      <td>660616.0</td>\n",
       "    </tr>\n",
       "  </tbody>\n",
       "</table>\n",
       "</div>"
      ],
      "text/plain": [
       "   Convert  Converted_prob  Lead_Number\n",
       "0        0        0.247715     660737.0\n",
       "1        0        0.165043     660728.0\n",
       "2        0        0.201409     660727.0\n",
       "3        1        0.645645     660719.0\n",
       "4        1        0.247715     660681.0\n",
       "5        1        0.645645     660680.0\n",
       "6        0        0.247715     660673.0\n",
       "7        1        0.645645     660664.0\n",
       "8        1        0.247715     660624.0\n",
       "9        0        0.247715     660616.0"
      ]
     },
     "execution_count": 144,
     "metadata": {},
     "output_type": "execute_result"
    }
   ],
   "source": [
    "# creating a column 'Lead_Number' for the datframe y_train_final\n",
    "y_train_final['Lead_Number'] = final['Lead Number']\n",
    "y_train_final.head(10\n",
    "                   )"
   ]
  },
  {
   "cell_type": "code",
   "execution_count": 145,
   "metadata": {},
   "outputs": [
    {
     "data": {
      "text/html": [
       "<div>\n",
       "<style scoped>\n",
       "    .dataframe tbody tr th:only-of-type {\n",
       "        vertical-align: middle;\n",
       "    }\n",
       "\n",
       "    .dataframe tbody tr th {\n",
       "        vertical-align: top;\n",
       "    }\n",
       "\n",
       "    .dataframe thead th {\n",
       "        text-align: right;\n",
       "    }\n",
       "</style>\n",
       "<table border=\"1\" class=\"dataframe\">\n",
       "  <thead>\n",
       "    <tr style=\"text-align: right;\">\n",
       "      <th></th>\n",
       "      <th>Convert</th>\n",
       "      <th>Converted_prob</th>\n",
       "      <th>Lead_Number</th>\n",
       "      <th>predicted</th>\n",
       "    </tr>\n",
       "  </thead>\n",
       "  <tbody>\n",
       "    <tr>\n",
       "      <th>0</th>\n",
       "      <td>0</td>\n",
       "      <td>0.247715</td>\n",
       "      <td>660737.0</td>\n",
       "      <td>0</td>\n",
       "    </tr>\n",
       "    <tr>\n",
       "      <th>1</th>\n",
       "      <td>0</td>\n",
       "      <td>0.165043</td>\n",
       "      <td>660728.0</td>\n",
       "      <td>0</td>\n",
       "    </tr>\n",
       "    <tr>\n",
       "      <th>2</th>\n",
       "      <td>0</td>\n",
       "      <td>0.201409</td>\n",
       "      <td>660727.0</td>\n",
       "      <td>0</td>\n",
       "    </tr>\n",
       "    <tr>\n",
       "      <th>3</th>\n",
       "      <td>1</td>\n",
       "      <td>0.645645</td>\n",
       "      <td>660719.0</td>\n",
       "      <td>1</td>\n",
       "    </tr>\n",
       "    <tr>\n",
       "      <th>4</th>\n",
       "      <td>1</td>\n",
       "      <td>0.247715</td>\n",
       "      <td>660681.0</td>\n",
       "      <td>0</td>\n",
       "    </tr>\n",
       "    <tr>\n",
       "      <th>5</th>\n",
       "      <td>1</td>\n",
       "      <td>0.645645</td>\n",
       "      <td>660680.0</td>\n",
       "      <td>1</td>\n",
       "    </tr>\n",
       "    <tr>\n",
       "      <th>6</th>\n",
       "      <td>0</td>\n",
       "      <td>0.247715</td>\n",
       "      <td>660673.0</td>\n",
       "      <td>0</td>\n",
       "    </tr>\n",
       "    <tr>\n",
       "      <th>7</th>\n",
       "      <td>1</td>\n",
       "      <td>0.645645</td>\n",
       "      <td>660664.0</td>\n",
       "      <td>1</td>\n",
       "    </tr>\n",
       "    <tr>\n",
       "      <th>8</th>\n",
       "      <td>1</td>\n",
       "      <td>0.247715</td>\n",
       "      <td>660624.0</td>\n",
       "      <td>0</td>\n",
       "    </tr>\n",
       "    <tr>\n",
       "      <th>9</th>\n",
       "      <td>0</td>\n",
       "      <td>0.247715</td>\n",
       "      <td>660616.0</td>\n",
       "      <td>0</td>\n",
       "    </tr>\n",
       "  </tbody>\n",
       "</table>\n",
       "</div>"
      ],
      "text/plain": [
       "   Convert  Converted_prob  Lead_Number  predicted\n",
       "0        0        0.247715     660737.0          0\n",
       "1        0        0.165043     660728.0          0\n",
       "2        0        0.201409     660727.0          0\n",
       "3        1        0.645645     660719.0          1\n",
       "4        1        0.247715     660681.0          0\n",
       "5        1        0.645645     660680.0          1\n",
       "6        0        0.247715     660673.0          0\n",
       "7        1        0.645645     660664.0          1\n",
       "8        1        0.247715     660624.0          0\n",
       "9        0        0.247715     660616.0          0"
      ]
     },
     "execution_count": 145,
     "metadata": {},
     "output_type": "execute_result"
    }
   ],
   "source": [
    "# creating a column predicted with the cutoff at 0.5\n",
    "y_train_final['predicted'] = y_train_final.Converted_prob.map(lambda x: 1 if x > 0.5 else 0)\n",
    "y_train_final.head(10)"
   ]
  },
  {
   "cell_type": "code",
   "execution_count": 146,
   "metadata": {},
   "outputs": [
    {
     "data": {
      "text/html": [
       "<div>\n",
       "<style scoped>\n",
       "    .dataframe tbody tr th:only-of-type {\n",
       "        vertical-align: middle;\n",
       "    }\n",
       "\n",
       "    .dataframe tbody tr th {\n",
       "        vertical-align: top;\n",
       "    }\n",
       "\n",
       "    .dataframe thead th {\n",
       "        text-align: right;\n",
       "    }\n",
       "</style>\n",
       "<table border=\"1\" class=\"dataframe\">\n",
       "  <thead>\n",
       "    <tr style=\"text-align: right;\">\n",
       "      <th></th>\n",
       "      <th>Convert</th>\n",
       "      <th>Converted_prob</th>\n",
       "      <th>Lead_Number</th>\n",
       "      <th>predicted</th>\n",
       "      <th>score</th>\n",
       "    </tr>\n",
       "  </thead>\n",
       "  <tbody>\n",
       "    <tr>\n",
       "      <th>0</th>\n",
       "      <td>0</td>\n",
       "      <td>0.247715</td>\n",
       "      <td>660737.0</td>\n",
       "      <td>0</td>\n",
       "      <td>25.0</td>\n",
       "    </tr>\n",
       "    <tr>\n",
       "      <th>1</th>\n",
       "      <td>0</td>\n",
       "      <td>0.165043</td>\n",
       "      <td>660728.0</td>\n",
       "      <td>0</td>\n",
       "      <td>17.0</td>\n",
       "    </tr>\n",
       "    <tr>\n",
       "      <th>2</th>\n",
       "      <td>0</td>\n",
       "      <td>0.201409</td>\n",
       "      <td>660727.0</td>\n",
       "      <td>0</td>\n",
       "      <td>20.0</td>\n",
       "    </tr>\n",
       "    <tr>\n",
       "      <th>3</th>\n",
       "      <td>1</td>\n",
       "      <td>0.645645</td>\n",
       "      <td>660719.0</td>\n",
       "      <td>1</td>\n",
       "      <td>65.0</td>\n",
       "    </tr>\n",
       "    <tr>\n",
       "      <th>4</th>\n",
       "      <td>1</td>\n",
       "      <td>0.247715</td>\n",
       "      <td>660681.0</td>\n",
       "      <td>0</td>\n",
       "      <td>25.0</td>\n",
       "    </tr>\n",
       "    <tr>\n",
       "      <th>5</th>\n",
       "      <td>1</td>\n",
       "      <td>0.645645</td>\n",
       "      <td>660680.0</td>\n",
       "      <td>1</td>\n",
       "      <td>65.0</td>\n",
       "    </tr>\n",
       "    <tr>\n",
       "      <th>6</th>\n",
       "      <td>0</td>\n",
       "      <td>0.247715</td>\n",
       "      <td>660673.0</td>\n",
       "      <td>0</td>\n",
       "      <td>25.0</td>\n",
       "    </tr>\n",
       "    <tr>\n",
       "      <th>7</th>\n",
       "      <td>1</td>\n",
       "      <td>0.645645</td>\n",
       "      <td>660664.0</td>\n",
       "      <td>1</td>\n",
       "      <td>65.0</td>\n",
       "    </tr>\n",
       "    <tr>\n",
       "      <th>8</th>\n",
       "      <td>1</td>\n",
       "      <td>0.247715</td>\n",
       "      <td>660624.0</td>\n",
       "      <td>0</td>\n",
       "      <td>25.0</td>\n",
       "    </tr>\n",
       "    <tr>\n",
       "      <th>9</th>\n",
       "      <td>0</td>\n",
       "      <td>0.247715</td>\n",
       "      <td>660616.0</td>\n",
       "      <td>0</td>\n",
       "      <td>25.0</td>\n",
       "    </tr>\n",
       "  </tbody>\n",
       "</table>\n",
       "</div>"
      ],
      "text/plain": [
       "   Convert  Converted_prob  Lead_Number  predicted  score\n",
       "0        0        0.247715     660737.0          0   25.0\n",
       "1        0        0.165043     660728.0          0   17.0\n",
       "2        0        0.201409     660727.0          0   20.0\n",
       "3        1        0.645645     660719.0          1   65.0\n",
       "4        1        0.247715     660681.0          0   25.0\n",
       "5        1        0.645645     660680.0          1   65.0\n",
       "6        0        0.247715     660673.0          0   25.0\n",
       "7        1        0.645645     660664.0          1   65.0\n",
       "8        1        0.247715     660624.0          0   25.0\n",
       "9        0        0.247715     660616.0          0   25.0"
      ]
     },
     "execution_count": 146,
     "metadata": {},
     "output_type": "execute_result"
    }
   ],
   "source": [
    "# calculating the score and storing the information in the column 'score'\n",
    "y_train_final['score'] = round(y_train_final['Converted_prob']* 100, 0)\n",
    "y_train_final.head(10)"
   ]
  },
  {
   "attachments": {},
   "cell_type": "markdown",
   "metadata": {},
   "source": [
    "### Model Evaluation"
   ]
  },
  {
   "cell_type": "code",
   "execution_count": 147,
   "metadata": {},
   "outputs": [],
   "source": [
    "from sklearn import metrics "
   ]
  },
  {
   "cell_type": "code",
   "execution_count": 148,
   "metadata": {},
   "outputs": [
    {
     "data": {
      "text/plain": [
       "array([[3325,  580],\n",
       "       [ 735, 1711]])"
      ]
     },
     "execution_count": 148,
     "metadata": {},
     "output_type": "execute_result"
    }
   ],
   "source": [
    "# creating the confusion matrix \n",
    "confusion = metrics.confusion_matrix(y_train_final.Convert, y_train_final.predicted)\n",
    "confusion"
   ]
  },
  {
   "cell_type": "code",
   "execution_count": 149,
   "metadata": {},
   "outputs": [
    {
     "name": "stdout",
     "output_type": "stream",
     "text": [
      "0.7929459927570461\n"
     ]
    }
   ],
   "source": [
    "print(metrics.accuracy_score(y_train_final.Convert, y_train_final.predicted))"
   ]
  },
  {
   "attachments": {},
   "cell_type": "markdown",
   "metadata": {},
   "source": [
    "### Checking further"
   ]
  },
  {
   "cell_type": "code",
   "execution_count": 150,
   "metadata": {},
   "outputs": [],
   "source": [
    "# true positives\n",
    "tp = confusion[1,1] \n",
    "\n",
    "#true negatives\n",
    "tn = confusion[0,0]\n",
    "\n",
    "# false positives\n",
    "fp = confusion[0,1]\n",
    "\n",
    "# false negatives\n",
    "fn = confusion[1,0]"
   ]
  },
  {
   "cell_type": "code",
   "execution_count": 151,
   "metadata": {},
   "outputs": [
    {
     "data": {
      "text/plain": [
       "0.6995094031071136"
      ]
     },
     "execution_count": 151,
     "metadata": {},
     "output_type": "execute_result"
    }
   ],
   "source": [
    "# sensitivity of the model : A measure of how accurately does the model predict the positive outcomes\n",
    "# sensitivity can also be termed as true positive rate \n",
    "tp / (tp + fn)"
   ]
  },
  {
   "cell_type": "code",
   "execution_count": 152,
   "metadata": {},
   "outputs": [
    {
     "data": {
      "text/plain": [
       "0.8514724711907811"
      ]
     },
     "execution_count": 152,
     "metadata": {},
     "output_type": "execute_result"
    }
   ],
   "source": [
    "# specificity of the model : A measure of how accurately does the model predict negative outcomes \n",
    "tn / (tn + fp)"
   ]
  },
  {
   "cell_type": "code",
   "execution_count": 153,
   "metadata": {},
   "outputs": [
    {
     "data": {
      "text/plain": [
       "0.14852752880921896"
      ]
     },
     "execution_count": 153,
     "metadata": {},
     "output_type": "execute_result"
    }
   ],
   "source": [
    " # false positive rate : A measure of how many 0s were predicted as 1 \n",
    "fp / (tn + fp)"
   ]
  },
  {
   "attachments": {},
   "cell_type": "markdown",
   "metadata": {},
   "source": [
    "### Checking ROC curve"
   ]
  },
  {
   "cell_type": "code",
   "execution_count": 154,
   "metadata": {},
   "outputs": [
    {
     "data": {
      "image/png": "[encoded data removed]",
      "text/plain": [
       "<Figure size 500x500 with 1 Axes>"
      ]
     },
     "metadata": {},
     "output_type": "display_data"
    }
   ],
   "source": [
    "# preparing the ROC curve \n",
    "\n",
    "def draw_roc( actual, probs ):\n",
    "    fpr, tpr, thresholds = metrics.roc_curve( actual, probs,\n",
    "                                              drop_intermediate = False )\n",
    "    auc_score = metrics.roc_auc_score( actual, probs )\n",
    "    plt.figure(figsize=(5, 5))\n",
    "    plt.plot( fpr, tpr, label='ROC curve (area = %0.2f)' % auc_score )\n",
    "    plt.plot([0, 1], [0, 1], 'k--')\n",
    "    plt.xlim([0.0, 1.0])\n",
    "    plt.ylim([0.0, 1.05])\n",
    "    plt.xlabel('False Positive Rate or [1 - True Negative Rate]')\n",
    "    plt.ylabel('True Positive Rate')\n",
    "    plt.title('Receiver operating characteristic example')\n",
    "    plt.legend(loc=\"lower right\")\n",
    "    plt.show()\n",
    "\n",
    "    return None\n",
    "\n",
    "# Calling the function\n",
    "draw_roc(y_train_final.Convert, y_train_final.Converted_prob)"
   ]
  },
  {
   "attachments": {},
   "cell_type": "markdown",
   "metadata": {},
   "source": [
    "### Finding optimal cutoff Point "
   ]
  },
  {
   "cell_type": "code",
   "execution_count": 155,
   "metadata": {},
   "outputs": [
    {
     "data": {
      "text/html": [
       "<div>\n",
       "<style scoped>\n",
       "    .dataframe tbody tr th:only-of-type {\n",
       "        vertical-align: middle;\n",
       "    }\n",
       "\n",
       "    .dataframe tbody tr th {\n",
       "        vertical-align: top;\n",
       "    }\n",
       "\n",
       "    .dataframe thead th {\n",
       "        text-align: right;\n",
       "    }\n",
       "</style>\n",
       "<table border=\"1\" class=\"dataframe\">\n",
       "  <thead>\n",
       "    <tr style=\"text-align: right;\">\n",
       "      <th></th>\n",
       "      <th>Convert</th>\n",
       "      <th>Converted_prob</th>\n",
       "      <th>Lead_Number</th>\n",
       "      <th>predicted</th>\n",
       "      <th>score</th>\n",
       "      <th>0.0</th>\n",
       "      <th>0.1</th>\n",
       "      <th>0.2</th>\n",
       "      <th>0.3</th>\n",
       "      <th>0.4</th>\n",
       "      <th>0.5</th>\n",
       "      <th>0.6</th>\n",
       "      <th>0.7</th>\n",
       "      <th>0.8</th>\n",
       "      <th>0.9</th>\n",
       "    </tr>\n",
       "  </thead>\n",
       "  <tbody>\n",
       "    <tr>\n",
       "      <th>0</th>\n",
       "      <td>0</td>\n",
       "      <td>0.247715</td>\n",
       "      <td>660737.0</td>\n",
       "      <td>0</td>\n",
       "      <td>25.0</td>\n",
       "      <td>1</td>\n",
       "      <td>1</td>\n",
       "      <td>1</td>\n",
       "      <td>0</td>\n",
       "      <td>0</td>\n",
       "      <td>0</td>\n",
       "      <td>0</td>\n",
       "      <td>0</td>\n",
       "      <td>0</td>\n",
       "      <td>0</td>\n",
       "    </tr>\n",
       "    <tr>\n",
       "      <th>1</th>\n",
       "      <td>0</td>\n",
       "      <td>0.165043</td>\n",
       "      <td>660728.0</td>\n",
       "      <td>0</td>\n",
       "      <td>17.0</td>\n",
       "      <td>1</td>\n",
       "      <td>1</td>\n",
       "      <td>0</td>\n",
       "      <td>0</td>\n",
       "      <td>0</td>\n",
       "      <td>0</td>\n",
       "      <td>0</td>\n",
       "      <td>0</td>\n",
       "      <td>0</td>\n",
       "      <td>0</td>\n",
       "    </tr>\n",
       "    <tr>\n",
       "      <th>2</th>\n",
       "      <td>0</td>\n",
       "      <td>0.201409</td>\n",
       "      <td>660727.0</td>\n",
       "      <td>0</td>\n",
       "      <td>20.0</td>\n",
       "      <td>1</td>\n",
       "      <td>1</td>\n",
       "      <td>1</td>\n",
       "      <td>0</td>\n",
       "      <td>0</td>\n",
       "      <td>0</td>\n",
       "      <td>0</td>\n",
       "      <td>0</td>\n",
       "      <td>0</td>\n",
       "      <td>0</td>\n",
       "    </tr>\n",
       "    <tr>\n",
       "      <th>3</th>\n",
       "      <td>1</td>\n",
       "      <td>0.645645</td>\n",
       "      <td>660719.0</td>\n",
       "      <td>1</td>\n",
       "      <td>65.0</td>\n",
       "      <td>1</td>\n",
       "      <td>1</td>\n",
       "      <td>1</td>\n",
       "      <td>1</td>\n",
       "      <td>1</td>\n",
       "      <td>1</td>\n",
       "      <td>1</td>\n",
       "      <td>0</td>\n",
       "      <td>0</td>\n",
       "      <td>0</td>\n",
       "    </tr>\n",
       "    <tr>\n",
       "      <th>4</th>\n",
       "      <td>1</td>\n",
       "      <td>0.247715</td>\n",
       "      <td>660681.0</td>\n",
       "      <td>0</td>\n",
       "      <td>25.0</td>\n",
       "      <td>1</td>\n",
       "      <td>1</td>\n",
       "      <td>1</td>\n",
       "      <td>0</td>\n",
       "      <td>0</td>\n",
       "      <td>0</td>\n",
       "      <td>0</td>\n",
       "      <td>0</td>\n",
       "      <td>0</td>\n",
       "      <td>0</td>\n",
       "    </tr>\n",
       "  </tbody>\n",
       "</table>\n",
       "</div>"
      ],
      "text/plain": [
       "   Convert  Converted_prob  Lead_Number  predicted  score  0.0  0.1  0.2  0.3   \n",
       "0        0        0.247715     660737.0          0   25.0    1    1    1    0  \\\n",
       "1        0        0.165043     660728.0          0   17.0    1    1    0    0   \n",
       "2        0        0.201409     660727.0          0   20.0    1    1    1    0   \n",
       "3        1        0.645645     660719.0          1   65.0    1    1    1    1   \n",
       "4        1        0.247715     660681.0          0   25.0    1    1    1    0   \n",
       "\n",
       "   0.4  0.5  0.6  0.7  0.8  0.9  \n",
       "0    0    0    0    0    0    0  \n",
       "1    0    0    0    0    0    0  \n",
       "2    0    0    0    0    0    0  \n",
       "3    1    1    1    0    0    0  \n",
       "4    0    0    0    0    0    0  "
      ]
     },
     "execution_count": 155,
     "metadata": {},
     "output_type": "execute_result"
    }
   ],
   "source": [
    "# Let's create columns with different probability cutoffs \n",
    "numbers = [float(x)/10 for x in range(10)]\n",
    "for i in numbers:\n",
    "    y_train_final[i]= y_train_final.Converted_prob.map(lambda x: 1 if x > i else 0)\n",
    "y_train_final.head()"
   ]
  },
  {
   "cell_type": "code",
   "execution_count": 156,
   "metadata": {},
   "outputs": [
    {
     "name": "stdout",
     "output_type": "stream",
     "text": [
      "     prob  accuracy     sensi     speci\n",
      "0.0   0.0  0.385136  1.000000  0.000000\n",
      "0.1   0.1  0.528893  0.977514  0.247887\n",
      "0.2   0.2  0.531727  0.973426  0.255058\n",
      "0.3   0.3  0.791844  0.705233  0.846095\n",
      "0.4   0.4  0.794206  0.704007  0.850704\n",
      "0.5   0.5  0.792946  0.699509  0.851472\n",
      "0.6   0.6  0.769485  0.600981  0.875032\n",
      "0.7   0.7  0.702724  0.257155  0.981818\n",
      "0.8   0.8  0.694851  0.233442  0.983867\n",
      "0.9   0.9  0.694536  0.232216  0.984123\n"
     ]
    }
   ],
   "source": [
    "# Now let's calculate accuracy sensitivity and specificity for various probability cutoffs.\n",
    "cutoff_df = pd.DataFrame( columns = ['prob','accuracy','sensi','speci'])\n",
    "from sklearn.metrics import confusion_matrix\n",
    "\n",
    "\n",
    "num = [0.0,0.1,0.2,0.3,0.4,0.5,0.6,0.7,0.8,0.9]\n",
    "for i in num:\n",
    "    cm1 = metrics.confusion_matrix(y_train_final.Convert, y_train_final[i] )\n",
    "    total1=sum(sum(cm1))\n",
    "    accuracy = (cm1[0,0]+cm1[1,1])/total1\n",
    "    speci = cm1[0,0]/(cm1[0,0]+cm1[0,1])\n",
    "    sensi = cm1[1,1]/(cm1[1,0]+cm1[1,1])\n",
    "    cutoff_df.loc[i] =[ i ,accuracy,sensi,speci]\n",
    "print(cutoff_df)"
   ]
  },
  {
   "cell_type": "code",
   "execution_count": 157,
   "metadata": {},
   "outputs": [
    {
     "data": {
      "image/png": "[encoded data removed]",
      "text/plain": [
       "<Figure size 640x480 with 1 Axes>"
      ]
     },
     "metadata": {},
     "output_type": "display_data"
    }
   ],
   "source": [
    "# Let's plot accuracy sensitivity and specificity for various probabilities.\n",
    "cutoff_df.plot.line(x='prob', y=['accuracy','sensi','speci'])\n",
    "plt.show()"
   ]
  },
  {
   "cell_type": "code",
   "execution_count": 158,
   "metadata": {},
   "outputs": [
    {
     "data": {
      "text/html": [
       "<div>\n",
       "<style scoped>\n",
       "    .dataframe tbody tr th:only-of-type {\n",
       "        vertical-align: middle;\n",
       "    }\n",
       "\n",
       "    .dataframe tbody tr th {\n",
       "        vertical-align: top;\n",
       "    }\n",
       "\n",
       "    .dataframe thead th {\n",
       "        text-align: right;\n",
       "    }\n",
       "</style>\n",
       "<table border=\"1\" class=\"dataframe\">\n",
       "  <thead>\n",
       "    <tr style=\"text-align: right;\">\n",
       "      <th></th>\n",
       "      <th>Convert</th>\n",
       "      <th>Converted_prob</th>\n",
       "      <th>Lead_Number</th>\n",
       "      <th>predicted</th>\n",
       "      <th>score</th>\n",
       "      <th>0.0</th>\n",
       "      <th>0.1</th>\n",
       "      <th>0.2</th>\n",
       "      <th>0.3</th>\n",
       "      <th>0.4</th>\n",
       "      <th>0.5</th>\n",
       "      <th>0.6</th>\n",
       "      <th>0.7</th>\n",
       "      <th>0.8</th>\n",
       "      <th>0.9</th>\n",
       "      <th>final_predicted</th>\n",
       "    </tr>\n",
       "  </thead>\n",
       "  <tbody>\n",
       "    <tr>\n",
       "      <th>0</th>\n",
       "      <td>0</td>\n",
       "      <td>0.247715</td>\n",
       "      <td>660737.0</td>\n",
       "      <td>0</td>\n",
       "      <td>25.0</td>\n",
       "      <td>1</td>\n",
       "      <td>1</td>\n",
       "      <td>1</td>\n",
       "      <td>0</td>\n",
       "      <td>0</td>\n",
       "      <td>0</td>\n",
       "      <td>0</td>\n",
       "      <td>0</td>\n",
       "      <td>0</td>\n",
       "      <td>0</td>\n",
       "      <td>0</td>\n",
       "    </tr>\n",
       "    <tr>\n",
       "      <th>1</th>\n",
       "      <td>0</td>\n",
       "      <td>0.165043</td>\n",
       "      <td>660728.0</td>\n",
       "      <td>0</td>\n",
       "      <td>17.0</td>\n",
       "      <td>1</td>\n",
       "      <td>1</td>\n",
       "      <td>0</td>\n",
       "      <td>0</td>\n",
       "      <td>0</td>\n",
       "      <td>0</td>\n",
       "      <td>0</td>\n",
       "      <td>0</td>\n",
       "      <td>0</td>\n",
       "      <td>0</td>\n",
       "      <td>0</td>\n",
       "    </tr>\n",
       "    <tr>\n",
       "      <th>2</th>\n",
       "      <td>0</td>\n",
       "      <td>0.201409</td>\n",
       "      <td>660727.0</td>\n",
       "      <td>0</td>\n",
       "      <td>20.0</td>\n",
       "      <td>1</td>\n",
       "      <td>1</td>\n",
       "      <td>1</td>\n",
       "      <td>0</td>\n",
       "      <td>0</td>\n",
       "      <td>0</td>\n",
       "      <td>0</td>\n",
       "      <td>0</td>\n",
       "      <td>0</td>\n",
       "      <td>0</td>\n",
       "      <td>0</td>\n",
       "    </tr>\n",
       "    <tr>\n",
       "      <th>3</th>\n",
       "      <td>1</td>\n",
       "      <td>0.645645</td>\n",
       "      <td>660719.0</td>\n",
       "      <td>1</td>\n",
       "      <td>65.0</td>\n",
       "      <td>1</td>\n",
       "      <td>1</td>\n",
       "      <td>1</td>\n",
       "      <td>1</td>\n",
       "      <td>1</td>\n",
       "      <td>1</td>\n",
       "      <td>1</td>\n",
       "      <td>0</td>\n",
       "      <td>0</td>\n",
       "      <td>0</td>\n",
       "      <td>1</td>\n",
       "    </tr>\n",
       "    <tr>\n",
       "      <th>4</th>\n",
       "      <td>1</td>\n",
       "      <td>0.247715</td>\n",
       "      <td>660681.0</td>\n",
       "      <td>0</td>\n",
       "      <td>25.0</td>\n",
       "      <td>1</td>\n",
       "      <td>1</td>\n",
       "      <td>1</td>\n",
       "      <td>0</td>\n",
       "      <td>0</td>\n",
       "      <td>0</td>\n",
       "      <td>0</td>\n",
       "      <td>0</td>\n",
       "      <td>0</td>\n",
       "      <td>0</td>\n",
       "      <td>0</td>\n",
       "    </tr>\n",
       "  </tbody>\n",
       "</table>\n",
       "</div>"
      ],
      "text/plain": [
       "   Convert  Converted_prob  Lead_Number  predicted  score  0.0  0.1  0.2  0.3   \n",
       "0        0        0.247715     660737.0          0   25.0    1    1    1    0  \\\n",
       "1        0        0.165043     660728.0          0   17.0    1    1    0    0   \n",
       "2        0        0.201409     660727.0          0   20.0    1    1    1    0   \n",
       "3        1        0.645645     660719.0          1   65.0    1    1    1    1   \n",
       "4        1        0.247715     660681.0          0   25.0    1    1    1    0   \n",
       "\n",
       "   0.4  0.5  0.6  0.7  0.8  0.9  final_predicted  \n",
       "0    0    0    0    0    0    0                0  \n",
       "1    0    0    0    0    0    0                0  \n",
       "2    0    0    0    0    0    0                0  \n",
       "3    1    1    1    0    0    0                1  \n",
       "4    0    0    0    0    0    0                0  "
      ]
     },
     "execution_count": 158,
     "metadata": {},
     "output_type": "execute_result"
    }
   ],
   "source": [
    "y_train_final['final_predicted'] = y_train_final.Converted_prob.map(lambda x : 1 if x > 0.3 else 0)\n",
    "y_train_final.head()"
   ]
  },
  {
   "attachments": {},
   "cell_type": "markdown",
   "metadata": {},
   "source": [
    "### lead source assign"
   ]
  },
  {
   "cell_type": "code",
   "execution_count": 160,
   "metadata": {},
   "outputs": [
    {
     "data": {
      "text/html": [
       "<div>\n",
       "<style scoped>\n",
       "    .dataframe tbody tr th:only-of-type {\n",
       "        vertical-align: middle;\n",
       "    }\n",
       "\n",
       "    .dataframe tbody tr th {\n",
       "        vertical-align: top;\n",
       "    }\n",
       "\n",
       "    .dataframe thead th {\n",
       "        text-align: right;\n",
       "    }\n",
       "</style>\n",
       "<table border=\"1\" class=\"dataframe\">\n",
       "  <thead>\n",
       "    <tr style=\"text-align: right;\">\n",
       "      <th></th>\n",
       "      <th>Convert</th>\n",
       "      <th>Converted_prob</th>\n",
       "      <th>Lead_Number</th>\n",
       "      <th>predicted</th>\n",
       "      <th>score</th>\n",
       "      <th>0.0</th>\n",
       "      <th>0.1</th>\n",
       "      <th>0.2</th>\n",
       "      <th>0.3</th>\n",
       "      <th>0.4</th>\n",
       "      <th>0.5</th>\n",
       "      <th>0.6</th>\n",
       "      <th>0.7</th>\n",
       "      <th>0.8</th>\n",
       "      <th>0.9</th>\n",
       "      <th>final_predicted</th>\n",
       "      <th>Lead_Score</th>\n",
       "    </tr>\n",
       "  </thead>\n",
       "  <tbody>\n",
       "    <tr>\n",
       "      <th>0</th>\n",
       "      <td>0</td>\n",
       "      <td>0.247715</td>\n",
       "      <td>660737.0</td>\n",
       "      <td>0</td>\n",
       "      <td>25.0</td>\n",
       "      <td>1</td>\n",
       "      <td>1</td>\n",
       "      <td>1</td>\n",
       "      <td>0</td>\n",
       "      <td>0</td>\n",
       "      <td>0</td>\n",
       "      <td>0</td>\n",
       "      <td>0</td>\n",
       "      <td>0</td>\n",
       "      <td>0</td>\n",
       "      <td>0</td>\n",
       "      <td>25</td>\n",
       "    </tr>\n",
       "    <tr>\n",
       "      <th>1</th>\n",
       "      <td>0</td>\n",
       "      <td>0.165043</td>\n",
       "      <td>660728.0</td>\n",
       "      <td>0</td>\n",
       "      <td>17.0</td>\n",
       "      <td>1</td>\n",
       "      <td>1</td>\n",
       "      <td>0</td>\n",
       "      <td>0</td>\n",
       "      <td>0</td>\n",
       "      <td>0</td>\n",
       "      <td>0</td>\n",
       "      <td>0</td>\n",
       "      <td>0</td>\n",
       "      <td>0</td>\n",
       "      <td>0</td>\n",
       "      <td>17</td>\n",
       "    </tr>\n",
       "    <tr>\n",
       "      <th>2</th>\n",
       "      <td>0</td>\n",
       "      <td>0.201409</td>\n",
       "      <td>660727.0</td>\n",
       "      <td>0</td>\n",
       "      <td>20.0</td>\n",
       "      <td>1</td>\n",
       "      <td>1</td>\n",
       "      <td>1</td>\n",
       "      <td>0</td>\n",
       "      <td>0</td>\n",
       "      <td>0</td>\n",
       "      <td>0</td>\n",
       "      <td>0</td>\n",
       "      <td>0</td>\n",
       "      <td>0</td>\n",
       "      <td>0</td>\n",
       "      <td>20</td>\n",
       "    </tr>\n",
       "    <tr>\n",
       "      <th>3</th>\n",
       "      <td>1</td>\n",
       "      <td>0.645645</td>\n",
       "      <td>660719.0</td>\n",
       "      <td>1</td>\n",
       "      <td>65.0</td>\n",
       "      <td>1</td>\n",
       "      <td>1</td>\n",
       "      <td>1</td>\n",
       "      <td>1</td>\n",
       "      <td>1</td>\n",
       "      <td>1</td>\n",
       "      <td>1</td>\n",
       "      <td>0</td>\n",
       "      <td>0</td>\n",
       "      <td>0</td>\n",
       "      <td>1</td>\n",
       "      <td>65</td>\n",
       "    </tr>\n",
       "    <tr>\n",
       "      <th>4</th>\n",
       "      <td>1</td>\n",
       "      <td>0.247715</td>\n",
       "      <td>660681.0</td>\n",
       "      <td>0</td>\n",
       "      <td>25.0</td>\n",
       "      <td>1</td>\n",
       "      <td>1</td>\n",
       "      <td>1</td>\n",
       "      <td>0</td>\n",
       "      <td>0</td>\n",
       "      <td>0</td>\n",
       "      <td>0</td>\n",
       "      <td>0</td>\n",
       "      <td>0</td>\n",
       "      <td>0</td>\n",
       "      <td>0</td>\n",
       "      <td>25</td>\n",
       "    </tr>\n",
       "    <tr>\n",
       "      <th>5</th>\n",
       "      <td>1</td>\n",
       "      <td>0.645645</td>\n",
       "      <td>660680.0</td>\n",
       "      <td>1</td>\n",
       "      <td>65.0</td>\n",
       "      <td>1</td>\n",
       "      <td>1</td>\n",
       "      <td>1</td>\n",
       "      <td>1</td>\n",
       "      <td>1</td>\n",
       "      <td>1</td>\n",
       "      <td>1</td>\n",
       "      <td>0</td>\n",
       "      <td>0</td>\n",
       "      <td>0</td>\n",
       "      <td>1</td>\n",
       "      <td>65</td>\n",
       "    </tr>\n",
       "    <tr>\n",
       "      <th>6</th>\n",
       "      <td>0</td>\n",
       "      <td>0.247715</td>\n",
       "      <td>660673.0</td>\n",
       "      <td>0</td>\n",
       "      <td>25.0</td>\n",
       "      <td>1</td>\n",
       "      <td>1</td>\n",
       "      <td>1</td>\n",
       "      <td>0</td>\n",
       "      <td>0</td>\n",
       "      <td>0</td>\n",
       "      <td>0</td>\n",
       "      <td>0</td>\n",
       "      <td>0</td>\n",
       "      <td>0</td>\n",
       "      <td>0</td>\n",
       "      <td>25</td>\n",
       "    </tr>\n",
       "    <tr>\n",
       "      <th>7</th>\n",
       "      <td>1</td>\n",
       "      <td>0.645645</td>\n",
       "      <td>660664.0</td>\n",
       "      <td>1</td>\n",
       "      <td>65.0</td>\n",
       "      <td>1</td>\n",
       "      <td>1</td>\n",
       "      <td>1</td>\n",
       "      <td>1</td>\n",
       "      <td>1</td>\n",
       "      <td>1</td>\n",
       "      <td>1</td>\n",
       "      <td>0</td>\n",
       "      <td>0</td>\n",
       "      <td>0</td>\n",
       "      <td>1</td>\n",
       "      <td>65</td>\n",
       "    </tr>\n",
       "    <tr>\n",
       "      <th>8</th>\n",
       "      <td>1</td>\n",
       "      <td>0.247715</td>\n",
       "      <td>660624.0</td>\n",
       "      <td>0</td>\n",
       "      <td>25.0</td>\n",
       "      <td>1</td>\n",
       "      <td>1</td>\n",
       "      <td>1</td>\n",
       "      <td>0</td>\n",
       "      <td>0</td>\n",
       "      <td>0</td>\n",
       "      <td>0</td>\n",
       "      <td>0</td>\n",
       "      <td>0</td>\n",
       "      <td>0</td>\n",
       "      <td>0</td>\n",
       "      <td>25</td>\n",
       "    </tr>\n",
       "    <tr>\n",
       "      <th>9</th>\n",
       "      <td>0</td>\n",
       "      <td>0.247715</td>\n",
       "      <td>660616.0</td>\n",
       "      <td>0</td>\n",
       "      <td>25.0</td>\n",
       "      <td>1</td>\n",
       "      <td>1</td>\n",
       "      <td>1</td>\n",
       "      <td>0</td>\n",
       "      <td>0</td>\n",
       "      <td>0</td>\n",
       "      <td>0</td>\n",
       "      <td>0</td>\n",
       "      <td>0</td>\n",
       "      <td>0</td>\n",
       "      <td>0</td>\n",
       "      <td>25</td>\n",
       "    </tr>\n",
       "  </tbody>\n",
       "</table>\n",
       "</div>"
      ],
      "text/plain": [
       "   Convert  Converted_prob  Lead_Number  predicted  score  0.0  0.1  0.2  0.3   \n",
       "0        0        0.247715     660737.0          0   25.0    1    1    1    0  \\\n",
       "1        0        0.165043     660728.0          0   17.0    1    1    0    0   \n",
       "2        0        0.201409     660727.0          0   20.0    1    1    1    0   \n",
       "3        1        0.645645     660719.0          1   65.0    1    1    1    1   \n",
       "4        1        0.247715     660681.0          0   25.0    1    1    1    0   \n",
       "5        1        0.645645     660680.0          1   65.0    1    1    1    1   \n",
       "6        0        0.247715     660673.0          0   25.0    1    1    1    0   \n",
       "7        1        0.645645     660664.0          1   65.0    1    1    1    1   \n",
       "8        1        0.247715     660624.0          0   25.0    1    1    1    0   \n",
       "9        0        0.247715     660616.0          0   25.0    1    1    1    0   \n",
       "\n",
       "   0.4  0.5  0.6  0.7  0.8  0.9  final_predicted  Lead_Score  \n",
       "0    0    0    0    0    0    0                0          25  \n",
       "1    0    0    0    0    0    0                0          17  \n",
       "2    0    0    0    0    0    0                0          20  \n",
       "3    1    1    1    0    0    0                1          65  \n",
       "4    0    0    0    0    0    0                0          25  \n",
       "5    1    1    1    0    0    0                1          65  \n",
       "6    0    0    0    0    0    0                0          25  \n",
       "7    1    1    1    0    0    0                1          65  \n",
       "8    0    0    0    0    0    0                0          25  \n",
       "9    0    0    0    0    0    0                0          25  "
      ]
     },
     "execution_count": 160,
     "metadata": {},
     "output_type": "execute_result"
    }
   ],
   "source": [
    "y_train_final[\"Lead_Score\"] = y_train_final.Converted_prob.map(lambda x : round(x * 100))\n",
    "y_train_final.head(10)"
   ]
  },
  {
   "cell_type": "code",
   "execution_count": null,
   "metadata": {},
   "outputs": [],
   "source": []
  }
 ],
 "metadata": {
  "kernelspec": {
   "display_name": "Python 3 (ipykernel)",
   "language": "python",
   "name": "python3"
  },
  "language_info": {
   "codemirror_mode": {
    "name": "ipython",
    "version": 3
   },
   "file_extension": ".py",
   "mimetype": "text/x-python",
   "name": "python",
   "nbconvert_exporter": "python",
   "pygments_lexer": "ipython3",
   "version": "3.9.6"
  }
 },
 "nbformat": 4,
 "nbformat_minor": 4
}
