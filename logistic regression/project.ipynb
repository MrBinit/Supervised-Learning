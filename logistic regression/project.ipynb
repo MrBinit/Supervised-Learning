{
 "cells": [
  {
   "attachments": {},
   "cell_type": "markdown",
   "metadata": {},
   "source": [
    "City of Los Angeles crime data from 2020 to current date"
   ]
  },
  {
   "attachments": {},
   "cell_type": "markdown",
   "metadata": {},
   "source": [
    "### Problem statement: Find out the area where the crime rate is higher and where the los angeles coup should priortize highly"
   ]
  },
  {
   "cell_type": "markdown",
   "metadata": {},
   "source": []
  },
  {
   "cell_type": "code",
   "execution_count": 219,
   "metadata": {},
   "outputs": [],
   "source": [
    "import numpy as np \n",
    "import pandas as pd"
   ]
  },
  {
   "cell_type": "code",
   "execution_count": 220,
   "metadata": {},
   "outputs": [],
   "source": [
    "df = pd.read_csv(\"/Users/mrbinit/Downloads/Crime_Data_from_2020_to_Present.csv\")"
   ]
  },
  {
   "cell_type": "code",
   "execution_count": 221,
   "metadata": {},
   "outputs": [
    {
     "data": {
      "text/html": [
       "<div>\n",
       "<style scoped>\n",
       "    .dataframe tbody tr th:only-of-type {\n",
       "        vertical-align: middle;\n",
       "    }\n",
       "\n",
       "    .dataframe tbody tr th {\n",
       "        vertical-align: top;\n",
       "    }\n",
       "\n",
       "    .dataframe thead th {\n",
       "        text-align: right;\n",
       "    }\n",
       "</style>\n",
       "<table border=\"1\" class=\"dataframe\">\n",
       "  <thead>\n",
       "    <tr style=\"text-align: right;\">\n",
       "      <th></th>\n",
       "      <th>DR_NO</th>\n",
       "      <th>Date Rptd</th>\n",
       "      <th>DATE OCC</th>\n",
       "      <th>TIME OCC</th>\n",
       "      <th>AREA</th>\n",
       "      <th>AREA NAME</th>\n",
       "      <th>Rpt Dist No</th>\n",
       "      <th>Part 1-2</th>\n",
       "      <th>Crm Cd</th>\n",
       "      <th>Crm Cd Desc</th>\n",
       "      <th>...</th>\n",
       "      <th>Status</th>\n",
       "      <th>Status Desc</th>\n",
       "      <th>Crm Cd 1</th>\n",
       "      <th>Crm Cd 2</th>\n",
       "      <th>Crm Cd 3</th>\n",
       "      <th>Crm Cd 4</th>\n",
       "      <th>LOCATION</th>\n",
       "      <th>Cross Street</th>\n",
       "      <th>LAT</th>\n",
       "      <th>LON</th>\n",
       "    </tr>\n",
       "  </thead>\n",
       "  <tbody>\n",
       "    <tr>\n",
       "      <th>0</th>\n",
       "      <td>10304468</td>\n",
       "      <td>01/08/2020 12:00:00 AM</td>\n",
       "      <td>01/08/2020 12:00:00 AM</td>\n",
       "      <td>2230</td>\n",
       "      <td>3</td>\n",
       "      <td>Southwest</td>\n",
       "      <td>377</td>\n",
       "      <td>2</td>\n",
       "      <td>624</td>\n",
       "      <td>BATTERY - SIMPLE ASSAULT</td>\n",
       "      <td>...</td>\n",
       "      <td>AO</td>\n",
       "      <td>Adult Other</td>\n",
       "      <td>624.0</td>\n",
       "      <td>NaN</td>\n",
       "      <td>NaN</td>\n",
       "      <td>NaN</td>\n",
       "      <td>1100 W  39TH                         PL</td>\n",
       "      <td>NaN</td>\n",
       "      <td>34.0141</td>\n",
       "      <td>-118.2978</td>\n",
       "    </tr>\n",
       "    <tr>\n",
       "      <th>1</th>\n",
       "      <td>190101086</td>\n",
       "      <td>01/02/2020 12:00:00 AM</td>\n",
       "      <td>01/01/2020 12:00:00 AM</td>\n",
       "      <td>330</td>\n",
       "      <td>1</td>\n",
       "      <td>Central</td>\n",
       "      <td>163</td>\n",
       "      <td>2</td>\n",
       "      <td>624</td>\n",
       "      <td>BATTERY - SIMPLE ASSAULT</td>\n",
       "      <td>...</td>\n",
       "      <td>IC</td>\n",
       "      <td>Invest Cont</td>\n",
       "      <td>624.0</td>\n",
       "      <td>NaN</td>\n",
       "      <td>NaN</td>\n",
       "      <td>NaN</td>\n",
       "      <td>700 S  HILL                         ST</td>\n",
       "      <td>NaN</td>\n",
       "      <td>34.0459</td>\n",
       "      <td>-118.2545</td>\n",
       "    </tr>\n",
       "    <tr>\n",
       "      <th>2</th>\n",
       "      <td>200110444</td>\n",
       "      <td>04/14/2020 12:00:00 AM</td>\n",
       "      <td>02/13/2020 12:00:00 AM</td>\n",
       "      <td>1200</td>\n",
       "      <td>1</td>\n",
       "      <td>Central</td>\n",
       "      <td>155</td>\n",
       "      <td>2</td>\n",
       "      <td>845</td>\n",
       "      <td>SEX OFFENDER REGISTRANT OUT OF COMPLIANCE</td>\n",
       "      <td>...</td>\n",
       "      <td>AA</td>\n",
       "      <td>Adult Arrest</td>\n",
       "      <td>845.0</td>\n",
       "      <td>NaN</td>\n",
       "      <td>NaN</td>\n",
       "      <td>NaN</td>\n",
       "      <td>200 E  6TH                          ST</td>\n",
       "      <td>NaN</td>\n",
       "      <td>34.0448</td>\n",
       "      <td>-118.2474</td>\n",
       "    </tr>\n",
       "    <tr>\n",
       "      <th>3</th>\n",
       "      <td>191501505</td>\n",
       "      <td>01/01/2020 12:00:00 AM</td>\n",
       "      <td>01/01/2020 12:00:00 AM</td>\n",
       "      <td>1730</td>\n",
       "      <td>15</td>\n",
       "      <td>N Hollywood</td>\n",
       "      <td>1543</td>\n",
       "      <td>2</td>\n",
       "      <td>745</td>\n",
       "      <td>VANDALISM - MISDEAMEANOR ($399 OR UNDER)</td>\n",
       "      <td>...</td>\n",
       "      <td>IC</td>\n",
       "      <td>Invest Cont</td>\n",
       "      <td>745.0</td>\n",
       "      <td>998.0</td>\n",
       "      <td>NaN</td>\n",
       "      <td>NaN</td>\n",
       "      <td>5400    CORTEEN                      PL</td>\n",
       "      <td>NaN</td>\n",
       "      <td>34.1685</td>\n",
       "      <td>-118.4019</td>\n",
       "    </tr>\n",
       "    <tr>\n",
       "      <th>4</th>\n",
       "      <td>191921269</td>\n",
       "      <td>01/01/2020 12:00:00 AM</td>\n",
       "      <td>01/01/2020 12:00:00 AM</td>\n",
       "      <td>415</td>\n",
       "      <td>19</td>\n",
       "      <td>Mission</td>\n",
       "      <td>1998</td>\n",
       "      <td>2</td>\n",
       "      <td>740</td>\n",
       "      <td>VANDALISM - FELONY ($400 &amp; OVER, ALL CHURCH VA...</td>\n",
       "      <td>...</td>\n",
       "      <td>IC</td>\n",
       "      <td>Invest Cont</td>\n",
       "      <td>740.0</td>\n",
       "      <td>NaN</td>\n",
       "      <td>NaN</td>\n",
       "      <td>NaN</td>\n",
       "      <td>14400    TITUS                        ST</td>\n",
       "      <td>NaN</td>\n",
       "      <td>34.2198</td>\n",
       "      <td>-118.4468</td>\n",
       "    </tr>\n",
       "    <tr>\n",
       "      <th>5</th>\n",
       "      <td>200100501</td>\n",
       "      <td>01/02/2020 12:00:00 AM</td>\n",
       "      <td>01/01/2020 12:00:00 AM</td>\n",
       "      <td>30</td>\n",
       "      <td>1</td>\n",
       "      <td>Central</td>\n",
       "      <td>163</td>\n",
       "      <td>1</td>\n",
       "      <td>121</td>\n",
       "      <td>RAPE, FORCIBLE</td>\n",
       "      <td>...</td>\n",
       "      <td>IC</td>\n",
       "      <td>Invest Cont</td>\n",
       "      <td>121.0</td>\n",
       "      <td>998.0</td>\n",
       "      <td>NaN</td>\n",
       "      <td>NaN</td>\n",
       "      <td>700 S  BROADWAY</td>\n",
       "      <td>NaN</td>\n",
       "      <td>34.0452</td>\n",
       "      <td>-118.2534</td>\n",
       "    </tr>\n",
       "    <tr>\n",
       "      <th>6</th>\n",
       "      <td>200100502</td>\n",
       "      <td>01/02/2020 12:00:00 AM</td>\n",
       "      <td>01/02/2020 12:00:00 AM</td>\n",
       "      <td>1315</td>\n",
       "      <td>1</td>\n",
       "      <td>Central</td>\n",
       "      <td>161</td>\n",
       "      <td>1</td>\n",
       "      <td>442</td>\n",
       "      <td>SHOPLIFTING - PETTY THEFT ($950 &amp; UNDER)</td>\n",
       "      <td>...</td>\n",
       "      <td>IC</td>\n",
       "      <td>Invest Cont</td>\n",
       "      <td>442.0</td>\n",
       "      <td>998.0</td>\n",
       "      <td>NaN</td>\n",
       "      <td>NaN</td>\n",
       "      <td>700 S  FIGUEROA                     ST</td>\n",
       "      <td>NaN</td>\n",
       "      <td>34.0483</td>\n",
       "      <td>-118.2631</td>\n",
       "    </tr>\n",
       "    <tr>\n",
       "      <th>7</th>\n",
       "      <td>200100504</td>\n",
       "      <td>01/04/2020 12:00:00 AM</td>\n",
       "      <td>01/04/2020 12:00:00 AM</td>\n",
       "      <td>40</td>\n",
       "      <td>1</td>\n",
       "      <td>Central</td>\n",
       "      <td>155</td>\n",
       "      <td>2</td>\n",
       "      <td>946</td>\n",
       "      <td>OTHER MISCELLANEOUS CRIME</td>\n",
       "      <td>...</td>\n",
       "      <td>IC</td>\n",
       "      <td>Invest Cont</td>\n",
       "      <td>946.0</td>\n",
       "      <td>998.0</td>\n",
       "      <td>NaN</td>\n",
       "      <td>NaN</td>\n",
       "      <td>200 E  6TH                          ST</td>\n",
       "      <td>NaN</td>\n",
       "      <td>34.0448</td>\n",
       "      <td>-118.2474</td>\n",
       "    </tr>\n",
       "    <tr>\n",
       "      <th>8</th>\n",
       "      <td>200100507</td>\n",
       "      <td>01/04/2020 12:00:00 AM</td>\n",
       "      <td>01/04/2020 12:00:00 AM</td>\n",
       "      <td>200</td>\n",
       "      <td>1</td>\n",
       "      <td>Central</td>\n",
       "      <td>101</td>\n",
       "      <td>1</td>\n",
       "      <td>341</td>\n",
       "      <td>THEFT-GRAND ($950.01 &amp; OVER)EXCPT,GUNS,FOWL,LI...</td>\n",
       "      <td>...</td>\n",
       "      <td>IC</td>\n",
       "      <td>Invest Cont</td>\n",
       "      <td>341.0</td>\n",
       "      <td>998.0</td>\n",
       "      <td>NaN</td>\n",
       "      <td>NaN</td>\n",
       "      <td>700    BERNARD                      ST</td>\n",
       "      <td>NaN</td>\n",
       "      <td>34.0677</td>\n",
       "      <td>-118.2398</td>\n",
       "    </tr>\n",
       "    <tr>\n",
       "      <th>9</th>\n",
       "      <td>201710201</td>\n",
       "      <td>06/19/2020 12:00:00 AM</td>\n",
       "      <td>05/26/2020 12:00:00 AM</td>\n",
       "      <td>1925</td>\n",
       "      <td>17</td>\n",
       "      <td>Devonshire</td>\n",
       "      <td>1708</td>\n",
       "      <td>1</td>\n",
       "      <td>341</td>\n",
       "      <td>THEFT-GRAND ($950.01 &amp; OVER)EXCPT,GUNS,FOWL,LI...</td>\n",
       "      <td>...</td>\n",
       "      <td>AO</td>\n",
       "      <td>Adult Other</td>\n",
       "      <td>341.0</td>\n",
       "      <td>NaN</td>\n",
       "      <td>NaN</td>\n",
       "      <td>NaN</td>\n",
       "      <td>11900    BALBOA                       BL</td>\n",
       "      <td>NaN</td>\n",
       "      <td>34.2864</td>\n",
       "      <td>-118.5021</td>\n",
       "    </tr>\n",
       "  </tbody>\n",
       "</table>\n",
       "<p>10 rows × 28 columns</p>\n",
       "</div>"
      ],
      "text/plain": [
       "       DR_NO               Date Rptd                DATE OCC  TIME OCC  AREA   \n",
       "0   10304468  01/08/2020 12:00:00 AM  01/08/2020 12:00:00 AM      2230     3  \\\n",
       "1  190101086  01/02/2020 12:00:00 AM  01/01/2020 12:00:00 AM       330     1   \n",
       "2  200110444  04/14/2020 12:00:00 AM  02/13/2020 12:00:00 AM      1200     1   \n",
       "3  191501505  01/01/2020 12:00:00 AM  01/01/2020 12:00:00 AM      1730    15   \n",
       "4  191921269  01/01/2020 12:00:00 AM  01/01/2020 12:00:00 AM       415    19   \n",
       "5  200100501  01/02/2020 12:00:00 AM  01/01/2020 12:00:00 AM        30     1   \n",
       "6  200100502  01/02/2020 12:00:00 AM  01/02/2020 12:00:00 AM      1315     1   \n",
       "7  200100504  01/04/2020 12:00:00 AM  01/04/2020 12:00:00 AM        40     1   \n",
       "8  200100507  01/04/2020 12:00:00 AM  01/04/2020 12:00:00 AM       200     1   \n",
       "9  201710201  06/19/2020 12:00:00 AM  05/26/2020 12:00:00 AM      1925    17   \n",
       "\n",
       "     AREA NAME  Rpt Dist No  Part 1-2  Crm Cd   \n",
       "0    Southwest          377         2     624  \\\n",
       "1      Central          163         2     624   \n",
       "2      Central          155         2     845   \n",
       "3  N Hollywood         1543         2     745   \n",
       "4      Mission         1998         2     740   \n",
       "5      Central          163         1     121   \n",
       "6      Central          161         1     442   \n",
       "7      Central          155         2     946   \n",
       "8      Central          101         1     341   \n",
       "9   Devonshire         1708         1     341   \n",
       "\n",
       "                                         Crm Cd Desc  ... Status   \n",
       "0                           BATTERY - SIMPLE ASSAULT  ...     AO  \\\n",
       "1                           BATTERY - SIMPLE ASSAULT  ...     IC   \n",
       "2          SEX OFFENDER REGISTRANT OUT OF COMPLIANCE  ...     AA   \n",
       "3           VANDALISM - MISDEAMEANOR ($399 OR UNDER)  ...     IC   \n",
       "4  VANDALISM - FELONY ($400 & OVER, ALL CHURCH VA...  ...     IC   \n",
       "5                                     RAPE, FORCIBLE  ...     IC   \n",
       "6           SHOPLIFTING - PETTY THEFT ($950 & UNDER)  ...     IC   \n",
       "7                          OTHER MISCELLANEOUS CRIME  ...     IC   \n",
       "8  THEFT-GRAND ($950.01 & OVER)EXCPT,GUNS,FOWL,LI...  ...     IC   \n",
       "9  THEFT-GRAND ($950.01 & OVER)EXCPT,GUNS,FOWL,LI...  ...     AO   \n",
       "\n",
       "    Status Desc Crm Cd 1 Crm Cd 2  Crm Cd 3 Crm Cd 4   \n",
       "0   Adult Other    624.0      NaN       NaN      NaN  \\\n",
       "1   Invest Cont    624.0      NaN       NaN      NaN   \n",
       "2  Adult Arrest    845.0      NaN       NaN      NaN   \n",
       "3   Invest Cont    745.0    998.0       NaN      NaN   \n",
       "4   Invest Cont    740.0      NaN       NaN      NaN   \n",
       "5   Invest Cont    121.0    998.0       NaN      NaN   \n",
       "6   Invest Cont    442.0    998.0       NaN      NaN   \n",
       "7   Invest Cont    946.0    998.0       NaN      NaN   \n",
       "8   Invest Cont    341.0    998.0       NaN      NaN   \n",
       "9   Adult Other    341.0      NaN       NaN      NaN   \n",
       "\n",
       "                                   LOCATION Cross Street      LAT       LON  \n",
       "0   1100 W  39TH                         PL          NaN  34.0141 -118.2978  \n",
       "1    700 S  HILL                         ST          NaN  34.0459 -118.2545  \n",
       "2    200 E  6TH                          ST          NaN  34.0448 -118.2474  \n",
       "3   5400    CORTEEN                      PL          NaN  34.1685 -118.4019  \n",
       "4  14400    TITUS                        ST          NaN  34.2198 -118.4468  \n",
       "5                           700 S  BROADWAY          NaN  34.0452 -118.2534  \n",
       "6    700 S  FIGUEROA                     ST          NaN  34.0483 -118.2631  \n",
       "7    200 E  6TH                          ST          NaN  34.0448 -118.2474  \n",
       "8    700    BERNARD                      ST          NaN  34.0677 -118.2398  \n",
       "9  11900    BALBOA                       BL          NaN  34.2864 -118.5021  \n",
       "\n",
       "[10 rows x 28 columns]"
      ]
     },
     "execution_count": 221,
     "metadata": {},
     "output_type": "execute_result"
    }
   ],
   "source": [
    "df.head(10)"
   ]
  },
  {
   "cell_type": "code",
   "execution_count": 222,
   "metadata": {},
   "outputs": [
    {
     "data": {
      "text/plain": [
       "Index(['DR_NO', 'Date Rptd', 'DATE OCC', 'TIME OCC', 'AREA', 'AREA NAME',\n",
       "       'Rpt Dist No', 'Part 1-2', 'Crm Cd', 'Crm Cd Desc', 'Mocodes',\n",
       "       'Vict Age', 'Vict Sex', 'Vict Descent', 'Premis Cd', 'Premis Desc',\n",
       "       'Weapon Used Cd', 'Weapon Desc', 'Status', 'Status Desc', 'Crm Cd 1',\n",
       "       'Crm Cd 2', 'Crm Cd 3', 'Crm Cd 4', 'LOCATION', 'Cross Street', 'LAT',\n",
       "       'LON'],\n",
       "      dtype='object')"
      ]
     },
     "execution_count": 222,
     "metadata": {},
     "output_type": "execute_result"
    }
   ],
   "source": [
    "df.columns"
   ]
  },
  {
   "cell_type": "code",
   "execution_count": 223,
   "metadata": {},
   "outputs": [
    {
     "data": {
      "text/plain": [
       "(770787, 28)"
      ]
     },
     "execution_count": 223,
     "metadata": {},
     "output_type": "execute_result"
    }
   ],
   "source": [
    "df.shape"
   ]
  },
  {
   "cell_type": "code",
   "execution_count": 224,
   "metadata": {},
   "outputs": [
    {
     "name": "stdout",
     "output_type": "stream",
     "text": [
      "<class 'pandas.core.frame.DataFrame'>\n",
      "RangeIndex: 770787 entries, 0 to 770786\n",
      "Data columns (total 28 columns):\n",
      " #   Column          Non-Null Count   Dtype  \n",
      "---  ------          --------------   -----  \n",
      " 0   DR_NO           770787 non-null  int64  \n",
      " 1   Date Rptd       770787 non-null  object \n",
      " 2   DATE OCC        770787 non-null  object \n",
      " 3   TIME OCC        770787 non-null  int64  \n",
      " 4   AREA            770787 non-null  int64  \n",
      " 5   AREA NAME       770787 non-null  object \n",
      " 6   Rpt Dist No     770787 non-null  int64  \n",
      " 7   Part 1-2        770787 non-null  int64  \n",
      " 8   Crm Cd          770787 non-null  int64  \n",
      " 9   Crm Cd Desc     770787 non-null  object \n",
      " 10  Mocodes         664916 non-null  object \n",
      " 11  Vict Age        770787 non-null  int64  \n",
      " 12  Vict Sex        669964 non-null  object \n",
      " 13  Vict Descent    669958 non-null  object \n",
      " 14  Premis Cd       770778 non-null  float64\n",
      " 15  Premis Desc     770334 non-null  object \n",
      " 16  Weapon Used Cd  268001 non-null  float64\n",
      " 17  Weapon Desc     268001 non-null  object \n",
      " 18  Status          770787 non-null  object \n",
      " 19  Status Desc     770787 non-null  object \n",
      " 20  Crm Cd 1        770777 non-null  float64\n",
      " 21  Crm Cd 2        56971 non-null   float64\n",
      " 22  Crm Cd 3        1899 non-null    float64\n",
      " 23  Crm Cd 4        57 non-null      float64\n",
      " 24  LOCATION        770787 non-null  object \n",
      " 25  Cross Street    123786 non-null  object \n",
      " 26  LAT             770787 non-null  float64\n",
      " 27  LON             770787 non-null  float64\n",
      "dtypes: float64(8), int64(7), object(13)\n",
      "memory usage: 164.7+ MB\n"
     ]
    }
   ],
   "source": [
    "df.info()\n"
   ]
  },
  {
   "cell_type": "code",
   "execution_count": 225,
   "metadata": {},
   "outputs": [],
   "source": [
    "# Assuming you have a DataFrame called 'df' with the original column names\n",
    "original_columns = ['DR_NO', 'Date Rptd', 'DATE OCC', 'TIME OCC', 'AREA', 'AREA NAME',\n",
    "                   'Rpt Dist No', 'Part 1-2', 'Crm Cd', 'Crm Cd Desc', 'Mocodes',\n",
    "                   'Vict Age', 'Vict Sex', 'Vict Descent', 'Premis Cd', 'Premis Desc',\n",
    "                   'Weapon Used Cd', 'Weapon Desc', 'Status', 'Status Desc', 'Crm Cd 1',\n",
    "                   'Crm Cd 2', 'Crm Cd 3', 'Crm Cd 4', 'LOCATION', 'Cross Street', 'LAT',\n",
    "                   'LON']\n",
    "\n",
    "# New column names you want to set\n",
    "new_columns = ['DR_NUMBER', 'Date_Reported', 'Date_Occurred', 'Time_Occurred', 'Area', 'Area_Name',\n",
    "               'Report_District_Number', 'Part_Type', 'Crime_Code', 'Crime_Description', 'Modcodes',\n",
    "               'Victim_Age', 'Victim_Sex', 'Victim_Descent', 'Premises_Code', 'Premises_Description',\n",
    "               'Weapon_Used_Code', 'Weapon_Description', 'Status', 'Status_Description', 'Crime_Code_1',\n",
    "               'Crime_Code_2', 'Crime_Code_3', 'Crime_Code_4', 'Location', 'Cross_Street', 'Latitude',\n",
    "               'Longitude']\n",
    "\n",
    "# Rename the columns\n",
    "df.columns = new_columns"
   ]
  },
  {
   "cell_type": "code",
   "execution_count": 226,
   "metadata": {},
   "outputs": [
    {
     "data": {
      "text/html": [
       "<div>\n",
       "<style scoped>\n",
       "    .dataframe tbody tr th:only-of-type {\n",
       "        vertical-align: middle;\n",
       "    }\n",
       "\n",
       "    .dataframe tbody tr th {\n",
       "        vertical-align: top;\n",
       "    }\n",
       "\n",
       "    .dataframe thead th {\n",
       "        text-align: right;\n",
       "    }\n",
       "</style>\n",
       "<table border=\"1\" class=\"dataframe\">\n",
       "  <thead>\n",
       "    <tr style=\"text-align: right;\">\n",
       "      <th></th>\n",
       "      <th>DR_NUMBER</th>\n",
       "      <th>Date_Reported</th>\n",
       "      <th>Date_Occurred</th>\n",
       "      <th>Time_Occurred</th>\n",
       "      <th>Area</th>\n",
       "      <th>Area_Name</th>\n",
       "      <th>Report_District_Number</th>\n",
       "      <th>Part_Type</th>\n",
       "      <th>Crime_Code</th>\n",
       "      <th>Crime_Description</th>\n",
       "      <th>...</th>\n",
       "      <th>Status</th>\n",
       "      <th>Status_Description</th>\n",
       "      <th>Crime_Code_1</th>\n",
       "      <th>Crime_Code_2</th>\n",
       "      <th>Crime_Code_3</th>\n",
       "      <th>Crime_Code_4</th>\n",
       "      <th>Location</th>\n",
       "      <th>Cross_Street</th>\n",
       "      <th>Latitude</th>\n",
       "      <th>Longitude</th>\n",
       "    </tr>\n",
       "  </thead>\n",
       "  <tbody>\n",
       "    <tr>\n",
       "      <th>0</th>\n",
       "      <td>10304468</td>\n",
       "      <td>01/08/2020 12:00:00 AM</td>\n",
       "      <td>01/08/2020 12:00:00 AM</td>\n",
       "      <td>2230</td>\n",
       "      <td>3</td>\n",
       "      <td>Southwest</td>\n",
       "      <td>377</td>\n",
       "      <td>2</td>\n",
       "      <td>624</td>\n",
       "      <td>BATTERY - SIMPLE ASSAULT</td>\n",
       "      <td>...</td>\n",
       "      <td>AO</td>\n",
       "      <td>Adult Other</td>\n",
       "      <td>624.0</td>\n",
       "      <td>NaN</td>\n",
       "      <td>NaN</td>\n",
       "      <td>NaN</td>\n",
       "      <td>1100 W  39TH                         PL</td>\n",
       "      <td>NaN</td>\n",
       "      <td>34.0141</td>\n",
       "      <td>-118.2978</td>\n",
       "    </tr>\n",
       "    <tr>\n",
       "      <th>1</th>\n",
       "      <td>190101086</td>\n",
       "      <td>01/02/2020 12:00:00 AM</td>\n",
       "      <td>01/01/2020 12:00:00 AM</td>\n",
       "      <td>330</td>\n",
       "      <td>1</td>\n",
       "      <td>Central</td>\n",
       "      <td>163</td>\n",
       "      <td>2</td>\n",
       "      <td>624</td>\n",
       "      <td>BATTERY - SIMPLE ASSAULT</td>\n",
       "      <td>...</td>\n",
       "      <td>IC</td>\n",
       "      <td>Invest Cont</td>\n",
       "      <td>624.0</td>\n",
       "      <td>NaN</td>\n",
       "      <td>NaN</td>\n",
       "      <td>NaN</td>\n",
       "      <td>700 S  HILL                         ST</td>\n",
       "      <td>NaN</td>\n",
       "      <td>34.0459</td>\n",
       "      <td>-118.2545</td>\n",
       "    </tr>\n",
       "    <tr>\n",
       "      <th>2</th>\n",
       "      <td>200110444</td>\n",
       "      <td>04/14/2020 12:00:00 AM</td>\n",
       "      <td>02/13/2020 12:00:00 AM</td>\n",
       "      <td>1200</td>\n",
       "      <td>1</td>\n",
       "      <td>Central</td>\n",
       "      <td>155</td>\n",
       "      <td>2</td>\n",
       "      <td>845</td>\n",
       "      <td>SEX OFFENDER REGISTRANT OUT OF COMPLIANCE</td>\n",
       "      <td>...</td>\n",
       "      <td>AA</td>\n",
       "      <td>Adult Arrest</td>\n",
       "      <td>845.0</td>\n",
       "      <td>NaN</td>\n",
       "      <td>NaN</td>\n",
       "      <td>NaN</td>\n",
       "      <td>200 E  6TH                          ST</td>\n",
       "      <td>NaN</td>\n",
       "      <td>34.0448</td>\n",
       "      <td>-118.2474</td>\n",
       "    </tr>\n",
       "    <tr>\n",
       "      <th>3</th>\n",
       "      <td>191501505</td>\n",
       "      <td>01/01/2020 12:00:00 AM</td>\n",
       "      <td>01/01/2020 12:00:00 AM</td>\n",
       "      <td>1730</td>\n",
       "      <td>15</td>\n",
       "      <td>N Hollywood</td>\n",
       "      <td>1543</td>\n",
       "      <td>2</td>\n",
       "      <td>745</td>\n",
       "      <td>VANDALISM - MISDEAMEANOR ($399 OR UNDER)</td>\n",
       "      <td>...</td>\n",
       "      <td>IC</td>\n",
       "      <td>Invest Cont</td>\n",
       "      <td>745.0</td>\n",
       "      <td>998.0</td>\n",
       "      <td>NaN</td>\n",
       "      <td>NaN</td>\n",
       "      <td>5400    CORTEEN                      PL</td>\n",
       "      <td>NaN</td>\n",
       "      <td>34.1685</td>\n",
       "      <td>-118.4019</td>\n",
       "    </tr>\n",
       "    <tr>\n",
       "      <th>4</th>\n",
       "      <td>191921269</td>\n",
       "      <td>01/01/2020 12:00:00 AM</td>\n",
       "      <td>01/01/2020 12:00:00 AM</td>\n",
       "      <td>415</td>\n",
       "      <td>19</td>\n",
       "      <td>Mission</td>\n",
       "      <td>1998</td>\n",
       "      <td>2</td>\n",
       "      <td>740</td>\n",
       "      <td>VANDALISM - FELONY ($400 &amp; OVER, ALL CHURCH VA...</td>\n",
       "      <td>...</td>\n",
       "      <td>IC</td>\n",
       "      <td>Invest Cont</td>\n",
       "      <td>740.0</td>\n",
       "      <td>NaN</td>\n",
       "      <td>NaN</td>\n",
       "      <td>NaN</td>\n",
       "      <td>14400    TITUS                        ST</td>\n",
       "      <td>NaN</td>\n",
       "      <td>34.2198</td>\n",
       "      <td>-118.4468</td>\n",
       "    </tr>\n",
       "    <tr>\n",
       "      <th>5</th>\n",
       "      <td>200100501</td>\n",
       "      <td>01/02/2020 12:00:00 AM</td>\n",
       "      <td>01/01/2020 12:00:00 AM</td>\n",
       "      <td>30</td>\n",
       "      <td>1</td>\n",
       "      <td>Central</td>\n",
       "      <td>163</td>\n",
       "      <td>1</td>\n",
       "      <td>121</td>\n",
       "      <td>RAPE, FORCIBLE</td>\n",
       "      <td>...</td>\n",
       "      <td>IC</td>\n",
       "      <td>Invest Cont</td>\n",
       "      <td>121.0</td>\n",
       "      <td>998.0</td>\n",
       "      <td>NaN</td>\n",
       "      <td>NaN</td>\n",
       "      <td>700 S  BROADWAY</td>\n",
       "      <td>NaN</td>\n",
       "      <td>34.0452</td>\n",
       "      <td>-118.2534</td>\n",
       "    </tr>\n",
       "    <tr>\n",
       "      <th>6</th>\n",
       "      <td>200100502</td>\n",
       "      <td>01/02/2020 12:00:00 AM</td>\n",
       "      <td>01/02/2020 12:00:00 AM</td>\n",
       "      <td>1315</td>\n",
       "      <td>1</td>\n",
       "      <td>Central</td>\n",
       "      <td>161</td>\n",
       "      <td>1</td>\n",
       "      <td>442</td>\n",
       "      <td>SHOPLIFTING - PETTY THEFT ($950 &amp; UNDER)</td>\n",
       "      <td>...</td>\n",
       "      <td>IC</td>\n",
       "      <td>Invest Cont</td>\n",
       "      <td>442.0</td>\n",
       "      <td>998.0</td>\n",
       "      <td>NaN</td>\n",
       "      <td>NaN</td>\n",
       "      <td>700 S  FIGUEROA                     ST</td>\n",
       "      <td>NaN</td>\n",
       "      <td>34.0483</td>\n",
       "      <td>-118.2631</td>\n",
       "    </tr>\n",
       "    <tr>\n",
       "      <th>7</th>\n",
       "      <td>200100504</td>\n",
       "      <td>01/04/2020 12:00:00 AM</td>\n",
       "      <td>01/04/2020 12:00:00 AM</td>\n",
       "      <td>40</td>\n",
       "      <td>1</td>\n",
       "      <td>Central</td>\n",
       "      <td>155</td>\n",
       "      <td>2</td>\n",
       "      <td>946</td>\n",
       "      <td>OTHER MISCELLANEOUS CRIME</td>\n",
       "      <td>...</td>\n",
       "      <td>IC</td>\n",
       "      <td>Invest Cont</td>\n",
       "      <td>946.0</td>\n",
       "      <td>998.0</td>\n",
       "      <td>NaN</td>\n",
       "      <td>NaN</td>\n",
       "      <td>200 E  6TH                          ST</td>\n",
       "      <td>NaN</td>\n",
       "      <td>34.0448</td>\n",
       "      <td>-118.2474</td>\n",
       "    </tr>\n",
       "    <tr>\n",
       "      <th>8</th>\n",
       "      <td>200100507</td>\n",
       "      <td>01/04/2020 12:00:00 AM</td>\n",
       "      <td>01/04/2020 12:00:00 AM</td>\n",
       "      <td>200</td>\n",
       "      <td>1</td>\n",
       "      <td>Central</td>\n",
       "      <td>101</td>\n",
       "      <td>1</td>\n",
       "      <td>341</td>\n",
       "      <td>THEFT-GRAND ($950.01 &amp; OVER)EXCPT,GUNS,FOWL,LI...</td>\n",
       "      <td>...</td>\n",
       "      <td>IC</td>\n",
       "      <td>Invest Cont</td>\n",
       "      <td>341.0</td>\n",
       "      <td>998.0</td>\n",
       "      <td>NaN</td>\n",
       "      <td>NaN</td>\n",
       "      <td>700    BERNARD                      ST</td>\n",
       "      <td>NaN</td>\n",
       "      <td>34.0677</td>\n",
       "      <td>-118.2398</td>\n",
       "    </tr>\n",
       "    <tr>\n",
       "      <th>9</th>\n",
       "      <td>201710201</td>\n",
       "      <td>06/19/2020 12:00:00 AM</td>\n",
       "      <td>05/26/2020 12:00:00 AM</td>\n",
       "      <td>1925</td>\n",
       "      <td>17</td>\n",
       "      <td>Devonshire</td>\n",
       "      <td>1708</td>\n",
       "      <td>1</td>\n",
       "      <td>341</td>\n",
       "      <td>THEFT-GRAND ($950.01 &amp; OVER)EXCPT,GUNS,FOWL,LI...</td>\n",
       "      <td>...</td>\n",
       "      <td>AO</td>\n",
       "      <td>Adult Other</td>\n",
       "      <td>341.0</td>\n",
       "      <td>NaN</td>\n",
       "      <td>NaN</td>\n",
       "      <td>NaN</td>\n",
       "      <td>11900    BALBOA                       BL</td>\n",
       "      <td>NaN</td>\n",
       "      <td>34.2864</td>\n",
       "      <td>-118.5021</td>\n",
       "    </tr>\n",
       "  </tbody>\n",
       "</table>\n",
       "<p>10 rows × 28 columns</p>\n",
       "</div>"
      ],
      "text/plain": [
       "   DR_NUMBER           Date_Reported           Date_Occurred  Time_Occurred   \n",
       "0   10304468  01/08/2020 12:00:00 AM  01/08/2020 12:00:00 AM           2230  \\\n",
       "1  190101086  01/02/2020 12:00:00 AM  01/01/2020 12:00:00 AM            330   \n",
       "2  200110444  04/14/2020 12:00:00 AM  02/13/2020 12:00:00 AM           1200   \n",
       "3  191501505  01/01/2020 12:00:00 AM  01/01/2020 12:00:00 AM           1730   \n",
       "4  191921269  01/01/2020 12:00:00 AM  01/01/2020 12:00:00 AM            415   \n",
       "5  200100501  01/02/2020 12:00:00 AM  01/01/2020 12:00:00 AM             30   \n",
       "6  200100502  01/02/2020 12:00:00 AM  01/02/2020 12:00:00 AM           1315   \n",
       "7  200100504  01/04/2020 12:00:00 AM  01/04/2020 12:00:00 AM             40   \n",
       "8  200100507  01/04/2020 12:00:00 AM  01/04/2020 12:00:00 AM            200   \n",
       "9  201710201  06/19/2020 12:00:00 AM  05/26/2020 12:00:00 AM           1925   \n",
       "\n",
       "   Area    Area_Name  Report_District_Number  Part_Type  Crime_Code   \n",
       "0     3    Southwest                     377          2         624  \\\n",
       "1     1      Central                     163          2         624   \n",
       "2     1      Central                     155          2         845   \n",
       "3    15  N Hollywood                    1543          2         745   \n",
       "4    19      Mission                    1998          2         740   \n",
       "5     1      Central                     163          1         121   \n",
       "6     1      Central                     161          1         442   \n",
       "7     1      Central                     155          2         946   \n",
       "8     1      Central                     101          1         341   \n",
       "9    17   Devonshire                    1708          1         341   \n",
       "\n",
       "                                   Crime_Description  ... Status   \n",
       "0                           BATTERY - SIMPLE ASSAULT  ...     AO  \\\n",
       "1                           BATTERY - SIMPLE ASSAULT  ...     IC   \n",
       "2          SEX OFFENDER REGISTRANT OUT OF COMPLIANCE  ...     AA   \n",
       "3           VANDALISM - MISDEAMEANOR ($399 OR UNDER)  ...     IC   \n",
       "4  VANDALISM - FELONY ($400 & OVER, ALL CHURCH VA...  ...     IC   \n",
       "5                                     RAPE, FORCIBLE  ...     IC   \n",
       "6           SHOPLIFTING - PETTY THEFT ($950 & UNDER)  ...     IC   \n",
       "7                          OTHER MISCELLANEOUS CRIME  ...     IC   \n",
       "8  THEFT-GRAND ($950.01 & OVER)EXCPT,GUNS,FOWL,LI...  ...     IC   \n",
       "9  THEFT-GRAND ($950.01 & OVER)EXCPT,GUNS,FOWL,LI...  ...     AO   \n",
       "\n",
       "   Status_Description Crime_Code_1 Crime_Code_2  Crime_Code_3 Crime_Code_4   \n",
       "0         Adult Other        624.0          NaN           NaN          NaN  \\\n",
       "1         Invest Cont        624.0          NaN           NaN          NaN   \n",
       "2        Adult Arrest        845.0          NaN           NaN          NaN   \n",
       "3         Invest Cont        745.0        998.0           NaN          NaN   \n",
       "4         Invest Cont        740.0          NaN           NaN          NaN   \n",
       "5         Invest Cont        121.0        998.0           NaN          NaN   \n",
       "6         Invest Cont        442.0        998.0           NaN          NaN   \n",
       "7         Invest Cont        946.0        998.0           NaN          NaN   \n",
       "8         Invest Cont        341.0        998.0           NaN          NaN   \n",
       "9         Adult Other        341.0          NaN           NaN          NaN   \n",
       "\n",
       "                                   Location Cross_Street Latitude Longitude  \n",
       "0   1100 W  39TH                         PL          NaN  34.0141 -118.2978  \n",
       "1    700 S  HILL                         ST          NaN  34.0459 -118.2545  \n",
       "2    200 E  6TH                          ST          NaN  34.0448 -118.2474  \n",
       "3   5400    CORTEEN                      PL          NaN  34.1685 -118.4019  \n",
       "4  14400    TITUS                        ST          NaN  34.2198 -118.4468  \n",
       "5                           700 S  BROADWAY          NaN  34.0452 -118.2534  \n",
       "6    700 S  FIGUEROA                     ST          NaN  34.0483 -118.2631  \n",
       "7    200 E  6TH                          ST          NaN  34.0448 -118.2474  \n",
       "8    700    BERNARD                      ST          NaN  34.0677 -118.2398  \n",
       "9  11900    BALBOA                       BL          NaN  34.2864 -118.5021  \n",
       "\n",
       "[10 rows x 28 columns]"
      ]
     },
     "execution_count": 226,
     "metadata": {},
     "output_type": "execute_result"
    }
   ],
   "source": [
    "df.head(10)"
   ]
  },
  {
   "cell_type": "code",
   "execution_count": 227,
   "metadata": {},
   "outputs": [
    {
     "data": {
      "text/plain": [
       "Modcodes\n",
       "0344                             31796\n",
       "0329                             17462\n",
       "1822 0344                         9166\n",
       "1501                              7688\n",
       "0344 1822                         6550\n",
       "                                 ...  \n",
       "0421 0913 1814 1300                  1\n",
       "0945 0344 0325 0416 0444             1\n",
       "0913 2000 0906 1816 0444 0408        1\n",
       "0400 0444 1300 2004 1822             1\n",
       "0601 0445 0416 0359                  1\n",
       "Name: count, Length: 258897, dtype: int64"
      ]
     },
     "execution_count": 227,
     "metadata": {},
     "output_type": "execute_result"
    }
   ],
   "source": [
    "df.Modcodes.value_counts()"
   ]
  },
  {
   "cell_type": "code",
   "execution_count": 228,
   "metadata": {},
   "outputs": [],
   "source": [
    "df = df.drop(['DR_NUMBER', 'Status', 'Status_Description','Crime_Code_2', 'Crime_Code_3', 'Crime_Code_4', 'Cross_Street', 'Latitude', 'Longitude', 'Date_Reported', 'Date_Occurred', 'Modcodes'], axis = 1)"
   ]
  },
  {
   "cell_type": "code",
   "execution_count": 229,
   "metadata": {},
   "outputs": [
    {
     "data": {
      "text/html": [
       "<div>\n",
       "<style scoped>\n",
       "    .dataframe tbody tr th:only-of-type {\n",
       "        vertical-align: middle;\n",
       "    }\n",
       "\n",
       "    .dataframe tbody tr th {\n",
       "        vertical-align: top;\n",
       "    }\n",
       "\n",
       "    .dataframe thead th {\n",
       "        text-align: right;\n",
       "    }\n",
       "</style>\n",
       "<table border=\"1\" class=\"dataframe\">\n",
       "  <thead>\n",
       "    <tr style=\"text-align: right;\">\n",
       "      <th></th>\n",
       "      <th>Time_Occurred</th>\n",
       "      <th>Area</th>\n",
       "      <th>Area_Name</th>\n",
       "      <th>Report_District_Number</th>\n",
       "      <th>Part_Type</th>\n",
       "      <th>Crime_Code</th>\n",
       "      <th>Crime_Description</th>\n",
       "      <th>Victim_Age</th>\n",
       "      <th>Victim_Sex</th>\n",
       "      <th>Victim_Descent</th>\n",
       "      <th>Premises_Code</th>\n",
       "      <th>Premises_Description</th>\n",
       "      <th>Weapon_Used_Code</th>\n",
       "      <th>Weapon_Description</th>\n",
       "      <th>Crime_Code_1</th>\n",
       "      <th>Location</th>\n",
       "    </tr>\n",
       "  </thead>\n",
       "  <tbody>\n",
       "    <tr>\n",
       "      <th>0</th>\n",
       "      <td>2230</td>\n",
       "      <td>3</td>\n",
       "      <td>Southwest</td>\n",
       "      <td>377</td>\n",
       "      <td>2</td>\n",
       "      <td>624</td>\n",
       "      <td>BATTERY - SIMPLE ASSAULT</td>\n",
       "      <td>36</td>\n",
       "      <td>F</td>\n",
       "      <td>B</td>\n",
       "      <td>501.0</td>\n",
       "      <td>SINGLE FAMILY DWELLING</td>\n",
       "      <td>400.0</td>\n",
       "      <td>STRONG-ARM (HANDS, FIST, FEET OR BODILY FORCE)</td>\n",
       "      <td>624.0</td>\n",
       "      <td>1100 W  39TH                         PL</td>\n",
       "    </tr>\n",
       "    <tr>\n",
       "      <th>1</th>\n",
       "      <td>330</td>\n",
       "      <td>1</td>\n",
       "      <td>Central</td>\n",
       "      <td>163</td>\n",
       "      <td>2</td>\n",
       "      <td>624</td>\n",
       "      <td>BATTERY - SIMPLE ASSAULT</td>\n",
       "      <td>25</td>\n",
       "      <td>M</td>\n",
       "      <td>H</td>\n",
       "      <td>102.0</td>\n",
       "      <td>SIDEWALK</td>\n",
       "      <td>500.0</td>\n",
       "      <td>UNKNOWN WEAPON/OTHER WEAPON</td>\n",
       "      <td>624.0</td>\n",
       "      <td>700 S  HILL                         ST</td>\n",
       "    </tr>\n",
       "    <tr>\n",
       "      <th>2</th>\n",
       "      <td>1200</td>\n",
       "      <td>1</td>\n",
       "      <td>Central</td>\n",
       "      <td>155</td>\n",
       "      <td>2</td>\n",
       "      <td>845</td>\n",
       "      <td>SEX OFFENDER REGISTRANT OUT OF COMPLIANCE</td>\n",
       "      <td>0</td>\n",
       "      <td>X</td>\n",
       "      <td>X</td>\n",
       "      <td>726.0</td>\n",
       "      <td>POLICE FACILITY</td>\n",
       "      <td>NaN</td>\n",
       "      <td>NaN</td>\n",
       "      <td>845.0</td>\n",
       "      <td>200 E  6TH                          ST</td>\n",
       "    </tr>\n",
       "    <tr>\n",
       "      <th>3</th>\n",
       "      <td>1730</td>\n",
       "      <td>15</td>\n",
       "      <td>N Hollywood</td>\n",
       "      <td>1543</td>\n",
       "      <td>2</td>\n",
       "      <td>745</td>\n",
       "      <td>VANDALISM - MISDEAMEANOR ($399 OR UNDER)</td>\n",
       "      <td>76</td>\n",
       "      <td>F</td>\n",
       "      <td>W</td>\n",
       "      <td>502.0</td>\n",
       "      <td>MULTI-UNIT DWELLING (APARTMENT, DUPLEX, ETC)</td>\n",
       "      <td>NaN</td>\n",
       "      <td>NaN</td>\n",
       "      <td>745.0</td>\n",
       "      <td>5400    CORTEEN                      PL</td>\n",
       "    </tr>\n",
       "    <tr>\n",
       "      <th>4</th>\n",
       "      <td>415</td>\n",
       "      <td>19</td>\n",
       "      <td>Mission</td>\n",
       "      <td>1998</td>\n",
       "      <td>2</td>\n",
       "      <td>740</td>\n",
       "      <td>VANDALISM - FELONY ($400 &amp; OVER, ALL CHURCH VA...</td>\n",
       "      <td>31</td>\n",
       "      <td>X</td>\n",
       "      <td>X</td>\n",
       "      <td>409.0</td>\n",
       "      <td>BEAUTY SUPPLY STORE</td>\n",
       "      <td>NaN</td>\n",
       "      <td>NaN</td>\n",
       "      <td>740.0</td>\n",
       "      <td>14400    TITUS                        ST</td>\n",
       "    </tr>\n",
       "    <tr>\n",
       "      <th>5</th>\n",
       "      <td>30</td>\n",
       "      <td>1</td>\n",
       "      <td>Central</td>\n",
       "      <td>163</td>\n",
       "      <td>1</td>\n",
       "      <td>121</td>\n",
       "      <td>RAPE, FORCIBLE</td>\n",
       "      <td>25</td>\n",
       "      <td>F</td>\n",
       "      <td>H</td>\n",
       "      <td>735.0</td>\n",
       "      <td>NIGHT CLUB (OPEN EVENINGS ONLY)</td>\n",
       "      <td>500.0</td>\n",
       "      <td>UNKNOWN WEAPON/OTHER WEAPON</td>\n",
       "      <td>121.0</td>\n",
       "      <td>700 S  BROADWAY</td>\n",
       "    </tr>\n",
       "    <tr>\n",
       "      <th>6</th>\n",
       "      <td>1315</td>\n",
       "      <td>1</td>\n",
       "      <td>Central</td>\n",
       "      <td>161</td>\n",
       "      <td>1</td>\n",
       "      <td>442</td>\n",
       "      <td>SHOPLIFTING - PETTY THEFT ($950 &amp; UNDER)</td>\n",
       "      <td>23</td>\n",
       "      <td>M</td>\n",
       "      <td>H</td>\n",
       "      <td>404.0</td>\n",
       "      <td>DEPARTMENT STORE</td>\n",
       "      <td>NaN</td>\n",
       "      <td>NaN</td>\n",
       "      <td>442.0</td>\n",
       "      <td>700 S  FIGUEROA                     ST</td>\n",
       "    </tr>\n",
       "    <tr>\n",
       "      <th>7</th>\n",
       "      <td>40</td>\n",
       "      <td>1</td>\n",
       "      <td>Central</td>\n",
       "      <td>155</td>\n",
       "      <td>2</td>\n",
       "      <td>946</td>\n",
       "      <td>OTHER MISCELLANEOUS CRIME</td>\n",
       "      <td>0</td>\n",
       "      <td>X</td>\n",
       "      <td>X</td>\n",
       "      <td>726.0</td>\n",
       "      <td>POLICE FACILITY</td>\n",
       "      <td>NaN</td>\n",
       "      <td>NaN</td>\n",
       "      <td>946.0</td>\n",
       "      <td>200 E  6TH                          ST</td>\n",
       "    </tr>\n",
       "    <tr>\n",
       "      <th>8</th>\n",
       "      <td>200</td>\n",
       "      <td>1</td>\n",
       "      <td>Central</td>\n",
       "      <td>101</td>\n",
       "      <td>1</td>\n",
       "      <td>341</td>\n",
       "      <td>THEFT-GRAND ($950.01 &amp; OVER)EXCPT,GUNS,FOWL,LI...</td>\n",
       "      <td>23</td>\n",
       "      <td>M</td>\n",
       "      <td>B</td>\n",
       "      <td>502.0</td>\n",
       "      <td>MULTI-UNIT DWELLING (APARTMENT, DUPLEX, ETC)</td>\n",
       "      <td>NaN</td>\n",
       "      <td>NaN</td>\n",
       "      <td>341.0</td>\n",
       "      <td>700    BERNARD                      ST</td>\n",
       "    </tr>\n",
       "    <tr>\n",
       "      <th>9</th>\n",
       "      <td>1925</td>\n",
       "      <td>17</td>\n",
       "      <td>Devonshire</td>\n",
       "      <td>1708</td>\n",
       "      <td>1</td>\n",
       "      <td>341</td>\n",
       "      <td>THEFT-GRAND ($950.01 &amp; OVER)EXCPT,GUNS,FOWL,LI...</td>\n",
       "      <td>0</td>\n",
       "      <td>X</td>\n",
       "      <td>X</td>\n",
       "      <td>203.0</td>\n",
       "      <td>OTHER BUSINESS</td>\n",
       "      <td>NaN</td>\n",
       "      <td>NaN</td>\n",
       "      <td>341.0</td>\n",
       "      <td>11900    BALBOA                       BL</td>\n",
       "    </tr>\n",
       "  </tbody>\n",
       "</table>\n",
       "</div>"
      ],
      "text/plain": [
       "   Time_Occurred  Area    Area_Name  Report_District_Number  Part_Type   \n",
       "0           2230     3    Southwest                     377          2  \\\n",
       "1            330     1      Central                     163          2   \n",
       "2           1200     1      Central                     155          2   \n",
       "3           1730    15  N Hollywood                    1543          2   \n",
       "4            415    19      Mission                    1998          2   \n",
       "5             30     1      Central                     163          1   \n",
       "6           1315     1      Central                     161          1   \n",
       "7             40     1      Central                     155          2   \n",
       "8            200     1      Central                     101          1   \n",
       "9           1925    17   Devonshire                    1708          1   \n",
       "\n",
       "   Crime_Code                                  Crime_Description  Victim_Age   \n",
       "0         624                           BATTERY - SIMPLE ASSAULT          36  \\\n",
       "1         624                           BATTERY - SIMPLE ASSAULT          25   \n",
       "2         845          SEX OFFENDER REGISTRANT OUT OF COMPLIANCE           0   \n",
       "3         745           VANDALISM - MISDEAMEANOR ($399 OR UNDER)          76   \n",
       "4         740  VANDALISM - FELONY ($400 & OVER, ALL CHURCH VA...          31   \n",
       "5         121                                     RAPE, FORCIBLE          25   \n",
       "6         442           SHOPLIFTING - PETTY THEFT ($950 & UNDER)          23   \n",
       "7         946                          OTHER MISCELLANEOUS CRIME           0   \n",
       "8         341  THEFT-GRAND ($950.01 & OVER)EXCPT,GUNS,FOWL,LI...          23   \n",
       "9         341  THEFT-GRAND ($950.01 & OVER)EXCPT,GUNS,FOWL,LI...           0   \n",
       "\n",
       "  Victim_Sex Victim_Descent  Premises_Code   \n",
       "0          F              B          501.0  \\\n",
       "1          M              H          102.0   \n",
       "2          X              X          726.0   \n",
       "3          F              W          502.0   \n",
       "4          X              X          409.0   \n",
       "5          F              H          735.0   \n",
       "6          M              H          404.0   \n",
       "7          X              X          726.0   \n",
       "8          M              B          502.0   \n",
       "9          X              X          203.0   \n",
       "\n",
       "                           Premises_Description  Weapon_Used_Code   \n",
       "0                        SINGLE FAMILY DWELLING             400.0  \\\n",
       "1                                      SIDEWALK             500.0   \n",
       "2                               POLICE FACILITY               NaN   \n",
       "3  MULTI-UNIT DWELLING (APARTMENT, DUPLEX, ETC)               NaN   \n",
       "4                           BEAUTY SUPPLY STORE               NaN   \n",
       "5               NIGHT CLUB (OPEN EVENINGS ONLY)             500.0   \n",
       "6                              DEPARTMENT STORE               NaN   \n",
       "7                               POLICE FACILITY               NaN   \n",
       "8  MULTI-UNIT DWELLING (APARTMENT, DUPLEX, ETC)               NaN   \n",
       "9                                OTHER BUSINESS               NaN   \n",
       "\n",
       "                               Weapon_Description  Crime_Code_1   \n",
       "0  STRONG-ARM (HANDS, FIST, FEET OR BODILY FORCE)         624.0  \\\n",
       "1                     UNKNOWN WEAPON/OTHER WEAPON         624.0   \n",
       "2                                             NaN         845.0   \n",
       "3                                             NaN         745.0   \n",
       "4                                             NaN         740.0   \n",
       "5                     UNKNOWN WEAPON/OTHER WEAPON         121.0   \n",
       "6                                             NaN         442.0   \n",
       "7                                             NaN         946.0   \n",
       "8                                             NaN         341.0   \n",
       "9                                             NaN         341.0   \n",
       "\n",
       "                                   Location  \n",
       "0   1100 W  39TH                         PL  \n",
       "1    700 S  HILL                         ST  \n",
       "2    200 E  6TH                          ST  \n",
       "3   5400    CORTEEN                      PL  \n",
       "4  14400    TITUS                        ST  \n",
       "5                           700 S  BROADWAY  \n",
       "6    700 S  FIGUEROA                     ST  \n",
       "7    200 E  6TH                          ST  \n",
       "8    700    BERNARD                      ST  \n",
       "9  11900    BALBOA                       BL  "
      ]
     },
     "execution_count": 229,
     "metadata": {},
     "output_type": "execute_result"
    }
   ],
   "source": [
    "df.head(10)"
   ]
  },
  {
   "cell_type": "code",
   "execution_count": 230,
   "metadata": {},
   "outputs": [
    {
     "data": {
      "text/plain": [
       "Index(['Time_Occurred', 'Area', 'Area_Name', 'Report_District_Number',\n",
       "       'Part_Type', 'Crime_Code', 'Crime_Description', 'Victim_Age',\n",
       "       'Victim_Sex', 'Victim_Descent', 'Premises_Code', 'Premises_Description',\n",
       "       'Weapon_Used_Code', 'Weapon_Description', 'Crime_Code_1', 'Location'],\n",
       "      dtype='object')"
      ]
     },
     "execution_count": 230,
     "metadata": {},
     "output_type": "execute_result"
    }
   ],
   "source": [
    "df.columns\n"
   ]
  },
  {
   "cell_type": "code",
   "execution_count": 231,
   "metadata": {},
   "outputs": [
    {
     "data": {
      "text/plain": [
       "Index(['Victim_Sex', 'Victim_Descent'], dtype='object')"
      ]
     },
     "execution_count": 231,
     "metadata": {},
     "output_type": "execute_result"
    }
   ],
   "source": [
    "\n",
    "df.columns[df.isin(['X']).any()]"
   ]
  },
  {
   "cell_type": "code",
   "execution_count": 232,
   "metadata": {},
   "outputs": [
    {
     "data": {
      "text/plain": [
       "Index([], dtype='object')"
      ]
     },
     "execution_count": 232,
     "metadata": {},
     "output_type": "execute_result"
    }
   ],
   "source": [
    "df = df.replace(\"X\", np.nan)\n",
    "df.columns[df.isin(['X']). any()]\n"
   ]
  },
  {
   "cell_type": "code",
   "execution_count": 233,
   "metadata": {},
   "outputs": [
    {
     "data": {
      "text/html": [
       "<div>\n",
       "<style scoped>\n",
       "    .dataframe tbody tr th:only-of-type {\n",
       "        vertical-align: middle;\n",
       "    }\n",
       "\n",
       "    .dataframe tbody tr th {\n",
       "        vertical-align: top;\n",
       "    }\n",
       "\n",
       "    .dataframe thead th {\n",
       "        text-align: right;\n",
       "    }\n",
       "</style>\n",
       "<table border=\"1\" class=\"dataframe\">\n",
       "  <thead>\n",
       "    <tr style=\"text-align: right;\">\n",
       "      <th></th>\n",
       "      <th>Time_Occurred</th>\n",
       "      <th>Area</th>\n",
       "      <th>Area_Name</th>\n",
       "      <th>Report_District_Number</th>\n",
       "      <th>Part_Type</th>\n",
       "      <th>Crime_Code</th>\n",
       "      <th>Crime_Description</th>\n",
       "      <th>Victim_Age</th>\n",
       "      <th>Victim_Sex</th>\n",
       "      <th>Victim_Descent</th>\n",
       "      <th>Premises_Code</th>\n",
       "      <th>Premises_Description</th>\n",
       "      <th>Weapon_Used_Code</th>\n",
       "      <th>Weapon_Description</th>\n",
       "      <th>Crime_Code_1</th>\n",
       "      <th>Location</th>\n",
       "    </tr>\n",
       "  </thead>\n",
       "  <tbody>\n",
       "    <tr>\n",
       "      <th>0</th>\n",
       "      <td>2230</td>\n",
       "      <td>3</td>\n",
       "      <td>Southwest</td>\n",
       "      <td>377</td>\n",
       "      <td>2</td>\n",
       "      <td>624</td>\n",
       "      <td>BATTERY - SIMPLE ASSAULT</td>\n",
       "      <td>36</td>\n",
       "      <td>F</td>\n",
       "      <td>B</td>\n",
       "      <td>501.0</td>\n",
       "      <td>SINGLE FAMILY DWELLING</td>\n",
       "      <td>400.0</td>\n",
       "      <td>STRONG-ARM (HANDS, FIST, FEET OR BODILY FORCE)</td>\n",
       "      <td>624.0</td>\n",
       "      <td>1100 W  39TH                         PL</td>\n",
       "    </tr>\n",
       "    <tr>\n",
       "      <th>1</th>\n",
       "      <td>330</td>\n",
       "      <td>1</td>\n",
       "      <td>Central</td>\n",
       "      <td>163</td>\n",
       "      <td>2</td>\n",
       "      <td>624</td>\n",
       "      <td>BATTERY - SIMPLE ASSAULT</td>\n",
       "      <td>25</td>\n",
       "      <td>M</td>\n",
       "      <td>H</td>\n",
       "      <td>102.0</td>\n",
       "      <td>SIDEWALK</td>\n",
       "      <td>500.0</td>\n",
       "      <td>UNKNOWN WEAPON/OTHER WEAPON</td>\n",
       "      <td>624.0</td>\n",
       "      <td>700 S  HILL                         ST</td>\n",
       "    </tr>\n",
       "    <tr>\n",
       "      <th>2</th>\n",
       "      <td>1200</td>\n",
       "      <td>1</td>\n",
       "      <td>Central</td>\n",
       "      <td>155</td>\n",
       "      <td>2</td>\n",
       "      <td>845</td>\n",
       "      <td>SEX OFFENDER REGISTRANT OUT OF COMPLIANCE</td>\n",
       "      <td>0</td>\n",
       "      <td>NaN</td>\n",
       "      <td>NaN</td>\n",
       "      <td>726.0</td>\n",
       "      <td>POLICE FACILITY</td>\n",
       "      <td>NaN</td>\n",
       "      <td>NaN</td>\n",
       "      <td>845.0</td>\n",
       "      <td>200 E  6TH                          ST</td>\n",
       "    </tr>\n",
       "    <tr>\n",
       "      <th>3</th>\n",
       "      <td>1730</td>\n",
       "      <td>15</td>\n",
       "      <td>N Hollywood</td>\n",
       "      <td>1543</td>\n",
       "      <td>2</td>\n",
       "      <td>745</td>\n",
       "      <td>VANDALISM - MISDEAMEANOR ($399 OR UNDER)</td>\n",
       "      <td>76</td>\n",
       "      <td>F</td>\n",
       "      <td>W</td>\n",
       "      <td>502.0</td>\n",
       "      <td>MULTI-UNIT DWELLING (APARTMENT, DUPLEX, ETC)</td>\n",
       "      <td>NaN</td>\n",
       "      <td>NaN</td>\n",
       "      <td>745.0</td>\n",
       "      <td>5400    CORTEEN                      PL</td>\n",
       "    </tr>\n",
       "    <tr>\n",
       "      <th>4</th>\n",
       "      <td>415</td>\n",
       "      <td>19</td>\n",
       "      <td>Mission</td>\n",
       "      <td>1998</td>\n",
       "      <td>2</td>\n",
       "      <td>740</td>\n",
       "      <td>VANDALISM - FELONY ($400 &amp; OVER, ALL CHURCH VA...</td>\n",
       "      <td>31</td>\n",
       "      <td>NaN</td>\n",
       "      <td>NaN</td>\n",
       "      <td>409.0</td>\n",
       "      <td>BEAUTY SUPPLY STORE</td>\n",
       "      <td>NaN</td>\n",
       "      <td>NaN</td>\n",
       "      <td>740.0</td>\n",
       "      <td>14400    TITUS                        ST</td>\n",
       "    </tr>\n",
       "  </tbody>\n",
       "</table>\n",
       "</div>"
      ],
      "text/plain": [
       "   Time_Occurred  Area    Area_Name  Report_District_Number  Part_Type   \n",
       "0           2230     3    Southwest                     377          2  \\\n",
       "1            330     1      Central                     163          2   \n",
       "2           1200     1      Central                     155          2   \n",
       "3           1730    15  N Hollywood                    1543          2   \n",
       "4            415    19      Mission                    1998          2   \n",
       "\n",
       "   Crime_Code                                  Crime_Description  Victim_Age   \n",
       "0         624                           BATTERY - SIMPLE ASSAULT          36  \\\n",
       "1         624                           BATTERY - SIMPLE ASSAULT          25   \n",
       "2         845          SEX OFFENDER REGISTRANT OUT OF COMPLIANCE           0   \n",
       "3         745           VANDALISM - MISDEAMEANOR ($399 OR UNDER)          76   \n",
       "4         740  VANDALISM - FELONY ($400 & OVER, ALL CHURCH VA...          31   \n",
       "\n",
       "  Victim_Sex Victim_Descent  Premises_Code   \n",
       "0          F              B          501.0  \\\n",
       "1          M              H          102.0   \n",
       "2        NaN            NaN          726.0   \n",
       "3          F              W          502.0   \n",
       "4        NaN            NaN          409.0   \n",
       "\n",
       "                           Premises_Description  Weapon_Used_Code   \n",
       "0                        SINGLE FAMILY DWELLING             400.0  \\\n",
       "1                                      SIDEWALK             500.0   \n",
       "2                               POLICE FACILITY               NaN   \n",
       "3  MULTI-UNIT DWELLING (APARTMENT, DUPLEX, ETC)               NaN   \n",
       "4                           BEAUTY SUPPLY STORE               NaN   \n",
       "\n",
       "                               Weapon_Description  Crime_Code_1   \n",
       "0  STRONG-ARM (HANDS, FIST, FEET OR BODILY FORCE)         624.0  \\\n",
       "1                     UNKNOWN WEAPON/OTHER WEAPON         624.0   \n",
       "2                                             NaN         845.0   \n",
       "3                                             NaN         745.0   \n",
       "4                                             NaN         740.0   \n",
       "\n",
       "                                   Location  \n",
       "0   1100 W  39TH                         PL  \n",
       "1    700 S  HILL                         ST  \n",
       "2    200 E  6TH                          ST  \n",
       "3   5400    CORTEEN                      PL  \n",
       "4  14400    TITUS                        ST  "
      ]
     },
     "execution_count": 233,
     "metadata": {},
     "output_type": "execute_result"
    }
   ],
   "source": [
    "df.head()"
   ]
  },
  {
   "cell_type": "code",
   "execution_count": 235,
   "metadata": {},
   "outputs": [
    {
     "data": {
      "text/plain": [
       "Time_Occurred\n",
       "1200    27539\n",
       "1800    20629\n",
       "1700    19421\n",
       "2000    19061\n",
       "1900    17703\n",
       "        ...  \n",
       "756        18\n",
       "559        18\n",
       "2332       17\n",
       "534        16\n",
       "531        11\n",
       "Name: count, Length: 1439, dtype: int64"
      ]
     },
     "execution_count": 235,
     "metadata": {},
     "output_type": "execute_result"
    }
   ],
   "source": [
    "df.Time_Occurred.value_counts()"
   ]
  },
  {
   "cell_type": "code",
   "execution_count": 236,
   "metadata": {},
   "outputs": [
    {
     "data": {
      "text/plain": [
       "Area\n",
       "1     51734\n",
       "12    48756\n",
       "14    45097\n",
       "3     42996\n",
       "6     41066\n",
       "18    39480\n",
       "20    39024\n",
       "13    38409\n",
       "15    38326\n",
       "7     36469\n",
       "2     35766\n",
       "8     35433\n",
       "11    33290\n",
       "9     32756\n",
       "10    32240\n",
       "5     31962\n",
       "17    31241\n",
       "21    31230\n",
       "19    30694\n",
       "4     28947\n",
       "16    25871\n",
       "Name: count, dtype: int64"
      ]
     },
     "execution_count": 236,
     "metadata": {},
     "output_type": "execute_result"
    }
   ],
   "source": [
    "df.Area.value_counts()"
   ]
  },
  {
   "cell_type": "code",
   "execution_count": 237,
   "metadata": {},
   "outputs": [
    {
     "data": {
      "text/plain": [
       "Area_Name\n",
       "Central        51734\n",
       "77th Street    48756\n",
       "Pacific        45097\n",
       "Southwest      42996\n",
       "Hollywood      41066\n",
       "Southeast      39480\n",
       "Olympic        39024\n",
       "Newton         38409\n",
       "N Hollywood    38326\n",
       "Wilshire       36469\n",
       "Rampart        35766\n",
       "West LA        35433\n",
       "Northeast      33290\n",
       "Van Nuys       32756\n",
       "West Valley    32240\n",
       "Harbor         31962\n",
       "Devonshire     31241\n",
       "Topanga        31230\n",
       "Mission        30694\n",
       "Hollenbeck     28947\n",
       "Foothill       25871\n",
       "Name: count, dtype: int64"
      ]
     },
     "execution_count": 237,
     "metadata": {},
     "output_type": "execute_result"
    }
   ],
   "source": [
    "df.Area_Name.value_counts()"
   ]
  },
  {
   "cell_type": "code",
   "execution_count": 238,
   "metadata": {},
   "outputs": [
    {
     "data": {
      "text/plain": [
       "Report_District_Number\n",
       "162     4108\n",
       "645     3887\n",
       "182     3638\n",
       "1494    3437\n",
       "646     3367\n",
       "        ... \n",
       "697        1\n",
       "945        1\n",
       "728        1\n",
       "226        1\n",
       "1046       1\n",
       "Name: count, Length: 1199, dtype: int64"
      ]
     },
     "execution_count": 238,
     "metadata": {},
     "output_type": "execute_result"
    }
   ],
   "source": [
    "df.Report_District_Number.value_counts()"
   ]
  },
  {
   "cell_type": "code",
   "execution_count": 239,
   "metadata": {},
   "outputs": [
    {
     "data": {
      "text/plain": [
       "Part_Type\n",
       "1    450833\n",
       "2    319954\n",
       "Name: count, dtype: int64"
      ]
     },
     "execution_count": 239,
     "metadata": {},
     "output_type": "execute_result"
    }
   ],
   "source": [
    "df.Part_Type.value_counts()"
   ]
  },
  {
   "cell_type": "code",
   "execution_count": 240,
   "metadata": {},
   "outputs": [
    {
     "data": {
      "text/plain": [
       "Crime_Code\n",
       "510    82396\n",
       "624    61108\n",
       "354    49522\n",
       "330    47450\n",
       "740    47210\n",
       "       ...  \n",
       "452        3\n",
       "349        3\n",
       "884        2\n",
       "445        2\n",
       "882        1\n",
       "Name: count, Length: 138, dtype: int64"
      ]
     },
     "execution_count": 240,
     "metadata": {},
     "output_type": "execute_result"
    }
   ],
   "source": [
    "df.Crime_Code.value_counts()"
   ]
  },
  {
   "cell_type": "code",
   "execution_count": 241,
   "metadata": {},
   "outputs": [
    {
     "data": {
      "text/plain": [
       "Crime_Description\n",
       "VEHICLE - STOLEN                                           82396\n",
       "BATTERY - SIMPLE ASSAULT                                   61108\n",
       "THEFT OF IDENTITY                                          49522\n",
       "BURGLARY FROM VEHICLE                                      47450\n",
       "VANDALISM - FELONY ($400 & OVER, ALL CHURCH VANDALISMS)    47210\n",
       "                                                           ...  \n",
       "PICKPOCKET, ATTEMPT                                            3\n",
       "GRAND THEFT / AUTO REPAIR                                      3\n",
       "FAILURE TO DISPERSE                                            2\n",
       "DISHONEST EMPLOYEE ATTEMPTED THEFT                             2\n",
       "INCITING A RIOT                                                1\n",
       "Name: count, Length: 138, dtype: int64"
      ]
     },
     "execution_count": 241,
     "metadata": {},
     "output_type": "execute_result"
    }
   ],
   "source": [
    "df.Crime_Description.value_counts()"
   ]
  },
  {
   "cell_type": "code",
   "execution_count": 242,
   "metadata": {},
   "outputs": [
    {
     "data": {
      "text/plain": [
       "Victim_Age\n",
       " 0      188555\n",
       " 30      17644\n",
       " 35      17277\n",
       " 31      16896\n",
       " 29      16888\n",
       "         ...  \n",
       " 97         59\n",
       "-1          51\n",
       "-2          11\n",
       " 120         1\n",
       "-3           1\n",
       "Name: count, Length: 103, dtype: int64"
      ]
     },
     "execution_count": 242,
     "metadata": {},
     "output_type": "execute_result"
    }
   ],
   "source": [
    "### we need to repair these \n",
    "df.Victim_Age.value_counts()"
   ]
  },
  {
   "cell_type": "code",
   "execution_count": 243,
   "metadata": {},
   "outputs": [],
   "source": [
    "df = df.drop('Victim_Age', axis = 1)"
   ]
  },
  {
   "cell_type": "code",
   "execution_count": 244,
   "metadata": {},
   "outputs": [
    {
     "data": {
      "text/plain": [
       "Victim_Sex\n",
       "M    319152\n",
       "F    284561\n",
       "H        88\n",
       "-         1\n",
       "Name: count, dtype: int64"
      ]
     },
     "execution_count": 244,
     "metadata": {},
     "output_type": "execute_result"
    }
   ],
   "source": [
    "df.Victim_Sex.value_counts()"
   ]
  },
  {
   "cell_type": "code",
   "execution_count": 245,
   "metadata": {},
   "outputs": [
    {
     "data": {
      "text/plain": [
       "Victim_Descent\n",
       "H    236645\n",
       "W    157945\n",
       "B    110452\n",
       "O     61052\n",
       "A     16826\n",
       "K      4093\n",
       "F      3217\n",
       "C      2908\n",
       "J      1076\n",
       "V       777\n",
       "I       739\n",
       "Z       385\n",
       "P       209\n",
       "U       158\n",
       "D        54\n",
       "G        51\n",
       "L        48\n",
       "S        44\n",
       "-         2\n",
       "Name: count, dtype: int64"
      ]
     },
     "execution_count": 245,
     "metadata": {},
     "output_type": "execute_result"
    }
   ],
   "source": [
    "df.Victim_Descent.value_counts()"
   ]
  },
  {
   "cell_type": "code",
   "execution_count": 246,
   "metadata": {},
   "outputs": [
    {
     "data": {
      "text/plain": [
       "Premises_Code\n",
       "101.0    194193\n",
       "501.0    130927\n",
       "502.0     94852\n",
       "108.0     54444\n",
       "203.0     36063\n",
       "          ...  \n",
       "137.0         1\n",
       "803.0         1\n",
       "240.0         1\n",
       "836.0         1\n",
       "974.0         1\n",
       "Name: count, Length: 312, dtype: int64"
      ]
     },
     "execution_count": 246,
     "metadata": {},
     "output_type": "execute_result"
    }
   ],
   "source": [
    "df.Premises_Code.value_counts()"
   ]
  },
  {
   "cell_type": "code",
   "execution_count": 247,
   "metadata": {},
   "outputs": [
    {
     "data": {
      "text/plain": [
       "Premises_Description\n",
       "STREET                                          194193\n",
       "SINGLE FAMILY DWELLING                          130927\n",
       "MULTI-UNIT DWELLING (APARTMENT, DUPLEX, ETC)     94852\n",
       "PARKING LOT                                      54444\n",
       "OTHER BUSINESS                                   36063\n",
       "                                                 ...  \n",
       "MTA - SILVER LINE - DOWNTOWN STREET STOPS            2\n",
       "TRAM/STREETCAR(BOXLIKE WAG ON RAILS)*                1\n",
       "DEPT OF DEFENSE FACILITY                             1\n",
       "MTA - GOLD LINE - LITTLE TOKYO/ARTS DISTRICT         1\n",
       "HARBOR FRWY STATION (NOT LINE SPECIFIC)              1\n",
       "Name: count, Length: 306, dtype: int64"
      ]
     },
     "execution_count": 247,
     "metadata": {},
     "output_type": "execute_result"
    }
   ],
   "source": [
    "df.Premises_Description.value_counts()"
   ]
  },
  {
   "cell_type": "code",
   "execution_count": 248,
   "metadata": {},
   "outputs": [
    {
     "data": {
      "text/plain": [
       "Weapon_Used_Code\n",
       "400.0    143872\n",
       "500.0     27958\n",
       "511.0     19672\n",
       "102.0     16645\n",
       "109.0      6101\n",
       "          ...  \n",
       "120.0         3\n",
       "119.0         2\n",
       "123.0         1\n",
       "121.0         1\n",
       "124.0         1\n",
       "Name: count, Length: 79, dtype: int64"
      ]
     },
     "execution_count": 248,
     "metadata": {},
     "output_type": "execute_result"
    }
   ],
   "source": [
    "df.Weapon_Used_Code.value_counts()"
   ]
  },
  {
   "cell_type": "code",
   "execution_count": 249,
   "metadata": {},
   "outputs": [
    {
     "data": {
      "text/plain": [
       "Weapon_Description\n",
       "STRONG-ARM (HANDS, FIST, FEET OR BODILY FORCE)    143872\n",
       "UNKNOWN WEAPON/OTHER WEAPON                        27958\n",
       "VERBAL THREAT                                      19672\n",
       "HAND GUN                                           16645\n",
       "SEMI-AUTOMATIC PISTOL                               6101\n",
       "                                                   ...  \n",
       "MAC-11 SEMIAUTOMATIC ASSAULT WEAPON                    3\n",
       "MAC-10 SEMIAUTOMATIC ASSAULT WEAPON                    2\n",
       "M1-1 SEMIAUTOMATIC ASSAULT RIFLE                       1\n",
       "HECKLER & KOCH 91 SEMIAUTOMATIC ASSAULT RIFLE          1\n",
       "M-14 SEMIAUTOMATIC ASSAULT RIFLE                       1\n",
       "Name: count, Length: 79, dtype: int64"
      ]
     },
     "execution_count": 249,
     "metadata": {},
     "output_type": "execute_result"
    }
   ],
   "source": [
    "df.Weapon_Description.value_counts()"
   ]
  },
  {
   "cell_type": "code",
   "execution_count": 250,
   "metadata": {},
   "outputs": [
    {
     "data": {
      "text/plain": [
       "Crime_Code_1\n",
       "510.0    82387\n",
       "624.0    61385\n",
       "354.0    49532\n",
       "330.0    47493\n",
       "740.0    47299\n",
       "         ...  \n",
       "452.0        3\n",
       "430.0        2\n",
       "884.0        2\n",
       "445.0        2\n",
       "882.0        1\n",
       "Name: count, Length: 140, dtype: int64"
      ]
     },
     "execution_count": 250,
     "metadata": {},
     "output_type": "execute_result"
    }
   ],
   "source": [
    "df.Crime_Code_1.value_counts()"
   ]
  },
  {
   "cell_type": "code",
   "execution_count": 251,
   "metadata": {},
   "outputs": [
    {
     "data": {
      "text/plain": [
       "Location\n",
       "800 N  ALAMEDA                      ST      1419\n",
       "6TH                          ST             1267\n",
       "7TH                                         1259\n",
       "7TH                          ST             1222\n",
       "10200    SANTA MONICA                 BL    1195\n",
       "                                            ... \n",
       "1200    ALDINE                       CT        1\n",
       "02300    SICHEL                       ST       1\n",
       "19000    WYANDOTTE                    ST       1\n",
       "9200    MCLENNAN                     AV        1\n",
       "6400 N  FIGUEROAA                    ST        1\n",
       "Name: count, Length: 62879, dtype: int64"
      ]
     },
     "execution_count": 251,
     "metadata": {},
     "output_type": "execute_result"
    }
   ],
   "source": [
    "df.Location.value_counts()"
   ]
  },
  {
   "cell_type": "code",
   "execution_count": 252,
   "metadata": {},
   "outputs": [
    {
     "data": {
      "text/plain": [
       "Index(['Time_Occurred', 'Area', 'Area_Name', 'Report_District_Number',\n",
       "       'Part_Type', 'Crime_Code', 'Crime_Description', 'Victim_Sex',\n",
       "       'Victim_Descent', 'Premises_Code', 'Premises_Description',\n",
       "       'Weapon_Used_Code', 'Weapon_Description', 'Crime_Code_1', 'Location'],\n",
       "      dtype='object')"
      ]
     },
     "execution_count": 252,
     "metadata": {},
     "output_type": "execute_result"
    }
   ],
   "source": [
    "df.columns"
   ]
  },
  {
   "cell_type": "code",
   "execution_count": 254,
   "metadata": {},
   "outputs": [
    {
     "data": {
      "text/plain": [
       "(770787, 15)"
      ]
     },
     "execution_count": 254,
     "metadata": {},
     "output_type": "execute_result"
    }
   ],
   "source": [
    "df.shape"
   ]
  },
  {
   "cell_type": "code",
   "execution_count": 253,
   "metadata": {},
   "outputs": [
    {
     "name": "stdout",
     "output_type": "stream",
     "text": [
      "83.4185064935065\n"
     ]
    }
   ],
   "source": [
    "a = len(df.index)/9240\n",
    "print(a)"
   ]
  },
  {
   "cell_type": "code",
   "execution_count": 255,
   "metadata": {},
   "outputs": [
    {
     "data": {
      "text/plain": [
       "Time_Occurred             0.00\n",
       "Area                      0.00\n",
       "Area_Name                 0.00\n",
       "Report_District_Number    0.00\n",
       "Part_Type                 0.00\n",
       "Crime_Code                0.00\n",
       "Crime_Description         0.00\n",
       "Victim_Sex                0.22\n",
       "Victim_Descent            0.23\n",
       "Premises_Code             0.00\n",
       "Premises_Description      0.00\n",
       "Weapon_Used_Code          0.65\n",
       "Weapon_Description        0.65\n",
       "Crime_Code_1              0.00\n",
       "Location                  0.00\n",
       "dtype: float64"
      ]
     },
     "execution_count": 255,
     "metadata": {},
     "output_type": "execute_result"
    }
   ],
   "source": [
    "round(df.isnull().sum()/len(df.index),2)"
   ]
  },
  {
   "cell_type": "code",
   "execution_count": 256,
   "metadata": {},
   "outputs": [],
   "source": [
    "# dropping the null values in the remaiaining columns as their number is very small \n",
    "\n",
    "df.dropna(inplace = True)"
   ]
  },
  {
   "cell_type": "code",
   "execution_count": 257,
   "metadata": {},
   "outputs": [
    {
     "data": {
      "text/plain": [
       "Time_Occurred             0.0\n",
       "Area                      0.0\n",
       "Area_Name                 0.0\n",
       "Report_District_Number    0.0\n",
       "Part_Type                 0.0\n",
       "Crime_Code                0.0\n",
       "Crime_Description         0.0\n",
       "Victim_Sex                0.0\n",
       "Victim_Descent            0.0\n",
       "Premises_Code             0.0\n",
       "Premises_Description      0.0\n",
       "Weapon_Used_Code          0.0\n",
       "Weapon_Description        0.0\n",
       "Crime_Code_1              0.0\n",
       "Location                  0.0\n",
       "dtype: float64"
      ]
     },
     "execution_count": 257,
     "metadata": {},
     "output_type": "execute_result"
    }
   ],
   "source": [
    "round(df.isnull().sum()/len(df.index),2)"
   ]
  },
  {
   "cell_type": "code",
   "execution_count": 258,
   "metadata": {},
   "outputs": [
    {
     "data": {
      "text/plain": [
       "(250207, 15)"
      ]
     },
     "execution_count": 258,
     "metadata": {},
     "output_type": "execute_result"
    }
   ],
   "source": [
    "df.shape"
   ]
  },
  {
   "cell_type": "code",
   "execution_count": 260,
   "metadata": {},
   "outputs": [
    {
     "data": {
      "text/plain": [
       "0     2230\n",
       "1      330\n",
       "5       30\n",
       "10    2200\n",
       "11     955\n",
       "15     730\n",
       "16    2018\n",
       "17    1900\n",
       "19    1330\n",
       "24     700\n",
       "Name: Time_Occurred, dtype: int64"
      ]
     },
     "execution_count": 260,
     "metadata": {},
     "output_type": "execute_result"
    }
   ],
   "source": [
    "df.Time_Occurred.head(10)"
   ]
  },
  {
   "cell_type": "code",
   "execution_count": 261,
   "metadata": {},
   "outputs": [
    {
     "name": "stdout",
     "output_type": "stream",
     "text": [
      "   Time_Occurred Standard_Time\n",
      "0           2230      10:30 PM\n",
      "1            330      03:30 AM\n",
      "2             30      12:30 AM\n",
      "3           2200      10:00 PM\n",
      "4            955      09:55 AM\n",
      "5            730      07:30 AM\n",
      "6           2018      08:18 PM\n",
      "7           1900      07:00 PM\n",
      "8           1330      01:30 PM\n",
      "9            700      07:00 AM\n"
     ]
    }
   ],
   "source": [
    "import pandas as pd\n",
    "from datetime import datetime\n",
    "\n",
    "# Sample data\n",
    "data = {'Time_Occurred': [2230, 330, 30, 2200, 955, 730, 2018, 1900, 1330, 700]}\n",
    "df = pd.DataFrame(data)\n",
    "\n",
    "# Function to convert military time to standard time\n",
    "def military_to_standard(military_time):\n",
    "    military_time_str = str(military_time).zfill(4)  # Pad with zeros if needed\n",
    "    standard_time = datetime.strptime(military_time_str, '%H%M').strftime('%I:%M %p')\n",
    "    return standard_time\n",
    "\n",
    "# Apply the conversion function to the 'Time_Occurred' column\n",
    "df['Standard_Time'] = df['Time_Occurred'].apply(military_to_standard)\n",
    "\n",
    "# Display the updated DataFrame\n",
    "print(df)\n"
   ]
  }
 ],
 "metadata": {
  "kernelspec": {
   "display_name": "Python 3",
   "language": "python",
   "name": "python3"
  },
  "language_info": {
   "codemirror_mode": {
    "name": "ipython",
    "version": 3
   },
   "file_extension": ".py",
   "mimetype": "text/x-python",
   "name": "python",
   "nbconvert_exporter": "python",
   "pygments_lexer": "ipython3",
   "version": "3.9.6"
  },
  "orig_nbformat": 4
 },
 "nbformat": 4,
 "nbformat_minor": 2
}
